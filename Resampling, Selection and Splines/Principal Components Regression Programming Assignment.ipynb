{
 "cells": [
  {
   "cell_type": "markdown",
   "metadata": {
    "deletable": false,
    "editable": false,
    "nbgrader": {
     "cell_type": "markdown",
     "checksum": "e4c60ceb55c37feb9da34b632ffe8cc5",
     "grade": false,
     "grade_id": "cell-02e897a52eaf810a",
     "locked": true,
     "schema_version": 3,
     "solution": false,
     "task": false
    }
   },
   "source": [
    "# Principle Components Regression \n",
    "\n",
    "This short programming assignment will show how principal components can be used as a dimensionality reduction preprocessing step."
   ]
  },
  {
   "cell_type": "markdown",
   "metadata": {
    "deletable": false,
    "editable": false,
    "nbgrader": {
     "cell_type": "markdown",
     "checksum": "8facbf1e97ac44f490eeb1c34958bf81",
     "grade": false,
     "grade_id": "cell-a8a2a30953fa699f",
     "locked": true,
     "schema_version": 3,
     "solution": false,
     "task": false
    }
   },
   "source": [
    "You will begin by treating principal component regression as a linear model with PCA transformations in the preprocessing. But using the tidymodels framework then this is still mostly one model. Once again you begin by loading the appopriate packages and loading up the training and testing sets."
   ]
  },
  {
   "cell_type": "code",
   "execution_count": 1,
   "metadata": {
    "deletable": false,
    "editable": false,
    "nbgrader": {
     "cell_type": "code",
     "checksum": "bcd64410dab0520847701e2e6c2ac740",
     "grade": false,
     "grade_id": "cell-18e96ae78f3cc84c",
     "locked": true,
     "schema_version": 3,
     "solution": false,
     "task": false
    }
   },
   "outputs": [
    {
     "name": "stderr",
     "output_type": "stream",
     "text": [
      "── \u001b[1mAttaching packages\u001b[22m ────────────────────────────────────── tidymodels 1.1.1 ──\n",
      "\n",
      "\u001b[32m✔\u001b[39m \u001b[34mbroom       \u001b[39m 1.0.5     \u001b[32m✔\u001b[39m \u001b[34mrecipes     \u001b[39m 1.0.9\n",
      "\u001b[32m✔\u001b[39m \u001b[34mdials       \u001b[39m 1.2.0     \u001b[32m✔\u001b[39m \u001b[34mrsample     \u001b[39m 1.2.0\n",
      "\u001b[32m✔\u001b[39m \u001b[34mdplyr       \u001b[39m 1.1.4     \u001b[32m✔\u001b[39m \u001b[34mtibble      \u001b[39m 3.2.1\n",
      "\u001b[32m✔\u001b[39m \u001b[34mggplot2     \u001b[39m 3.4.4     \u001b[32m✔\u001b[39m \u001b[34mtidyr       \u001b[39m 1.3.1\n",
      "\u001b[32m✔\u001b[39m \u001b[34minfer       \u001b[39m 1.0.6     \u001b[32m✔\u001b[39m \u001b[34mtune        \u001b[39m 1.1.2\n",
      "\u001b[32m✔\u001b[39m \u001b[34mmodeldata   \u001b[39m 1.3.0     \u001b[32m✔\u001b[39m \u001b[34mworkflows   \u001b[39m 1.1.3\n",
      "\u001b[32m✔\u001b[39m \u001b[34mparsnip     \u001b[39m 1.1.1     \u001b[32m✔\u001b[39m \u001b[34mworkflowsets\u001b[39m 1.0.1\n",
      "\u001b[32m✔\u001b[39m \u001b[34mpurrr       \u001b[39m 1.0.2     \u001b[32m✔\u001b[39m \u001b[34myardstick   \u001b[39m 1.3.0\n",
      "\n",
      "── \u001b[1mConflicts\u001b[22m ───────────────────────────────────────── tidymodels_conflicts() ──\n",
      "\u001b[31m✖\u001b[39m \u001b[34mpurrr\u001b[39m::\u001b[32mdiscard()\u001b[39m masks \u001b[34mscales\u001b[39m::discard()\n",
      "\u001b[31m✖\u001b[39m \u001b[34mdplyr\u001b[39m::\u001b[32mfilter()\u001b[39m  masks \u001b[34mstats\u001b[39m::filter()\n",
      "\u001b[31m✖\u001b[39m \u001b[34mdplyr\u001b[39m::\u001b[32mlag()\u001b[39m     masks \u001b[34mstats\u001b[39m::lag()\n",
      "\u001b[31m✖\u001b[39m \u001b[34mrecipes\u001b[39m::\u001b[32mstep()\u001b[39m  masks \u001b[34mstats\u001b[39m::step()\n",
      "\u001b[34m•\u001b[39m Search for functions across packages at \u001b[32mhttps://www.tidymodels.org/find/\u001b[39m\n",
      "\n"
     ]
    }
   ],
   "source": [
    "library(tidymodels)\n",
    "library(ISLR2)\n",
    "Hitters <- as_tibble(Hitters) %>%\n",
    "  filter(!is.na(Salary))\n",
    "\n",
    "Hitters_split <- initial_split(Hitters, strata = \"Salary\")\n",
    "\n",
    "Hitters_train <- training(Hitters_split)\n",
    "Hitters_test <- testing(Hitters_split)\n",
    "\n",
    "Hitters_fold <- vfold_cv(Hitters_train, v = 10)"
   ]
  },
  {
   "cell_type": "markdown",
   "metadata": {
    "deletable": false,
    "editable": false,
    "nbgrader": {
     "cell_type": "markdown",
     "checksum": "1ca8473db25ee8eae1ac330a7be0862b",
     "grade": false,
     "grade_id": "cell-9bb71324486c24ad",
     "locked": true,
     "schema_version": 3,
     "solution": false,
     "task": false
    }
   },
   "source": [
    "You now set up the following specifications "
   ]
  },
  {
   "cell_type": "code",
   "execution_count": 2,
   "metadata": {
    "deletable": false,
    "editable": false,
    "nbgrader": {
     "cell_type": "code",
     "checksum": "0ad05e007e139d03331c44a9b6c5b827",
     "grade": false,
     "grade_id": "cell-6c1f4f7774f3e9c0",
     "locked": true,
     "schema_version": 3,
     "solution": false,
     "task": false
    }
   },
   "outputs": [],
   "source": [
    "lm_spec <- \n",
    "  linear_reg() %>% \n",
    "  set_mode(\"regression\") %>% \n",
    "  set_engine(\"lm\")"
   ]
  },
  {
   "cell_type": "markdown",
   "metadata": {
    "deletable": false,
    "editable": false,
    "nbgrader": {
     "cell_type": "markdown",
     "checksum": "f271998a2ab4c3b33873aeed9a7cff94",
     "grade": false,
     "grade_id": "cell-dedf4ea8c91c4fce",
     "locked": true,
     "schema_version": 3,
     "solution": false,
     "task": false
    }
   },
   "source": [
    "The preprocessing recipe will look like the recipe you saw in the ridge and lasso sections. The main difference is that you end the recipe with `step_pca()` which will perform `principal component analysis` on all the predictors, and return the components that explain `threshold` percent of the variance. You have set `threshold = tune()` so you can treat the threshold as a hyperparameter to be tuned. By using workflows and tune together can be tune parameters in the preprocessing as well as parameters in the models."
   ]
  },
  {
   "cell_type": "code",
   "execution_count": 3,
   "metadata": {
    "deletable": false,
    "editable": false,
    "nbgrader": {
     "cell_type": "code",
     "checksum": "d2d25a9bcc3d057e974672ed41f8b4ff",
     "grade": false,
     "grade_id": "cell-b0f81c39b6a212a8",
     "locked": true,
     "schema_version": 3,
     "solution": false,
     "task": false
    }
   },
   "outputs": [],
   "source": [
    "pca_recipe <- \n",
    "  recipe(formula = Salary ~ ., data = Hitters_train) %>% \n",
    "  step_novel(all_nominal_predictors()) %>% \n",
    "  step_dummy(all_nominal_predictors()) %>% \n",
    "  step_zv(all_predictors()) %>% \n",
    "  step_normalize(all_predictors()) %>%\n",
    "  step_pca(all_predictors(), threshold = tune())\n",
    "\n",
    "pca_workflow <- \n",
    "  workflow() %>% \n",
    "  add_recipe(pca_recipe) %>% \n",
    "  add_model(lm_spec)"
   ]
  },
  {
   "cell_type": "markdown",
   "metadata": {
    "deletable": false,
    "editable": false,
    "nbgrader": {
     "cell_type": "markdown",
     "checksum": "226d4c4156ab4ce7460ffd90ce2878ca",
     "grade": false,
     "grade_id": "cell-38ecf2e6645e09f5",
     "locked": true,
     "schema_version": 3,
     "solution": false,
     "task": false
    }
   },
   "source": [
    "Now you will create a smaller grid for threshold and we don’t need to modify the range since [0, 1] is an acceptable range. Have your outpur variable be `threshold_grid`. Use the `grid_regular` function with `10` levels. "
   ]
  },
  {
   "cell_type": "code",
   "execution_count": 4,
   "metadata": {
    "deletable": false,
    "editable": false,
    "nbgrader": {
     "cell_type": "code",
     "checksum": "f0b37e6b9978f221b77dd616b5c0160f",
     "grade": false,
     "grade_id": "cell-c97139543aad3c6b",
     "locked": true,
     "schema_version": 3,
     "solution": false,
     "task": false
    }
   },
   "outputs": [],
   "source": [
    "threshold_grid <- grid_regular(threshold(), levels = 10)"
   ]
  },
  {
   "cell_type": "markdown",
   "metadata": {
    "deletable": false,
    "editable": false,
    "nbgrader": {
     "cell_type": "markdown",
     "checksum": "a996f1630e1b5dc4a937ca665c5dda19",
     "grade": false,
     "grade_id": "cell-945f862f58c80dd1",
     "locked": true,
     "schema_version": 3,
     "solution": false,
     "task": false
    }
   },
   "source": [
    "And now you will fit using `tune_grid()`. This time you will actually perform 100 fits since you need to fit a model for each value of threshold within each fold. You will use the output variable `tune_res`. Don't forget to use the `pca_workflow` as part of your `tune_grid()`, as well as the `Hitters_fold` and `threshold_grid`. \n"
   ]
  },
  {
   "cell_type": "code",
   "execution_count": 5,
   "metadata": {
    "deletable": false,
    "nbgrader": {
     "cell_type": "code",
     "checksum": "fa84d9c850db465c8d80feea158f17b5",
     "grade": false,
     "grade_id": "cell-bca38e1d7157aafc",
     "locked": false,
     "schema_version": 3,
     "solution": true,
     "task": false
    }
   },
   "outputs": [
    {
     "name": "stdout",
     "output_type": "stream",
     "text": [
      "\u001b[90m# A tibble: 20 × 7\u001b[39m\n",
      "   threshold .metric .estimator    mean     n std_err .config              \n",
      "       \u001b[3m\u001b[90m<dbl>\u001b[39m\u001b[23m \u001b[3m\u001b[90m<chr>\u001b[39m\u001b[23m   \u001b[3m\u001b[90m<chr>\u001b[39m\u001b[23m        \u001b[3m\u001b[90m<dbl>\u001b[39m\u001b[23m \u001b[3m\u001b[90m<int>\u001b[39m\u001b[23m   \u001b[3m\u001b[90m<dbl>\u001b[39m\u001b[23m \u001b[3m\u001b[90m<fct>\u001b[39m\u001b[23m                \n",
      "\u001b[90m 1\u001b[39m     0     rmse    standard   357.       10 38.3    Preprocessor01_Model1\n",
      "\u001b[90m 2\u001b[39m     0     rsq     standard     0.454    10  0.065\u001b[4m8\u001b[24m Preprocessor01_Model1\n",
      "\u001b[90m 3\u001b[39m     0.111 rmse    standard   357.       10 38.3    Preprocessor02_Model1\n",
      "\u001b[90m 4\u001b[39m     0.111 rsq     standard     0.454    10  0.065\u001b[4m8\u001b[24m Preprocessor02_Model1\n",
      "\u001b[90m 5\u001b[39m     0.222 rmse    standard   357.       10 38.3    Preprocessor03_Model1\n",
      "\u001b[90m 6\u001b[39m     0.222 rsq     standard     0.454    10  0.065\u001b[4m8\u001b[24m Preprocessor03_Model1\n",
      "\u001b[90m 7\u001b[39m     0.333 rmse    standard   357.       10 38.3    Preprocessor04_Model1\n",
      "\u001b[90m 8\u001b[39m     0.333 rsq     standard     0.454    10  0.065\u001b[4m8\u001b[24m Preprocessor04_Model1\n",
      "\u001b[90m 9\u001b[39m     0.444 rmse    standard   354.       10 39.0    Preprocessor05_Model1\n",
      "\u001b[90m10\u001b[39m     0.444 rsq     standard     0.462    10  0.070\u001b[4m9\u001b[24m Preprocessor05_Model1\n",
      "\u001b[90m11\u001b[39m     0.556 rmse    standard   354.       10 39.0    Preprocessor06_Model1\n",
      "\u001b[90m12\u001b[39m     0.556 rsq     standard     0.462    10  0.070\u001b[4m9\u001b[24m Preprocessor06_Model1\n",
      "\u001b[90m13\u001b[39m     0.667 rmse    standard   354.       10 39.0    Preprocessor07_Model1\n",
      "\u001b[90m14\u001b[39m     0.667 rsq     standard     0.461    10  0.074\u001b[4m5\u001b[24m Preprocessor07_Model1\n",
      "\u001b[90m15\u001b[39m     0.778 rmse    standard   349.       10 38.7    Preprocessor08_Model1\n",
      "\u001b[90m16\u001b[39m     0.778 rsq     standard     0.472    10  0.082\u001b[4m7\u001b[24m Preprocessor08_Model1\n",
      "\u001b[90m17\u001b[39m     0.889 rmse    standard   346.       10 35.5    Preprocessor09_Model1\n",
      "\u001b[90m18\u001b[39m     0.889 rsq     standard     0.492    10  0.086\u001b[4m0\u001b[24m Preprocessor09_Model1\n",
      "\u001b[90m19\u001b[39m     1     rmse    standard   360.       10 36.2    Preprocessor10_Model1\n",
      "\u001b[90m20\u001b[39m     1     rsq     standard     0.454    10  0.086\u001b[4m8\u001b[24m Preprocessor10_Model1\n"
     ]
    }
   ],
   "source": [
    "# Perform tuning\n",
    "tune_res <- tune_grid(\n",
    "  pca_workflow,\n",
    "  resamples = Hitters_fold,\n",
    "  grid = threshold_grid\n",
    ")\n",
    "\n",
    "# Show tuning results\n",
    "tune_res_results <- collect_metrics(tune_res)\n",
    "print(tune_res_results)"
   ]
  },
  {
   "cell_type": "code",
   "execution_count": 6,
   "metadata": {
    "deletable": false,
    "editable": false,
    "nbgrader": {
     "cell_type": "code",
     "checksum": "57d93938904f8381333eaa6cfe3e80ab",
     "grade": true,
     "grade_id": "cell-e18e7c9b7bf8d051",
     "locked": true,
     "points": 1,
     "schema_version": 3,
     "solution": false,
     "task": false
    }
   },
   "outputs": [],
   "source": [
    "# Hidden tests\n"
   ]
  },
  {
   "attachments": {
    "faxx.png": {
     "image/png": "[encoded data removed]"
    }
   },
   "cell_type": "markdown",
   "metadata": {
    "deletable": false,
    "editable": false,
    "nbgrader": {
     "cell_type": "markdown",
     "checksum": "fd92ad85426fb6d93b55afcfa34cab35",
     "grade": false,
     "grade_id": "cell-0dda201c3874d0fc",
     "locked": true,
     "schema_version": 3,
     "solution": false,
     "task": false
    }
   },
   "source": [
    "Use the output variable `tune_res` and use the function `auto_plot` to plot your output variable. Your plot should resemble this: \n",
    "\n",
    "<div> \n",
    "    <img src=\"attachment:faxx.png\", width=500/>\n",
    "</div>\n",
    "\n"
   ]
  },
  {
   "cell_type": "code",
   "execution_count": 7,
   "metadata": {
    "deletable": false,
    "editable": false,
    "nbgrader": {
     "cell_type": "code",
     "checksum": "c408d0d022f0b5aa737426f8c22990a0",
     "grade": false,
     "grade_id": "cell-dfbb331c7746f37a",
     "locked": true,
     "schema_version": 3,
     "solution": false,
     "task": false
    }
   },
   "outputs": [
    {
     "data": {
      "image/png": "[encoded data removed]",
      "text/plain": [
       "plot without title"
      ]
     },
     "metadata": {
      "image/png": {
       "height": 420,
       "width": 420
      },
      "text/plain": {
       "height": 420,
       "width": 420
      }
     },
     "output_type": "display_data"
    }
   ],
   "source": [
    "autoplot(tune_res)"
   ]
  },
  {
   "cell_type": "markdown",
   "metadata": {
    "deletable": false,
    "editable": false,
    "nbgrader": {
     "cell_type": "markdown",
     "checksum": "23f35a33eb586598451c79481e555df9",
     "grade": false,
     "grade_id": "cell-aecaa72dda4c1301",
     "locked": true,
     "schema_version": 3,
     "solution": false,
     "task": false
    }
   },
   "source": [
    "If your graphs do not match the graphs above, review your code for `tune_res`."
   ]
  },
  {
   "cell_type": "markdown",
   "metadata": {
    "deletable": false,
    "editable": false,
    "nbgrader": {
     "cell_type": "markdown",
     "checksum": "692e1ef6e41a6b24e90861bc00ce5894",
     "grade": false,
     "grade_id": "cell-3f7af63b3abf0555",
     "locked": true,
     "schema_version": 3,
     "solution": false,
     "task": false
    }
   },
   "source": [
    "Select the best model using the `select_best()` function. Have your output variable be `best_threshold`. This time, you should use \"rmse\" for your metric."
   ]
  },
  {
   "cell_type": "code",
   "execution_count": 8,
   "metadata": {
    "deletable": false,
    "nbgrader": {
     "cell_type": "code",
     "checksum": "ffd3b021b3296da4ed0130d93f5024ba",
     "grade": false,
     "grade_id": "cell-5af2a2b828e0a590",
     "locked": false,
     "schema_version": 3,
     "solution": true,
     "task": false
    }
   },
   "outputs": [
    {
     "name": "stdout",
     "output_type": "stream",
     "text": [
      "\u001b[90m# A tibble: 1 × 2\u001b[39m\n",
      "  threshold .config              \n",
      "      \u001b[3m\u001b[90m<dbl>\u001b[39m\u001b[23m \u001b[3m\u001b[90m<fct>\u001b[39m\u001b[23m                \n",
      "\u001b[90m1\u001b[39m     0.889 Preprocessor09_Model1\n"
     ]
    }
   ],
   "source": [
    "# Get the best threshold value\n",
    "best_threshold <- select_best(tune_res, \"rmse\")\n",
    "print(best_threshold)"
   ]
  },
  {
   "cell_type": "code",
   "execution_count": null,
   "metadata": {
    "deletable": false,
    "editable": false,
    "nbgrader": {
     "cell_type": "code",
     "checksum": "5a6e6601e5b670204d2c748320652841",
     "grade": true,
     "grade_id": "cell-ccde67b642f25131",
     "locked": true,
     "points": 2,
     "schema_version": 3,
     "solution": false,
     "task": false
    }
   },
   "outputs": [],
   "source": []
  },
  {
   "cell_type": "markdown",
   "metadata": {
    "deletable": false,
    "editable": false,
    "nbgrader": {
     "cell_type": "markdown",
     "checksum": "82deda643a7f8cbb07cb00e7a9c10ab4",
     "grade": false,
     "grade_id": "cell-634a48296129efda",
     "locked": true,
     "schema_version": 3,
     "solution": false,
     "task": false
    }
   },
   "source": [
    "Your final step now is going to be to fit the model much like have done a couple of times by now. The workflow is finalized using the value we selected with `select_best()`, and training using the full training data set. Your first output variable should be `pca_final` in conjunction with the function `finalize_workflow()`. Your second output variable should be `pca_final_fit` in conjunction with the function `fit`. "
   ]
  },
  {
   "cell_type": "code",
   "execution_count": 9,
   "metadata": {
    "deletable": false,
    "nbgrader": {
     "cell_type": "code",
     "checksum": "3cf118ee57737df5ccaddade1563ecc0",
     "grade": false,
     "grade_id": "cell-bf272371859e8346",
     "locked": false,
     "schema_version": 3,
     "solution": true,
     "task": false
    }
   },
   "outputs": [
    {
     "name": "stdout",
     "output_type": "stream",
     "text": [
      "══ Workflow ════════════════════════════════════════════════════════════════════\n",
      "\u001b[3mPreprocessor:\u001b[23m Recipe\n",
      "\u001b[3mModel:\u001b[23m linear_reg()\n",
      "\n",
      "── Preprocessor ────────────────────────────────────────────────────────────────\n",
      "5 Recipe Steps\n",
      "\n",
      "• step_novel()\n",
      "• step_dummy()\n",
      "• step_zv()\n",
      "• step_normalize()\n",
      "• step_pca()\n",
      "\n",
      "── Model ───────────────────────────────────────────────────────────────────────\n",
      "Linear Regression Model Specification (regression)\n",
      "\n",
      "Computational engine: lm \n",
      "\n",
      "══ Workflow [trained] ══════════════════════════════════════════════════════════\n",
      "\u001b[3mPreprocessor:\u001b[23m Recipe\n",
      "\u001b[3mModel:\u001b[23m linear_reg()\n",
      "\n",
      "── Preprocessor ────────────────────────────────────────────────────────────────\n",
      "5 Recipe Steps\n",
      "\n",
      "• step_novel()\n",
      "• step_dummy()\n",
      "• step_zv()\n",
      "• step_normalize()\n",
      "• step_pca()\n",
      "\n",
      "── Model ───────────────────────────────────────────────────────────────────────\n",
      "\n",
      "Call:\n",
      "stats::lm(formula = ..y ~ ., data = data)\n",
      "\n",
      "Coefficients:\n",
      "(Intercept)          PC1          PC2          PC3          PC4          PC5  \n",
      "     543.71       105.93        24.21       -21.02       -53.08        74.91  \n",
      "        PC6  \n",
      "     -39.33  \n",
      "\n"
     ]
    }
   ],
   "source": [
    "# Finalize the workflow with the best threshold\n",
    "pca_final <- finalize_workflow(\n",
    "  pca_workflow,\n",
    "  best_threshold\n",
    ")\n",
    "\n",
    "# Fit the final model on the full training set\n",
    "pca_final_fit <- fit(pca_final, data = Hitters_train)\n",
    "\n",
    "# Output variables\n",
    "print(pca_final)\n",
    "print(pca_final_fit)"
   ]
  },
  {
   "cell_type": "code",
   "execution_count": null,
   "metadata": {
    "deletable": false,
    "editable": false,
    "nbgrader": {
     "cell_type": "code",
     "checksum": "d696c5ab9053d54565b75f03a3285ab9",
     "grade": true,
     "grade_id": "cell-2ad925517d5c396f",
     "locked": true,
     "points": 2,
     "schema_version": 3,
     "solution": false,
     "task": false
    }
   },
   "outputs": [],
   "source": []
  },
  {
   "cell_type": "code",
   "execution_count": null,
   "metadata": {},
   "outputs": [],
   "source": []
  }
 ],
 "metadata": {
  "kernelspec": {
   "display_name": "R",
   "language": "R",
   "name": "ir"
  },
  "language_info": {
   "codemirror_mode": "r",
   "file_extension": ".r",
   "mimetype": "text/x-r-source",
   "name": "R",
   "pygments_lexer": "r",
   "version": "3.6.3"
  }
 },
 "nbformat": 4,
 "nbformat_minor": 5
}
