{
 "cells": [
  {
   "cell_type": "markdown",
   "metadata": {
    "deletable": false,
    "editable": false,
    "nbgrader": {
     "cell_type": "markdown",
     "checksum": "fbdc672969778fd47b4901b66578dbca",
     "grade": false,
     "grade_id": "cell-f6e9def5125ca5a5",
     "locked": true,
     "schema_version": 3,
     "solution": false,
     "task": false
    }
   },
   "source": [
    "### Generalized Least Squares Lab"
   ]
  },
  {
   "cell_type": "markdown",
   "metadata": {
    "deletable": false,
    "editable": false,
    "nbgrader": {
     "cell_type": "markdown",
     "checksum": "3ddc5d1320c95689ab6632fdb36ec997",
     "grade": false,
     "grade_id": "cell-8bcc708cd815e1f7",
     "locked": true,
     "schema_version": 3,
     "solution": false,
     "task": false
    }
   },
   "source": [
    "In this lab, you will fit a GLS model to a data set from the chemical and taste analysis of cheddar cheese. To begin, import the data set below."
   ]
  },
  {
   "cell_type": "code",
   "execution_count": 1,
   "metadata": {
    "deletable": false,
    "editable": false,
    "nbgrader": {
     "cell_type": "code",
     "checksum": "0e31924f84b3908d10baf8f5a10b4705",
     "grade": false,
     "grade_id": "cell-fb8f269edddf562f",
     "locked": true,
     "schema_version": 3,
     "solution": false,
     "task": false
    }
   },
   "outputs": [],
   "source": [
    "load('cheddar.rda')\n",
    "cheddar <- cheddar"
   ]
  },
  {
   "cell_type": "markdown",
   "metadata": {
    "deletable": false,
    "editable": false,
    "nbgrader": {
     "cell_type": "markdown",
     "checksum": "6491c09fae3f1f88c4991bd82d6873c9",
     "grade": false,
     "grade_id": "cell-e5345e28dc46fad9",
     "locked": true,
     "schema_version": 3,
     "solution": false,
     "task": false
    }
   },
   "source": [
    "We will then add a new column, `time`, to the data. "
   ]
  },
  {
   "cell_type": "code",
   "execution_count": 2,
   "metadata": {
    "deletable": false,
    "editable": false,
    "nbgrader": {
     "cell_type": "code",
     "checksum": "bbd6d2fec75edd53f8cb2da55a773160",
     "grade": false,
     "grade_id": "cell-041f30d81b0f74c6",
     "locked": true,
     "schema_version": 3,
     "solution": false,
     "task": false
    }
   },
   "outputs": [],
   "source": [
    "cheddar$time <- 1: nrow(cheddar)"
   ]
  },
  {
   "cell_type": "markdown",
   "metadata": {
    "deletable": false,
    "editable": false,
    "nbgrader": {
     "cell_type": "markdown",
     "checksum": "5d29e79fcf5145633008d8f09763acfa",
     "grade": false,
     "grade_id": "cell-521192ec63464192",
     "locked": true,
     "schema_version": 3,
     "solution": false,
     "task": false
    }
   },
   "source": [
    "Now, fit a linear model predicting taste using data for `Acetic`, `H2S`, and `Lactic`. Save your model to `lmod`."
   ]
  },
  {
   "cell_type": "code",
   "execution_count": 3,
   "metadata": {
    "deletable": false,
    "nbgrader": {
     "cell_type": "code",
     "checksum": "012a58151770acebb7efc63e5021c3cf",
     "grade": false,
     "grade_id": "cell-f796ed5e76a933d9",
     "locked": false,
     "schema_version": 3,
     "solution": true,
     "task": false
    }
   },
   "outputs": [
    {
     "data": {
      "text/plain": [
       "\n",
       "Call:\n",
       "lm(formula = taste ~ Acetic + H2S + Lactic, data = cheddar)\n",
       "\n",
       "Residuals:\n",
       "    Min      1Q  Median      3Q     Max \n",
       "-17.390  -6.612  -1.009   4.908  25.449 \n",
       "\n",
       "Coefficients:\n",
       "            Estimate Std. Error t value Pr(>|t|)   \n",
       "(Intercept) -28.8768    19.7354  -1.463  0.15540   \n",
       "Acetic        0.3277     4.4598   0.073  0.94198   \n",
       "H2S           3.9118     1.2484   3.133  0.00425 **\n",
       "Lactic       19.6705     8.6291   2.280  0.03108 * \n",
       "---\n",
       "Signif. codes:  0 ‘***’ 0.001 ‘**’ 0.01 ‘*’ 0.05 ‘.’ 0.1 ‘ ’ 1\n",
       "\n",
       "Residual standard error: 10.13 on 26 degrees of freedom\n",
       "Multiple R-squared:  0.6518,\tAdjusted R-squared:  0.6116 \n",
       "F-statistic: 16.22 on 3 and 26 DF,  p-value: 3.81e-06\n"
      ]
     },
     "metadata": {},
     "output_type": "display_data"
    }
   ],
   "source": [
    "# Fit a linear model predicting taste using Acetic, H2S, and Lactic\n",
    "lmod <- lm(taste ~ Acetic + H2S + Lactic, data = cheddar)\n",
    "\n",
    "# Print the summary of the linear model\n",
    "summary(lmod)"
   ]
  },
  {
   "cell_type": "code",
   "execution_count": null,
   "metadata": {
    "deletable": false,
    "editable": false,
    "nbgrader": {
     "cell_type": "code",
     "checksum": "4629d4c3349e5e5b1e8ba0ca0bfaadd3",
     "grade": true,
     "grade_id": "cell-bed8225b89de4118",
     "locked": true,
     "points": 1,
     "schema_version": 3,
     "solution": false,
     "task": false
    }
   },
   "outputs": [],
   "source": []
  },
  {
   "cell_type": "markdown",
   "metadata": {
    "deletable": false,
    "editable": false,
    "nbgrader": {
     "cell_type": "markdown",
     "checksum": "3cb6bdcb81e6b2431ce9f8bcff888dc7",
     "grade": false,
     "grade_id": "cell-a32cd126b66f39e8",
     "locked": true,
     "schema_version": 3,
     "solution": false,
     "task": false
    }
   },
   "source": [
    "Now, plot the residuals from the model against time using `plot()`. What do you see? "
   ]
  },
  {
   "cell_type": "code",
   "execution_count": 4,
   "metadata": {
    "deletable": false,
    "nbgrader": {
     "cell_type": "code",
     "checksum": "60a88f68cbe17c58f3ecc0c4a14d9f14",
     "grade": false,
     "grade_id": "cell-bc176288c23c2ea8",
     "locked": false,
     "schema_version": 3,
     "solution": true,
     "task": false
    }
   },
   "outputs": [
    {
     "data": {
      "text/plain": [
       "NULL"
      ]
     },
     "metadata": {},
     "output_type": "display_data"
    },
    {
     "data": {
      "image/png": "[encoded data removed]",
      "text/plain": [
       "Plot with title “Residuals vs Time”"
      ]
     },
     "metadata": {
      "image/png": {
       "height": 420,
       "width": 420
      },
      "text/plain": {
       "height": 420,
       "width": 420
      }
     },
     "output_type": "display_data"
    }
   ],
   "source": [
    "# Plot the residuals from the model against time\n",
    "model_plot <- plot(cheddar$time, resid(lmod), xlab = \"Time\", ylab = \"Residuals\", main = \"Residuals vs Time\")\n",
    "\n",
    "model_plot"
   ]
  },
  {
   "cell_type": "code",
   "execution_count": null,
   "metadata": {
    "deletable": false,
    "editable": false,
    "nbgrader": {
     "cell_type": "code",
     "checksum": "b61a1e6aa87deafebc0c7b6a71685407",
     "grade": true,
     "grade_id": "cell-ae2c9e65607c7fa3",
     "locked": true,
     "points": 1,
     "schema_version": 3,
     "solution": false,
     "task": false
    }
   },
   "outputs": [],
   "source": []
  },
  {
   "cell_type": "markdown",
   "metadata": {
    "deletable": false,
    "editable": false,
    "nbgrader": {
     "cell_type": "markdown",
     "checksum": "44a5d9648b27b7a9a602deeb1f1891a4",
     "grade": false,
     "grade_id": "cell-f2a3e1b9fb72bbda",
     "locked": true,
     "schema_version": 3,
     "solution": false,
     "task": false
    }
   },
   "source": [
    "Finally, fit a GLS model using AR(1) correlation. Is there evidence of correlation between the errors? Calculate the confidence interval on that using the `intervals` function."
   ]
  },
  {
   "cell_type": "code",
   "execution_count": 5,
   "metadata": {
    "deletable": false,
    "nbgrader": {
     "cell_type": "code",
     "checksum": "2ab648ec55453049652b03685c66dbf8",
     "grade": false,
     "grade_id": "cell-0124a63c7a2e5984",
     "locked": false,
     "schema_version": 3,
     "solution": true,
     "task": false
    }
   },
   "outputs": [
    {
     "data": {
      "text/plain": [
       "Generalized least squares fit by REML\n",
       "  Model: taste ~ Acetic + H2S + Lactic \n",
       "  Data: cheddar \n",
       "     AIC      BIC  logLik\n",
       "  214.94 222.4886 -101.47\n",
       "\n",
       "Correlation Structure: AR(1)\n",
       " Formula: ~time \n",
       " Parameter estimate(s):\n",
       "      Phi \n",
       "0.2641944 \n",
       "\n",
       "Coefficients:\n",
       "                 Value Std.Error   t-value p-value\n",
       "(Intercept) -30.332472 20.273077 -1.496195  0.1466\n",
       "Acetic        1.436411  4.876581  0.294553  0.7707\n",
       "H2S           4.058880  1.314283  3.088284  0.0047\n",
       "Lactic       15.826468  9.235404  1.713674  0.0985\n",
       "\n",
       " Correlation: \n",
       "       (Intr) Acetic H2S   \n",
       "Acetic -0.899              \n",
       "H2S     0.424 -0.395       \n",
       "Lactic  0.063 -0.416 -0.435\n",
       "\n",
       "Standardized residuals:\n",
       "        Min          Q1         Med          Q3         Max \n",
       "-1.64546468 -0.63861716 -0.06641714  0.52255676  2.41323020 \n",
       "\n",
       "Residual standard error: 10.33276 \n",
       "Degrees of freedom: 30 total; 26 residual"
      ]
     },
     "metadata": {},
     "output_type": "display_data"
    },
    {
     "name": "stdout",
     "output_type": "stream",
     "text": [
      "Approximate 95% confidence intervals\n",
      "\n",
      " Coefficients:\n",
      "                 lower       est.     upper\n",
      "(Intercept) -72.004379 -30.332472 11.339436\n",
      "Acetic       -8.587544   1.436411 11.460367\n",
      "H2S           1.357332   4.058880  6.760427\n",
      "Lactic       -3.157177  15.826468 34.810113\n",
      "attr(,\"label\")\n",
      "[1] \"Coefficients:\"\n",
      "\n",
      " Correlation structure:\n",
      "         lower      est.     upper\n",
      "Phi -0.1691911 0.2641944 0.6119659\n",
      "attr(,\"label\")\n",
      "[1] \"Correlation structure:\"\n",
      "\n",
      " Residual standard error:\n",
      "    lower      est.     upper \n",
      " 7.626315 10.332756 13.999664 \n"
     ]
    }
   ],
   "source": [
    "# Load the necessary library\n",
    "library(nlme)\n",
    "\n",
    "# Fit a GLS model with AR(1) correlation\n",
    "glmod <- gls(taste ~ Acetic + H2S + Lactic, \n",
    "             data = cheddar, \n",
    "             correlation = corAR1(form = ~ time))\n",
    "\n",
    "# Print the summary of the GLS model\n",
    "summary(glmod)\n",
    "\n",
    "# Calculate the confidence intervals for the GLS model parameters\n",
    "glmod_intervals <- intervals(glmod)\n",
    "\n",
    "# Print the confidence intervals\n",
    "print(glmod_intervals)\n"
   ]
  },
  {
   "cell_type": "code",
   "execution_count": 6,
   "metadata": {
    "deletable": false,
    "nbgrader": {
     "cell_type": "code",
     "checksum": "cc95b7ccf9ba5cb70318be125add65ea",
     "grade": false,
     "grade_id": "cell-558616b9af44adef",
     "locked": false,
     "schema_version": 3,
     "solution": true,
     "task": false
    }
   },
   "outputs": [],
   "source": [
    "# your code here\n"
   ]
  }
 ],
 "metadata": {
  "kernelspec": {
   "display_name": "R",
   "language": "R",
   "name": "ir"
  },
  "language_info": {
   "codemirror_mode": "r",
   "file_extension": ".r",
   "mimetype": "text/x-r-source",
   "name": "R",
   "pygments_lexer": "r",
   "version": "3.6.3"
  }
 },
 "nbformat": 4,
 "nbformat_minor": 4
}
