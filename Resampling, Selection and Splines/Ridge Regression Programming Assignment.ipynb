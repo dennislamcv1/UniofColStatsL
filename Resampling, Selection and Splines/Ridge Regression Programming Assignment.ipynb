{
 "cells": [
  {
   "cell_type": "markdown",
   "metadata": {
    "deletable": false,
    "editable": false,
    "nbgrader": {
     "cell_type": "markdown",
     "checksum": "d19c30bd6fdf397dd34c68c8987828a6",
     "grade": false,
     "grade_id": "cell-fa8c9f208dc55e16",
     "locked": true,
     "schema_version": 3,
     "solution": false,
     "task": false
    }
   },
   "source": [
    "### Linear Model Selection and Regularization"
   ]
  },
  {
   "cell_type": "markdown",
   "metadata": {
    "deletable": false,
    "editable": false,
    "nbgrader": {
     "cell_type": "markdown",
     "checksum": "ca98e0fe65c308246844cec0f2fda61e",
     "grade": false,
     "grade_id": "cell-38f655eda540f8f5",
     "locked": true,
     "schema_version": 3,
     "solution": false,
     "task": false
    }
   },
   "source": [
    "This programming assignment will use the `Tidy Models` platform. It will take a look at regularization models and hyperparameter tuning. These models contain a regularization term. This assignment will use [parsnip](https://www.tidymodels.org/start/models/) for model fitting and [recipes and workflows](https://www.tidymodels.org/start/recipes/) to perform the transformations, and [tune and dials](https://www.tidymodels.org/start/tuning/) to tune the hyperparameters of the model.\n",
    "\n",
    "You will be using the `Hitters` data set from the `ISLR` package. You wish to predict the baseball players `Salary` based on several different characteristics which are included in the data set. \n",
    "\n",
    "Since you wish to predict `Salary`, then you need to remove any missing data from that column. Otherwise, you won't be able to run the models.\n",
    "\n",
    "**Set output as** `Hitters` "
   ]
  },
  {
   "cell_type": "code",
   "execution_count": null,
   "metadata": {
    "deletable": false,
    "nbgrader": {
     "cell_type": "code",
     "checksum": "d6f81d6cb6df6250f11f5a3d2fe06a20",
     "grade": false,
     "grade_id": "cell-1e513d03cb81c849",
     "locked": false,
     "schema_version": 3,
     "solution": true,
     "task": false
    }
   },
   "outputs": [],
   "source": [
    "library(tidymodels)\n",
    "library(ISLR2)\n",
    "\n",
    "# Your code here\n",
    "# Hitters <- \n",
    "\n",
    "# your code here\n"
   ]
  },
  {
   "cell_type": "code",
   "execution_count": null,
   "metadata": {
    "deletable": false,
    "editable": false,
    "nbgrader": {
     "cell_type": "code",
     "checksum": "e0c037eec3831b9b8c6ab60b98f5d0ae",
     "grade": true,
     "grade_id": "cell-fe6741d03449f940",
     "locked": true,
     "points": 1,
     "schema_version": 3,
     "solution": false,
     "task": false
    }
   },
   "outputs": [],
   "source": [
    "# Hidden Tests"
   ]
  },
  {
   "cell_type": "markdown",
   "metadata": {
    "deletable": false,
    "editable": false,
    "nbgrader": {
     "cell_type": "markdown",
     "checksum": "f09d269c304bdee35c88691e0fd7d13f",
     "grade": false,
     "grade_id": "cell-91f32cd77f321169",
     "locked": true,
     "schema_version": 3,
     "solution": false,
     "task": false
    }
   },
   "source": [
    "You will use the `glmnet` package to perform **ridge regression**. `parsnip` does not have a dedicated function to create a ridge regression model specification. You need to use `linear_reg()` and set `mixture = 0` to specify a ridge model. The `mixture` argument specifies the amount of different types of regularization, `mixture = 0` specifies only **ridge regularization** and `mixture = 1` specifies only **lasso regularization**. \n",
    "\n",
    "Setting `mixture` to a value between 0 and 1 lets us use both. When using the `glmnet` engine you also need to set a `penalty` to be able to fit the model. You will set this value to `0` for now, it is not the best value, but you will look at how to select the best value in a little bit."
   ]
  },
  {
   "cell_type": "code",
   "execution_count": null,
   "metadata": {
    "deletable": false,
    "editable": false,
    "nbgrader": {
     "cell_type": "code",
     "checksum": "0e65b417c0080e0df5b990e4f6c4fafa",
     "grade": false,
     "grade_id": "cell-b41afcc7f31ef514",
     "locked": true,
     "schema_version": 3,
     "solution": false,
     "task": false
    }
   },
   "outputs": [],
   "source": [
    "ridge_spec <- linear_reg(mixture = 0, penalty = 0) %>%\n",
    "  set_mode(\"regression\") %>%\n",
    "  set_engine(\"glmnet\")"
   ]
  },
  {
   "cell_type": "markdown",
   "metadata": {
    "deletable": false,
    "editable": false,
    "nbgrader": {
     "cell_type": "markdown",
     "checksum": "80cb930431a89b809905790a6cb69263",
     "grade": false,
     "grade_id": "cell-b2e05310215cfafd",
     "locked": true,
     "schema_version": 3,
     "solution": false,
     "task": false
    }
   },
   "source": [
    "Once the specification is created you can fit it to you data. You will use all the predictors. Use the `fit` function here. "
   ]
  },
  {
   "cell_type": "code",
   "execution_count": null,
   "metadata": {
    "deletable": false,
    "editable": false,
    "nbgrader": {
     "cell_type": "code",
     "checksum": "b1b90a3f8716e7732f486b48225bac7e",
     "grade": false,
     "grade_id": "cell-2621b9ede340e901",
     "locked": true,
     "schema_version": 3,
     "solution": false,
     "task": false
    }
   },
   "outputs": [],
   "source": [
    "ridge_fit <- fit(ridge_spec, Salary ~ ., data = Hitters)"
   ]
  },
  {
   "cell_type": "markdown",
   "metadata": {
    "deletable": false,
    "editable": false,
    "nbgrader": {
     "cell_type": "markdown",
     "checksum": "f4faa5026f54c88774fe3e6cfb858b88",
     "grade": false,
     "grade_id": "cell-92d0498c27a88c40",
     "locked": true,
     "schema_version": 3,
     "solution": false,
     "task": false
    }
   },
   "source": [
    "The `glmnet` package will fit the model for all values of `penalty` at once, so you can now see see what the parameter estimate for the model is now that you have `penalty = 0`. You can use the `tidy` function to accomplish this specific  task. "
   ]
  },
  {
   "cell_type": "code",
   "execution_count": null,
   "metadata": {
    "deletable": false,
    "editable": false,
    "nbgrader": {
     "cell_type": "code",
     "checksum": "e4f40075178b5fb0908717e4973e86c4",
     "grade": false,
     "grade_id": "cell-312ddae5ace72440",
     "locked": true,
     "schema_version": 3,
     "solution": false,
     "task": false
    }
   },
   "outputs": [],
   "source": [
    "tidy(ridge_fit)"
   ]
  },
  {
   "cell_type": "markdown",
   "metadata": {
    "deletable": false,
    "editable": false,
    "nbgrader": {
     "cell_type": "markdown",
     "checksum": "9466edac9cb87b1b52d22837775fcd48",
     "grade": false,
     "grade_id": "cell-5724b06e76e61415",
     "locked": true,
     "schema_version": 3,
     "solution": false,
     "task": false
    }
   },
   "source": [
    "Let us instead see what the estimates would be if the penalty was `11498`. Store your output to `tidy2`. What do you notice?  "
   ]
  },
  {
   "cell_type": "code",
   "execution_count": null,
   "metadata": {
    "deletable": false,
    "nbgrader": {
     "cell_type": "code",
     "checksum": "9463ee8dcc32bda2181da2ada40ff270",
     "grade": false,
     "grade_id": "cell-99ef8a325d97edf7",
     "locked": false,
     "schema_version": 3,
     "solution": true,
     "task": false
    }
   },
   "outputs": [],
   "source": [
    "# Your code here \n",
    "\n",
    "# tidy2 <- \n",
    "\n",
    "\n",
    "# your code here\n"
   ]
  },
  {
   "cell_type": "code",
   "execution_count": null,
   "metadata": {
    "deletable": false,
    "editable": false,
    "nbgrader": {
     "cell_type": "code",
     "checksum": "59ee543c7e45438f5fa9f977d03e9682",
     "grade": true,
     "grade_id": "cell-8e05b242ee24117f",
     "locked": true,
     "points": 1,
     "schema_version": 3,
     "solution": false,
     "task": false
    }
   },
   "outputs": [],
   "source": [
    "# Hidden Tests"
   ]
  },
  {
   "cell_type": "markdown",
   "metadata": {
    "deletable": false,
    "editable": false,
    "nbgrader": {
     "cell_type": "markdown",
     "checksum": "90ace8a3d8bb7a02fbde4935c1daa206",
     "grade": false,
     "grade_id": "cell-2d04cd1be838c4e2",
     "locked": true,
     "schema_version": 3,
     "solution": false,
     "task": false
    }
   },
   "source": [
    "Look below at the parameter estimates for `penalty = 705`. Store your output to `tidy3`. Once again, use the `tidy` function to accomplish this task. "
   ]
  },
  {
   "cell_type": "code",
   "execution_count": null,
   "metadata": {
    "deletable": false,
    "nbgrader": {
     "cell_type": "code",
     "checksum": "26553114e0dd128f714c064904d27d20",
     "grade": false,
     "grade_id": "cell-4b7ba595bbd14b35",
     "locked": false,
     "schema_version": 3,
     "solution": true,
     "task": false
    }
   },
   "outputs": [],
   "source": [
    "# Your code here \n",
    "\n",
    "# tidy3 <- \n",
    "\n",
    "\n",
    "# your code here\n"
   ]
  },
  {
   "cell_type": "code",
   "execution_count": null,
   "metadata": {
    "deletable": false,
    "editable": false,
    "nbgrader": {
     "cell_type": "code",
     "checksum": "a397db0877bc9a717079ea03a98fb4a5",
     "grade": true,
     "grade_id": "cell-3466a2b46607f649",
     "locked": true,
     "points": 1,
     "schema_version": 3,
     "solution": false,
     "task": false
    }
   },
   "outputs": [],
   "source": [
    "# Hidden Tests"
   ]
  },
  {
   "attachments": {
    "output%20image.png": {
     "image/png": "[encoded data removed]"
    }
   },
   "cell_type": "markdown",
   "metadata": {
    "deletable": false,
    "editable": false,
    "nbgrader": {
     "cell_type": "markdown",
     "checksum": "a774a51489aa194c3071fa8d4b85423b",
     "grade": false,
     "grade_id": "cell-41307fcbc0f4b0ae",
     "locked": true,
     "schema_version": 3,
     "solution": false,
     "task": false
    }
   },
   "source": [
    "You can visualize how the magnitude of the coefficients are being regularized towards zero as the penalty goes up. Use the `autoplot()` function to accomplish this task. **Output variable here is** `ridge_fit`. Your image should look like this: \n",
    "\n",
    "<div>\n",
    "<img src=\"attachment:output%20image.png\" width=\"500\"/>\n",
    "</div>\n"
   ]
  },
  {
   "cell_type": "code",
   "execution_count": null,
   "metadata": {
    "deletable": false,
    "editable": false,
    "nbgrader": {
     "cell_type": "code",
     "checksum": "2d2fb963a999ffcde1cc7081da70628c",
     "grade": false,
     "grade_id": "cell-3ad640c9f1191763",
     "locked": true,
     "schema_version": 3,
     "solution": false,
     "task": false
    }
   },
   "outputs": [],
   "source": [
    "ridge_fit <- %>% autoplot()"
   ]
  },
  {
   "cell_type": "markdown",
   "metadata": {
    "deletable": false,
    "editable": false,
    "nbgrader": {
     "cell_type": "markdown",
     "checksum": "da1c3c3e918b602b11c74b0a24b9a9e1",
     "grade": false,
     "grade_id": "cell-26bf1c32da3c98ff",
     "locked": true,
     "schema_version": 3,
     "solution": false,
     "task": false
    }
   },
   "source": [
    "Prediction is done like normal, if you use `predict()` by itself, then `penalty = 0` as you set in the model specification is used."
   ]
  },
  {
   "cell_type": "code",
   "execution_count": null,
   "metadata": {
    "deletable": false,
    "editable": false,
    "nbgrader": {
     "cell_type": "code",
     "checksum": "39cfcd8b401d1ac21b396950d3d73376",
     "grade": false,
     "grade_id": "cell-00a050726bdf5a89",
     "locked": true,
     "schema_version": 3,
     "solution": false,
     "task": false
    }
   },
   "outputs": [],
   "source": [
    "predict(ridge_fit, new_data = Hitters)"
   ]
  },
  {
   "cell_type": "markdown",
   "metadata": {
    "deletable": false,
    "editable": false,
    "nbgrader": {
     "cell_type": "markdown",
     "checksum": "dc5e83512d60207195b6f61da16a9483",
     "grade": false,
     "grade_id": "cell-2f2aeb4aa706819f",
     "locked": true,
     "schema_version": 3,
     "solution": false,
     "task": false
    }
   },
   "source": [
    "But you can also get predictions for other values of `penalty` by specifying it in `predict()`. Test with a value of `500`. Store your output to `predict_500`\n"
   ]
  },
  {
   "cell_type": "code",
   "execution_count": null,
   "metadata": {
    "deletable": false,
    "nbgrader": {
     "cell_type": "code",
     "checksum": "183aa6195ffd9afed309e7e354e4ce79",
     "grade": false,
     "grade_id": "cell-ec04351caf3d6022",
     "locked": false,
     "schema_version": 3,
     "solution": true,
     "task": false
    }
   },
   "outputs": [],
   "source": [
    "# Your code here \n",
    "\n",
    "# predict_500 <- \n",
    "\n",
    "# your code here\n"
   ]
  },
  {
   "cell_type": "code",
   "execution_count": null,
   "metadata": {
    "deletable": false,
    "editable": false,
    "nbgrader": {
     "cell_type": "code",
     "checksum": "64e632c8b5992804aad59908c5e349e7",
     "grade": true,
     "grade_id": "cell-418da39ec39c889d",
     "locked": true,
     "points": 1,
     "schema_version": 3,
     "solution": false,
     "task": false
    }
   },
   "outputs": [],
   "source": [
    "# Hidden Tests"
   ]
  },
  {
   "cell_type": "markdown",
   "metadata": {
    "deletable": false,
    "editable": false,
    "nbgrader": {
     "cell_type": "markdown",
     "checksum": "e70cf2016aadd7b1f5d2f119654f7299",
     "grade": false,
     "grade_id": "cell-158058de07eb5fd5",
     "locked": true,
     "schema_version": 3,
     "solution": false,
     "task": false
    }
   },
   "source": [
    "You saw how we can fit a ridge model and make predictions for different values of `penalty`. But it would be great if you could find the \"best\" value of the penalty. This is something you can use **hyperparameter** tuning for. Hyperparameter tuning is in its simplest form a way of fitting many models with different sets of hyperparameters trying to find one that performs \"best\".\n",
    "\n",
    "The complexity in hyperparameter tuning can come from how you try different models. You will keep it simple for this lab and only look at grid search, only looking at evenly spaced parameter values. This is a fine enough approach if you have one or two tunable parameters but can become computationally infeasible. \n",
    "\n",
    "See the chapter on [iterative search](https://www.tmwr.org/iterative-search.html) from [Tidy Modeling with R](https://www.tmwr.org/) for more information.\n",
    "\n",
    "You begin like normal by setting up a validation split (testing and training set). A **K-fold cross-validation data set** is created on the training data set with 10 folds."
   ]
  },
  {
   "cell_type": "code",
   "execution_count": null,
   "metadata": {
    "deletable": false,
    "editable": false,
    "nbgrader": {
     "cell_type": "code",
     "checksum": "42f53611ea556db3b2e9b78eb2d378fb",
     "grade": false,
     "grade_id": "cell-6d08b8bc39067f6a",
     "locked": true,
     "schema_version": 3,
     "solution": false,
     "task": false
    }
   },
   "outputs": [],
   "source": [
    "Hitters_split <- initial_split(Hitters, strata = \"Salary\")\n",
    "Hitters_train <- training(Hitters_split)\n",
    "Hitters_test <- testing(Hitters_split)\n",
    "Hitters_fold <- vfold_cv(Hitters_train, v = 10)"
   ]
  },
  {
   "cell_type": "markdown",
   "metadata": {
    "deletable": false,
    "editable": false,
    "nbgrader": {
     "cell_type": "markdown",
     "checksum": "775244d4b5c566db6716da0a05a1a682",
     "grade": false,
     "grade_id": "cell-8acba92c1439ac0d",
     "locked": true,
     "schema_version": 3,
     "solution": false,
     "task": false
    }
   },
   "source": [
    "You can use the `tune_grid()` function to perform hyperparameter tuning using a grid search. `tune_grid()` needs 3 different things;\n",
    "\n",
    "-   a `workflow` object containing the model and preprocessor,\n",
    "-   a `rset` object containing the resamples the `workflow` should be fitted within, and\n",
    "-   a `tibble` containing the parameter values to be evaluated.\n",
    "\n",
    "Optionally a metric set of performance metrics can be supplied for evaluation. If you don't set one then a default set of performance metrics is used.\n",
    "\n",
    "You already have a resample object created in `Hitters_fold`. Now you should create the workflow specification next.\n",
    "\n",
    "You just used the data set as is when you fit the model earlier. However, **ridge regression** is scale sensitive so you need to make sure that the variables are on the same scale. You can use `step_normalize()`. Secondly you can deal with the factor variables yourself using `step_novel()` and `step_dummy()`. "
   ]
  },
  {
   "cell_type": "code",
   "execution_count": null,
   "metadata": {
    "deletable": false,
    "editable": false,
    "nbgrader": {
     "cell_type": "code",
     "checksum": "27665ec102b0d50312641d0a5cc7c68e",
     "grade": false,
     "grade_id": "cell-beff609e86174b49",
     "locked": true,
     "schema_version": 3,
     "solution": false,
     "task": false
    }
   },
   "outputs": [],
   "source": [
    "ridge_recipe <- \n",
    "  recipe(formula = Salary ~ ., data = Hitters_train) %>% \n",
    "  step_novel(all_nominal_predictors()) %>% \n",
    "  step_dummy(all_nominal_predictors()) %>% \n",
    "  step_zv(all_predictors()) %>% \n",
    "  step_normalize(all_predictors())"
   ]
  },
  {
   "cell_type": "markdown",
   "metadata": {
    "deletable": false,
    "editable": false,
    "nbgrader": {
     "cell_type": "markdown",
     "checksum": "672190eaab0e6cd76f64d3ceac323f20",
     "grade": false,
     "grade_id": "cell-b1a2e244c10da6e6",
     "locked": true,
     "schema_version": 3,
     "solution": false,
     "task": false
    }
   },
   "source": [
    "The model specification will look very similar to what you have seen earlier, but you will set `penalty = tune()`. This tells `tune_grid()` that the `penalty` parameter should be tuned. The output variable here will once again be `ridge_spec`. The functions used will be `linear_reg`, `set_mode` and `set_engine`."
   ]
  },
  {
   "cell_type": "code",
   "execution_count": null,
   "metadata": {
    "deletable": false,
    "nbgrader": {
     "cell_type": "code",
     "checksum": "8957910ebb460efb6bbb8cbd48d832fe",
     "grade": false,
     "grade_id": "cell-e4154b703955e266",
     "locked": false,
     "schema_version": 3,
     "solution": true,
     "task": false
    }
   },
   "outputs": [],
   "source": [
    "# Your code here \n",
    "# ridge_spec <- \n",
    "\n",
    "# your code here\n"
   ]
  },
  {
   "cell_type": "code",
   "execution_count": null,
   "metadata": {
    "deletable": false,
    "editable": false,
    "nbgrader": {
     "cell_type": "code",
     "checksum": "f90c671d4673dfb3796ef8b0a746a0ca",
     "grade": true,
     "grade_id": "cell-b62b731e980596be",
     "locked": true,
     "points": 1,
     "schema_version": 3,
     "solution": false,
     "task": false
    }
   },
   "outputs": [],
   "source": [
    "# Hidden Tests"
   ]
  },
  {
   "cell_type": "markdown",
   "metadata": {
    "deletable": false,
    "editable": false,
    "nbgrader": {
     "cell_type": "markdown",
     "checksum": "e3c3e0b9b4ea0979b4159a12712e6bc2",
     "grade": false,
     "grade_id": "cell-e14f35840089ca3d",
     "locked": true,
     "schema_version": 3,
     "solution": false,
     "task": false
    }
   },
   "source": [
    "Now you combine to create a `workflow` object. Your output variable here will be `ridge_worfklow` and the three functions you will use will be `workflow`,`add_recipe` and `add_model`. Your recipe will be `ridge_recipe` and your model will be `ridge_spec`.\n"
   ]
  },
  {
   "cell_type": "code",
   "execution_count": null,
   "metadata": {
    "deletable": false,
    "nbgrader": {
     "cell_type": "code",
     "checksum": "781a0d9843639e353c1317f7f686ace2",
     "grade": false,
     "grade_id": "cell-d46a34102747835b",
     "locked": false,
     "schema_version": 3,
     "solution": true,
     "task": false
    }
   },
   "outputs": [],
   "source": [
    "# Your code here \n",
    "# ridge_workflow <- \n",
    "\n",
    "# your code here\n"
   ]
  },
  {
   "cell_type": "code",
   "execution_count": null,
   "metadata": {
    "deletable": false,
    "editable": false,
    "nbgrader": {
     "cell_type": "code",
     "checksum": "215ca8f20c7b53ba1cbbbb5b4a762b6c",
     "grade": true,
     "grade_id": "cell-b73c60b90f03a803",
     "locked": true,
     "points": 1,
     "schema_version": 3,
     "solution": false,
     "task": false
    }
   },
   "outputs": [],
   "source": [
    "# Hidden Tests\n"
   ]
  },
  {
   "cell_type": "markdown",
   "metadata": {
    "deletable": false,
    "editable": false,
    "nbgrader": {
     "cell_type": "markdown",
     "checksum": "03504be2e1f1573b27b62a552822db1a",
     "grade": false,
     "grade_id": "cell-66d8b93de8ca4104",
     "locked": true,
     "schema_version": 3,
     "solution": false,
     "task": false
    }
   },
   "source": [
    "The last thing you need is the values of `penalty` you are trying. This can be created using `grid_regular()` which creates a grid of evenly spaces parameter values. You use the `penalty()` function from the [dials](https://dials.tidymodels.org/) package to denote the parameter and set the range of the grid you are searching for. Note that this range is log-scaled. Your output variable here is going to be `penalty_grid`. For `penalty` use a range from -5 to 5, and 50 values (levels).  "
   ]
  },
  {
   "cell_type": "code",
   "execution_count": null,
   "metadata": {
    "deletable": false,
    "nbgrader": {
     "cell_type": "code",
     "checksum": "06061e32fe73132d55a0acafbe94ea4b",
     "grade": false,
     "grade_id": "cell-85ccc900bd385b13",
     "locked": false,
     "schema_version": 3,
     "solution": true,
     "task": false
    }
   },
   "outputs": [],
   "source": [
    "# Your code here \n",
    "# penalty_grid <- \n",
    "\n",
    "# your code here\n"
   ]
  },
  {
   "cell_type": "code",
   "execution_count": null,
   "metadata": {
    "deletable": false,
    "editable": false,
    "nbgrader": {
     "cell_type": "code",
     "checksum": "bd9afdf3ac027ab39ac27d0863dc9d07",
     "grade": true,
     "grade_id": "cell-f90c48494d305cd3",
     "locked": true,
     "points": 1,
     "schema_version": 3,
     "solution": false,
     "task": false
    }
   },
   "outputs": [],
   "source": [
    "expect_equal(penalty_grid$penalty[1], 1e-05)\n",
    "expect_equal(penalty_grid$penalty[25], 0.79060432109077, tolerance=1e-5)\n",
    "expect_equal(penalty_grid$penalty[50], 1e+05)\n",
    "\n",
    "# Hidden Tests"
   ]
  },
  {
   "cell_type": "markdown",
   "metadata": {
    "deletable": false,
    "editable": false,
    "nbgrader": {
     "cell_type": "markdown",
     "checksum": "4efb943e6397f7bbbf36f63298e17e22",
     "grade": false,
     "grade_id": "cell-0703997dfebdc01e",
     "locked": true,
     "schema_version": 3,
     "solution": false,
     "task": false
    }
   },
   "source": [
    "Using 50 levels for one parameter might seem overkill and in many applications it is. But remember that `glmnet` fits all the models in one go so adding more levels to `penalty` doesn't affect the computational speed much.\n",
    "\n",
    "Now you have everything you need and you can fit all the models. Your output variable here is going to be `tune_res` and you will be using the `tune_grid` function. \n"
   ]
  },
  {
   "cell_type": "code",
   "execution_count": null,
   "metadata": {
    "deletable": false,
    "editable": false,
    "nbgrader": {
     "cell_type": "code",
     "checksum": "42ef85e9a873e5493b95bbf6c9aea012",
     "grade": false,
     "grade_id": "cell-2b3fa7886438a45e",
     "locked": true,
     "schema_version": 3,
     "solution": false,
     "task": false
    }
   },
   "outputs": [],
   "source": [
    "tune_res <- tune_grid(\n",
    "  ridge_workflow,\n",
    "  resamples = Hitters_fold, \n",
    "  grid = penalty_grid\n",
    ")"
   ]
  },
  {
   "cell_type": "markdown",
   "metadata": {
    "deletable": false,
    "editable": false,
    "nbgrader": {
     "cell_type": "markdown",
     "checksum": "8a4decdb3aadbbeab0758309fb67839a",
     "grade": false,
     "grade_id": "cell-9b165a95a6e2b639",
     "locked": true,
     "schema_version": 3,
     "solution": false,
     "task": false
    }
   },
   "source": [
    "The output of `tune_grid()` can be hard to read by itself unprocessed. `autoplot()` creates a great visualization. Go on ahead and use this function for visualization. What do you notice in your plot? "
   ]
  },
  {
   "cell_type": "code",
   "execution_count": null,
   "metadata": {
    "deletable": false,
    "editable": false,
    "nbgrader": {
     "cell_type": "code",
     "checksum": "df4618ca61cbb8841f8a7293a1f7cf5d",
     "grade": false,
     "grade_id": "cell-34aaf7586c48f4d8",
     "locked": true,
     "schema_version": 3,
     "solution": false,
     "task": false
    }
   },
   "outputs": [],
   "source": [
    "autoplot(tune_res)"
   ]
  },
  {
   "cell_type": "markdown",
   "metadata": {
    "deletable": false,
    "editable": false,
    "nbgrader": {
     "cell_type": "markdown",
     "checksum": "cf5dc9f77ad27eee317f7cfc8ec086d7",
     "grade": false,
     "grade_id": "cell-b807b8ed73b3dc37",
     "locked": true,
     "schema_version": 3,
     "solution": false,
     "task": false
    }
   },
   "source": [
    "You can also see the raw metrics that created this chart by calling `collect_matrics()`.\n"
   ]
  },
  {
   "cell_type": "code",
   "execution_count": null,
   "metadata": {
    "deletable": false,
    "editable": false,
    "nbgrader": {
     "cell_type": "code",
     "checksum": "cf290a79175ef109cda0523bacb08b9b",
     "grade": false,
     "grade_id": "cell-d4388d07b349a945",
     "locked": true,
     "schema_version": 3,
     "solution": false,
     "task": false
    }
   },
   "outputs": [],
   "source": [
    "collect_metrics(tune_res)"
   ]
  },
  {
   "cell_type": "markdown",
   "metadata": {
    "deletable": false,
    "editable": false,
    "nbgrader": {
     "cell_type": "markdown",
     "checksum": "4fe9b410a6006a6c711a5a3603ae1563",
     "grade": false,
     "grade_id": "cell-68bad29f91a09bff",
     "locked": true,
     "schema_version": 3,
     "solution": false,
     "task": false
    }
   },
   "source": [
    "The \"best\" values of this can be selected using `select_best()`, this function requires you to specify a `metric` that it should select against; use \"rsq\" for your metric. Your output variable here will be `best_penalty`. \n"
   ]
  },
  {
   "cell_type": "code",
   "execution_count": null,
   "metadata": {
    "deletable": false,
    "nbgrader": {
     "cell_type": "code",
     "checksum": "808d99464fe46e7576330cf73746d4d1",
     "grade": false,
     "grade_id": "cell-0d6f842a8625f495",
     "locked": false,
     "schema_version": 3,
     "solution": true,
     "task": false
    }
   },
   "outputs": [],
   "source": [
    "# Your code here \n",
    "# best_penalty <- \n",
    "\n",
    "# your code here\n"
   ]
  },
  {
   "cell_type": "code",
   "execution_count": null,
   "metadata": {
    "deletable": false,
    "editable": false,
    "nbgrader": {
     "cell_type": "code",
     "checksum": "7995ed0b89c143623420d6046e44fe41",
     "grade": true,
     "grade_id": "cell-2f357988b2a8bef2",
     "locked": true,
     "points": 1,
     "schema_version": 3,
     "solution": false,
     "task": false
    }
   },
   "outputs": [],
   "source": [
    "# Hidden Tests"
   ]
  },
  {
   "cell_type": "markdown",
   "metadata": {
    "deletable": false,
    "editable": false,
    "nbgrader": {
     "cell_type": "markdown",
     "checksum": "24be51b909e1d15e702220cba9289be1",
     "grade": false,
     "grade_id": "cell-42a1716bb67ef782",
     "locked": true,
     "schema_version": 3,
     "solution": false,
     "task": false
    }
   },
   "source": [
    "This value of `penalty` can then be used with `finalize_workflow()` to update/finalize the recipe by replacing `tune()` with the value of `best_penalty`. Now, this model should be fit again, this time using the whole training data set."
   ]
  },
  {
   "cell_type": "code",
   "execution_count": null,
   "metadata": {
    "deletable": false,
    "editable": false,
    "nbgrader": {
     "cell_type": "code",
     "checksum": "c42304832dbed7a7b9ba65b8ee98ab2c",
     "grade": false,
     "grade_id": "cell-6d1962a650b51696",
     "locked": true,
     "schema_version": 3,
     "solution": false,
     "task": false
    }
   },
   "outputs": [],
   "source": [
    "ridge_final <- finalize_workflow(ridge_workflow, best_penalty)\n",
    "ridge_final_fit <- fit(ridge_final, data = Hitters_train)"
   ]
  },
  {
   "cell_type": "markdown",
   "metadata": {
    "deletable": false,
    "editable": false,
    "nbgrader": {
     "cell_type": "markdown",
     "checksum": "d1383aacf17ef44c256607d4bc6801da",
     "grade": false,
     "grade_id": "cell-30f6ab7fc317da04",
     "locked": true,
     "schema_version": 3,
     "solution": false,
     "task": false
    }
   },
   "source": [
    "This final model can now be applied on your testing data set to validate the performance. Go ahead and perfrom this task. You will use both the`augment` and the `rsq` function. What do you notice? \n"
   ]
  },
  {
   "cell_type": "code",
   "execution_count": null,
   "metadata": {
    "deletable": false,
    "editable": false,
    "nbgrader": {
     "cell_type": "code",
     "checksum": "de418ebf46b2125c254a20eb9e02115e",
     "grade": false,
     "grade_id": "cell-a5696e0de0063018",
     "locked": true,
     "schema_version": 3,
     "solution": false,
     "task": false
    }
   },
   "outputs": [],
   "source": [
    "augment(ridge_final_fit, new_data = Hitters_test) %>%\n",
    "  rsq(truth = Salary, estimate = .pred)"
   ]
  }
 ],
 "metadata": {
  "kernelspec": {
   "display_name": "R",
   "language": "R",
   "name": "ir"
  },
  "language_info": {
   "codemirror_mode": "r",
   "file_extension": ".r",
   "mimetype": "text/x-r-source",
   "name": "R",
   "pygments_lexer": "r",
   "version": "3.6.3"
  }
 },
 "nbformat": 4,
 "nbformat_minor": 5
}
