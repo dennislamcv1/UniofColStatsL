{
 "cells": [
  {
   "cell_type": "markdown",
   "metadata": {
    "deletable": false,
    "editable": false,
    "nbgrader": {
     "cell_type": "markdown",
     "checksum": "d19c30bd6fdf397dd34c68c8987828a6",
     "grade": false,
     "grade_id": "cell-fa8c9f208dc55e16",
     "locked": true,
     "schema_version": 3,
     "solution": false,
     "task": false
    }
   },
   "source": [
    "### Linear Model Selection and Regularization"
   ]
  },
  {
   "cell_type": "markdown",
   "metadata": {
    "deletable": false,
    "editable": false,
    "nbgrader": {
     "cell_type": "markdown",
     "checksum": "11247461f796e0663abcb9c595750bc3",
     "grade": false,
     "grade_id": "cell-38f655eda540f8f5",
     "locked": true,
     "schema_version": 3,
     "solution": false,
     "task": false
    }
   },
   "source": [
    "This programming assignment will use the `Tidy Models` platform. It will take a look at regularization models and hyperparameter tuning. These models contain a regularization term. This assignment will use [parsnip](https://www.tidymodels.org/start/models/) for model fitting and [recipes and workflows](https://www.tidymodels.org/start/recipes/) to perform the transformations, and [tune and dials](https://www.tidymodels.org/start/tuning/) to tune the hyperparameters of the model.\n",
    "\n",
    "You will be using the `Hitters` data set from the `ISLR` package. You wish to predict the baseball players `Salary` based on several different characteristics which are included in the data set. \n",
    "\n",
    "Since you wish to predict `Salary`, then you need to remove any missing data from that column. Otherwise, you won't be able to run the models.\n",
    "\n",
    "**Set output as** `Hitters`. Make sure it is in a tibble format"
   ]
  },
  {
   "cell_type": "code",
   "execution_count": 1,
   "metadata": {
    "deletable": false,
    "nbgrader": {
     "cell_type": "code",
     "checksum": "d6f81d6cb6df6250f11f5a3d2fe06a20",
     "grade": false,
     "grade_id": "cell-1e513d03cb81c849",
     "locked": false,
     "schema_version": 3,
     "solution": true,
     "task": false
    }
   },
   "outputs": [
    {
     "name": "stderr",
     "output_type": "stream",
     "text": [
      "── \u001b[1mAttaching packages\u001b[22m ────────────────────────────────────── tidymodels 1.1.1 ──\n",
      "\n",
      "\u001b[32m✔\u001b[39m \u001b[34mbroom       \u001b[39m 1.0.5     \u001b[32m✔\u001b[39m \u001b[34mrecipes     \u001b[39m 1.0.9\n",
      "\u001b[32m✔\u001b[39m \u001b[34mdials       \u001b[39m 1.2.0     \u001b[32m✔\u001b[39m \u001b[34mrsample     \u001b[39m 1.2.0\n",
      "\u001b[32m✔\u001b[39m \u001b[34mdplyr       \u001b[39m 1.1.4     \u001b[32m✔\u001b[39m \u001b[34mtibble      \u001b[39m 3.2.1\n",
      "\u001b[32m✔\u001b[39m \u001b[34mggplot2     \u001b[39m 3.4.4     \u001b[32m✔\u001b[39m \u001b[34mtidyr       \u001b[39m 1.3.1\n",
      "\u001b[32m✔\u001b[39m \u001b[34minfer       \u001b[39m 1.0.6     \u001b[32m✔\u001b[39m \u001b[34mtune        \u001b[39m 1.1.2\n",
      "\u001b[32m✔\u001b[39m \u001b[34mmodeldata   \u001b[39m 1.3.0     \u001b[32m✔\u001b[39m \u001b[34mworkflows   \u001b[39m 1.1.3\n",
      "\u001b[32m✔\u001b[39m \u001b[34mparsnip     \u001b[39m 1.1.1     \u001b[32m✔\u001b[39m \u001b[34mworkflowsets\u001b[39m 1.0.1\n",
      "\u001b[32m✔\u001b[39m \u001b[34mpurrr       \u001b[39m 1.0.2     \u001b[32m✔\u001b[39m \u001b[34myardstick   \u001b[39m 1.3.0\n",
      "\n",
      "── \u001b[1mConflicts\u001b[22m ───────────────────────────────────────── tidymodels_conflicts() ──\n",
      "\u001b[31m✖\u001b[39m \u001b[34mpurrr\u001b[39m::\u001b[32mdiscard()\u001b[39m masks \u001b[34mscales\u001b[39m::discard()\n",
      "\u001b[31m✖\u001b[39m \u001b[34mdplyr\u001b[39m::\u001b[32mfilter()\u001b[39m  masks \u001b[34mstats\u001b[39m::filter()\n",
      "\u001b[31m✖\u001b[39m \u001b[34mdplyr\u001b[39m::\u001b[32mlag()\u001b[39m     masks \u001b[34mstats\u001b[39m::lag()\n",
      "\u001b[31m✖\u001b[39m \u001b[34mrecipes\u001b[39m::\u001b[32mstep()\u001b[39m  masks \u001b[34mstats\u001b[39m::step()\n",
      "\u001b[34m•\u001b[39m Search for functions across packages at \u001b[32mhttps://www.tidymodels.org/find/\u001b[39m\n",
      "\n"
     ]
    }
   ],
   "source": [
    "# Load necessary libraries\n",
    "library(tidymodels)\n",
    "library(ISLR2)\n",
    "\n",
    "# Load and clean the Hitters dataset\n",
    "data(\"Hitters\")\n",
    "Hitters <- as_tibble(Hitters)\n",
    "Hitters <- Hitters %>% drop_na(Salary)\n"
   ]
  },
  {
   "cell_type": "code",
   "execution_count": 2,
   "metadata": {
    "deletable": false,
    "editable": false,
    "nbgrader": {
     "cell_type": "code",
     "checksum": "e0c037eec3831b9b8c6ab60b98f5d0ae",
     "grade": true,
     "grade_id": "cell-fe6741d03449f940",
     "locked": true,
     "points": 1,
     "schema_version": 3,
     "solution": false,
     "task": false
    }
   },
   "outputs": [],
   "source": [
    "# Hidden Tests"
   ]
  },
  {
   "cell_type": "markdown",
   "metadata": {
    "deletable": false,
    "editable": false,
    "nbgrader": {
     "cell_type": "markdown",
     "checksum": "f09d269c304bdee35c88691e0fd7d13f",
     "grade": false,
     "grade_id": "cell-91f32cd77f321169",
     "locked": true,
     "schema_version": 3,
     "solution": false,
     "task": false
    }
   },
   "source": [
    "You will use the `glmnet` package to perform **ridge regression**. `parsnip` does not have a dedicated function to create a ridge regression model specification. You need to use `linear_reg()` and set `mixture = 0` to specify a ridge model. The `mixture` argument specifies the amount of different types of regularization, `mixture = 0` specifies only **ridge regularization** and `mixture = 1` specifies only **lasso regularization**. \n",
    "\n",
    "Setting `mixture` to a value between 0 and 1 lets us use both. When using the `glmnet` engine you also need to set a `penalty` to be able to fit the model. You will set this value to `0` for now, it is not the best value, but you will look at how to select the best value in a little bit."
   ]
  },
  {
   "cell_type": "code",
   "execution_count": 3,
   "metadata": {
    "deletable": false,
    "editable": false,
    "nbgrader": {
     "cell_type": "code",
     "checksum": "0e65b417c0080e0df5b990e4f6c4fafa",
     "grade": false,
     "grade_id": "cell-b41afcc7f31ef514",
     "locked": true,
     "schema_version": 3,
     "solution": false,
     "task": false
    }
   },
   "outputs": [],
   "source": [
    "ridge_spec <- linear_reg(mixture = 0, penalty = 0) %>%\n",
    "  set_mode(\"regression\") %>%\n",
    "  set_engine(\"glmnet\")"
   ]
  },
  {
   "cell_type": "markdown",
   "metadata": {
    "deletable": false,
    "editable": false,
    "nbgrader": {
     "cell_type": "markdown",
     "checksum": "80cb930431a89b809905790a6cb69263",
     "grade": false,
     "grade_id": "cell-b2e05310215cfafd",
     "locked": true,
     "schema_version": 3,
     "solution": false,
     "task": false
    }
   },
   "source": [
    "Once the specification is created you can fit it to you data. You will use all the predictors. Use the `fit` function here. "
   ]
  },
  {
   "cell_type": "code",
   "execution_count": 4,
   "metadata": {
    "deletable": false,
    "editable": false,
    "nbgrader": {
     "cell_type": "code",
     "checksum": "b1b90a3f8716e7732f486b48225bac7e",
     "grade": false,
     "grade_id": "cell-2621b9ede340e901",
     "locked": true,
     "schema_version": 3,
     "solution": false,
     "task": false
    }
   },
   "outputs": [],
   "source": [
    "ridge_fit <- fit(ridge_spec, Salary ~ ., data = Hitters)"
   ]
  },
  {
   "cell_type": "markdown",
   "metadata": {
    "deletable": false,
    "editable": false,
    "nbgrader": {
     "cell_type": "markdown",
     "checksum": "f4faa5026f54c88774fe3e6cfb858b88",
     "grade": false,
     "grade_id": "cell-92d0498c27a88c40",
     "locked": true,
     "schema_version": 3,
     "solution": false,
     "task": false
    }
   },
   "source": [
    "The `glmnet` package will fit the model for all values of `penalty` at once, so you can now see see what the parameter estimate for the model is now that you have `penalty = 0`. You can use the `tidy` function to accomplish this specific  task. "
   ]
  },
  {
   "cell_type": "code",
   "execution_count": 5,
   "metadata": {
    "deletable": false,
    "editable": false,
    "nbgrader": {
     "cell_type": "code",
     "checksum": "e4f40075178b5fb0908717e4973e86c4",
     "grade": false,
     "grade_id": "cell-312ddae5ace72440",
     "locked": true,
     "schema_version": 3,
     "solution": false,
     "task": false
    }
   },
   "outputs": [
    {
     "name": "stderr",
     "output_type": "stream",
     "text": [
      "Loading required package: Matrix\n",
      "\n",
      "\n",
      "Attaching package: ‘Matrix’\n",
      "\n",
      "\n",
      "The following objects are masked from ‘package:tidyr’:\n",
      "\n",
      "    expand, pack, unpack\n",
      "\n",
      "\n",
      "Loaded glmnet 4.1-8\n",
      "\n"
     ]
    },
    {
     "data": {
      "text/html": [
       "<table>\n",
       "<caption>A tibble: 20 × 3</caption>\n",
       "<thead>\n",
       "\t<tr><th scope=col>term</th><th scope=col>estimate</th><th scope=col>penalty</th></tr>\n",
       "\t<tr><th scope=col>&lt;chr&gt;</th><th scope=col>&lt;dbl&gt;</th><th scope=col>&lt;dbl&gt;</th></tr>\n",
       "</thead>\n",
       "<tbody>\n",
       "\t<tr><td>(Intercept)</td><td> 8.112693e+01</td><td>0</td></tr>\n",
       "\t<tr><td>AtBat      </td><td>-6.815959e-01</td><td>0</td></tr>\n",
       "\t<tr><td>Hits       </td><td> 2.772312e+00</td><td>0</td></tr>\n",
       "\t<tr><td>HmRun      </td><td>-1.365680e+00</td><td>0</td></tr>\n",
       "\t<tr><td>Runs       </td><td> 1.014826e+00</td><td>0</td></tr>\n",
       "\t<tr><td>RBI        </td><td> 7.130224e-01</td><td>0</td></tr>\n",
       "\t<tr><td>Walks      </td><td> 3.378558e+00</td><td>0</td></tr>\n",
       "\t<tr><td>Years      </td><td>-9.066800e+00</td><td>0</td></tr>\n",
       "\t<tr><td>CAtBat     </td><td>-1.199478e-03</td><td>0</td></tr>\n",
       "\t<tr><td>CHits      </td><td> 1.361029e-01</td><td>0</td></tr>\n",
       "\t<tr><td>CHmRun     </td><td> 6.979958e-01</td><td>0</td></tr>\n",
       "\t<tr><td>CRuns      </td><td> 2.958896e-01</td><td>0</td></tr>\n",
       "\t<tr><td>CRBI       </td><td> 2.570711e-01</td><td>0</td></tr>\n",
       "\t<tr><td>CWalks     </td><td>-2.789666e-01</td><td>0</td></tr>\n",
       "\t<tr><td>LeagueN    </td><td> 5.321272e+01</td><td>0</td></tr>\n",
       "\t<tr><td>DivisionW  </td><td>-1.228345e+02</td><td>0</td></tr>\n",
       "\t<tr><td>PutOuts    </td><td> 2.638876e-01</td><td>0</td></tr>\n",
       "\t<tr><td>Assists    </td><td> 1.698796e-01</td><td>0</td></tr>\n",
       "\t<tr><td>Errors     </td><td>-3.685645e+00</td><td>0</td></tr>\n",
       "\t<tr><td>NewLeagueN </td><td>-1.810510e+01</td><td>0</td></tr>\n",
       "</tbody>\n",
       "</table>\n"
      ],
      "text/latex": [
       "A tibble: 20 × 3\n",
       "\\begin{tabular}{lll}\n",
       " term & estimate & penalty\\\\\n",
       " <chr> & <dbl> & <dbl>\\\\\n",
       "\\hline\n",
       "\t (Intercept) &  8.112693e+01 & 0\\\\\n",
       "\t AtBat       & -6.815959e-01 & 0\\\\\n",
       "\t Hits        &  2.772312e+00 & 0\\\\\n",
       "\t HmRun       & -1.365680e+00 & 0\\\\\n",
       "\t Runs        &  1.014826e+00 & 0\\\\\n",
       "\t RBI         &  7.130224e-01 & 0\\\\\n",
       "\t Walks       &  3.378558e+00 & 0\\\\\n",
       "\t Years       & -9.066800e+00 & 0\\\\\n",
       "\t CAtBat      & -1.199478e-03 & 0\\\\\n",
       "\t CHits       &  1.361029e-01 & 0\\\\\n",
       "\t CHmRun      &  6.979958e-01 & 0\\\\\n",
       "\t CRuns       &  2.958896e-01 & 0\\\\\n",
       "\t CRBI        &  2.570711e-01 & 0\\\\\n",
       "\t CWalks      & -2.789666e-01 & 0\\\\\n",
       "\t LeagueN     &  5.321272e+01 & 0\\\\\n",
       "\t DivisionW   & -1.228345e+02 & 0\\\\\n",
       "\t PutOuts     &  2.638876e-01 & 0\\\\\n",
       "\t Assists     &  1.698796e-01 & 0\\\\\n",
       "\t Errors      & -3.685645e+00 & 0\\\\\n",
       "\t NewLeagueN  & -1.810510e+01 & 0\\\\\n",
       "\\end{tabular}\n"
      ],
      "text/markdown": [
       "\n",
       "A tibble: 20 × 3\n",
       "\n",
       "| term &lt;chr&gt; | estimate &lt;dbl&gt; | penalty &lt;dbl&gt; |\n",
       "|---|---|---|\n",
       "| (Intercept) |  8.112693e+01 | 0 |\n",
       "| AtBat       | -6.815959e-01 | 0 |\n",
       "| Hits        |  2.772312e+00 | 0 |\n",
       "| HmRun       | -1.365680e+00 | 0 |\n",
       "| Runs        |  1.014826e+00 | 0 |\n",
       "| RBI         |  7.130224e-01 | 0 |\n",
       "| Walks       |  3.378558e+00 | 0 |\n",
       "| Years       | -9.066800e+00 | 0 |\n",
       "| CAtBat      | -1.199478e-03 | 0 |\n",
       "| CHits       |  1.361029e-01 | 0 |\n",
       "| CHmRun      |  6.979958e-01 | 0 |\n",
       "| CRuns       |  2.958896e-01 | 0 |\n",
       "| CRBI        |  2.570711e-01 | 0 |\n",
       "| CWalks      | -2.789666e-01 | 0 |\n",
       "| LeagueN     |  5.321272e+01 | 0 |\n",
       "| DivisionW   | -1.228345e+02 | 0 |\n",
       "| PutOuts     |  2.638876e-01 | 0 |\n",
       "| Assists     |  1.698796e-01 | 0 |\n",
       "| Errors      | -3.685645e+00 | 0 |\n",
       "| NewLeagueN  | -1.810510e+01 | 0 |\n",
       "\n"
      ],
      "text/plain": [
       "   term        estimate      penalty\n",
       "1  (Intercept)  8.112693e+01 0      \n",
       "2  AtBat       -6.815959e-01 0      \n",
       "3  Hits         2.772312e+00 0      \n",
       "4  HmRun       -1.365680e+00 0      \n",
       "5  Runs         1.014826e+00 0      \n",
       "6  RBI          7.130224e-01 0      \n",
       "7  Walks        3.378558e+00 0      \n",
       "8  Years       -9.066800e+00 0      \n",
       "9  CAtBat      -1.199478e-03 0      \n",
       "10 CHits        1.361029e-01 0      \n",
       "11 CHmRun       6.979958e-01 0      \n",
       "12 CRuns        2.958896e-01 0      \n",
       "13 CRBI         2.570711e-01 0      \n",
       "14 CWalks      -2.789666e-01 0      \n",
       "15 LeagueN      5.321272e+01 0      \n",
       "16 DivisionW   -1.228345e+02 0      \n",
       "17 PutOuts      2.638876e-01 0      \n",
       "18 Assists      1.698796e-01 0      \n",
       "19 Errors      -3.685645e+00 0      \n",
       "20 NewLeagueN  -1.810510e+01 0      "
      ]
     },
     "metadata": {},
     "output_type": "display_data"
    }
   ],
   "source": [
    "tidy(ridge_fit)"
   ]
  },
  {
   "cell_type": "markdown",
   "metadata": {
    "deletable": false,
    "editable": false,
    "nbgrader": {
     "cell_type": "markdown",
     "checksum": "9466edac9cb87b1b52d22837775fcd48",
     "grade": false,
     "grade_id": "cell-5724b06e76e61415",
     "locked": true,
     "schema_version": 3,
     "solution": false,
     "task": false
    }
   },
   "source": [
    "Let us instead see what the estimates would be if the penalty was `11498`. Store your output to `tidy2`. What do you notice?  "
   ]
  },
  {
   "cell_type": "code",
   "execution_count": 6,
   "metadata": {
    "deletable": false,
    "nbgrader": {
     "cell_type": "code",
     "checksum": "9463ee8dcc32bda2181da2ada40ff270",
     "grade": false,
     "grade_id": "cell-99ef8a325d97edf7",
     "locked": false,
     "schema_version": 3,
     "solution": true,
     "task": false
    }
   },
   "outputs": [
    {
     "data": {
      "text/html": [
       "<table>\n",
       "<caption>A tibble: 20 × 3</caption>\n",
       "<thead>\n",
       "\t<tr><th scope=col>term</th><th scope=col>estimate</th><th scope=col>penalty</th></tr>\n",
       "\t<tr><th scope=col>&lt;chr&gt;</th><th scope=col>&lt;dbl&gt;</th><th scope=col>&lt;dbl&gt;</th></tr>\n",
       "</thead>\n",
       "<tbody>\n",
       "\t<tr><td>(Intercept)</td><td>407.205936774</td><td>11498</td></tr>\n",
       "\t<tr><td>AtBat      </td><td>  0.037003083</td><td>11498</td></tr>\n",
       "\t<tr><td>Hits       </td><td>  0.138357552</td><td>11498</td></tr>\n",
       "\t<tr><td>HmRun      </td><td>  0.525195508</td><td>11498</td></tr>\n",
       "\t<tr><td>Runs       </td><td>  0.230978290</td><td>11498</td></tr>\n",
       "\t<tr><td>RBI        </td><td>  0.240114775</td><td>11498</td></tr>\n",
       "\t<tr><td>Walks      </td><td>  0.289971555</td><td>11498</td></tr>\n",
       "\t<tr><td>Years      </td><td>  1.108832399</td><td>11498</td></tr>\n",
       "\t<tr><td>CAtBat     </td><td>  0.003135215</td><td>11498</td></tr>\n",
       "\t<tr><td>CHits      </td><td>  0.011666684</td><td>11498</td></tr>\n",
       "\t<tr><td>CHmRun     </td><td>  0.087642789</td><td>11498</td></tr>\n",
       "\t<tr><td>CRuns      </td><td>  0.023406258</td><td>11498</td></tr>\n",
       "\t<tr><td>CRBI       </td><td>  0.024165723</td><td>11498</td></tr>\n",
       "\t<tr><td>CWalks     </td><td>  0.025042117</td><td>11498</td></tr>\n",
       "\t<tr><td>LeagueN    </td><td>  0.086629234</td><td>11498</td></tr>\n",
       "\t<tr><td>DivisionW  </td><td> -6.225431332</td><td>11498</td></tr>\n",
       "\t<tr><td>PutOuts    </td><td>  0.016506596</td><td>11498</td></tr>\n",
       "\t<tr><td>Assists    </td><td>  0.002616335</td><td>11498</td></tr>\n",
       "\t<tr><td>Errors     </td><td> -0.020564158</td><td>11498</td></tr>\n",
       "\t<tr><td>NewLeagueN </td><td>  0.302922899</td><td>11498</td></tr>\n",
       "</tbody>\n",
       "</table>\n"
      ],
      "text/latex": [
       "A tibble: 20 × 3\n",
       "\\begin{tabular}{lll}\n",
       " term & estimate & penalty\\\\\n",
       " <chr> & <dbl> & <dbl>\\\\\n",
       "\\hline\n",
       "\t (Intercept) & 407.205936774 & 11498\\\\\n",
       "\t AtBat       &   0.037003083 & 11498\\\\\n",
       "\t Hits        &   0.138357552 & 11498\\\\\n",
       "\t HmRun       &   0.525195508 & 11498\\\\\n",
       "\t Runs        &   0.230978290 & 11498\\\\\n",
       "\t RBI         &   0.240114775 & 11498\\\\\n",
       "\t Walks       &   0.289971555 & 11498\\\\\n",
       "\t Years       &   1.108832399 & 11498\\\\\n",
       "\t CAtBat      &   0.003135215 & 11498\\\\\n",
       "\t CHits       &   0.011666684 & 11498\\\\\n",
       "\t CHmRun      &   0.087642789 & 11498\\\\\n",
       "\t CRuns       &   0.023406258 & 11498\\\\\n",
       "\t CRBI        &   0.024165723 & 11498\\\\\n",
       "\t CWalks      &   0.025042117 & 11498\\\\\n",
       "\t LeagueN     &   0.086629234 & 11498\\\\\n",
       "\t DivisionW   &  -6.225431332 & 11498\\\\\n",
       "\t PutOuts     &   0.016506596 & 11498\\\\\n",
       "\t Assists     &   0.002616335 & 11498\\\\\n",
       "\t Errors      &  -0.020564158 & 11498\\\\\n",
       "\t NewLeagueN  &   0.302922899 & 11498\\\\\n",
       "\\end{tabular}\n"
      ],
      "text/markdown": [
       "\n",
       "A tibble: 20 × 3\n",
       "\n",
       "| term &lt;chr&gt; | estimate &lt;dbl&gt; | penalty &lt;dbl&gt; |\n",
       "|---|---|---|\n",
       "| (Intercept) | 407.205936774 | 11498 |\n",
       "| AtBat       |   0.037003083 | 11498 |\n",
       "| Hits        |   0.138357552 | 11498 |\n",
       "| HmRun       |   0.525195508 | 11498 |\n",
       "| Runs        |   0.230978290 | 11498 |\n",
       "| RBI         |   0.240114775 | 11498 |\n",
       "| Walks       |   0.289971555 | 11498 |\n",
       "| Years       |   1.108832399 | 11498 |\n",
       "| CAtBat      |   0.003135215 | 11498 |\n",
       "| CHits       |   0.011666684 | 11498 |\n",
       "| CHmRun      |   0.087642789 | 11498 |\n",
       "| CRuns       |   0.023406258 | 11498 |\n",
       "| CRBI        |   0.024165723 | 11498 |\n",
       "| CWalks      |   0.025042117 | 11498 |\n",
       "| LeagueN     |   0.086629234 | 11498 |\n",
       "| DivisionW   |  -6.225431332 | 11498 |\n",
       "| PutOuts     |   0.016506596 | 11498 |\n",
       "| Assists     |   0.002616335 | 11498 |\n",
       "| Errors      |  -0.020564158 | 11498 |\n",
       "| NewLeagueN  |   0.302922899 | 11498 |\n",
       "\n"
      ],
      "text/plain": [
       "   term        estimate      penalty\n",
       "1  (Intercept) 407.205936774 11498  \n",
       "2  AtBat         0.037003083 11498  \n",
       "3  Hits          0.138357552 11498  \n",
       "4  HmRun         0.525195508 11498  \n",
       "5  Runs          0.230978290 11498  \n",
       "6  RBI           0.240114775 11498  \n",
       "7  Walks         0.289971555 11498  \n",
       "8  Years         1.108832399 11498  \n",
       "9  CAtBat        0.003135215 11498  \n",
       "10 CHits         0.011666684 11498  \n",
       "11 CHmRun        0.087642789 11498  \n",
       "12 CRuns         0.023406258 11498  \n",
       "13 CRBI          0.024165723 11498  \n",
       "14 CWalks        0.025042117 11498  \n",
       "15 LeagueN       0.086629234 11498  \n",
       "16 DivisionW    -6.225431332 11498  \n",
       "17 PutOuts       0.016506596 11498  \n",
       "18 Assists       0.002616335 11498  \n",
       "19 Errors       -0.020564158 11498  \n",
       "20 NewLeagueN    0.302922899 11498  "
      ]
     },
     "metadata": {},
     "output_type": "display_data"
    }
   ],
   "source": [
    "# Specify the ridge regression model with penalty = 11498\n",
    "ridge_spec <- linear_reg(mixture = 0, penalty = 11498) %>%\n",
    "  set_mode(\"regression\") %>%\n",
    "  set_engine(\"glmnet\")\n",
    "\n",
    "# Fit the ridge regression model\n",
    "ridge_fit <- fit(ridge_spec, Salary ~ ., data = Hitters)\n",
    "\n",
    "# Inspect the model coefficients\n",
    "tidy2 <- tidy(ridge_fit)\n",
    "\n",
    "# View the results\n",
    "tidy2"
   ]
  },
  {
   "cell_type": "code",
   "execution_count": 7,
   "metadata": {
    "deletable": false,
    "editable": false,
    "nbgrader": {
     "cell_type": "code",
     "checksum": "59ee543c7e45438f5fa9f977d03e9682",
     "grade": true,
     "grade_id": "cell-8e05b242ee24117f",
     "locked": true,
     "points": 1,
     "schema_version": 3,
     "solution": false,
     "task": false
    }
   },
   "outputs": [],
   "source": [
    "# Hidden Tests"
   ]
  },
  {
   "cell_type": "markdown",
   "metadata": {
    "deletable": false,
    "editable": false,
    "nbgrader": {
     "cell_type": "markdown",
     "checksum": "90ace8a3d8bb7a02fbde4935c1daa206",
     "grade": false,
     "grade_id": "cell-2d04cd1be838c4e2",
     "locked": true,
     "schema_version": 3,
     "solution": false,
     "task": false
    }
   },
   "source": [
    "Look below at the parameter estimates for `penalty = 705`. Store your output to `tidy3`. Once again, use the `tidy` function to accomplish this task. "
   ]
  },
  {
   "cell_type": "code",
   "execution_count": 8,
   "metadata": {
    "deletable": false,
    "nbgrader": {
     "cell_type": "code",
     "checksum": "26553114e0dd128f714c064904d27d20",
     "grade": false,
     "grade_id": "cell-4b7ba595bbd14b35",
     "locked": false,
     "schema_version": 3,
     "solution": true,
     "task": false
    }
   },
   "outputs": [
    {
     "data": {
      "text/html": [
       "<table>\n",
       "<caption>A tibble: 20 × 3</caption>\n",
       "<thead>\n",
       "\t<tr><th scope=col>term</th><th scope=col>estimate</th><th scope=col>penalty</th></tr>\n",
       "\t<tr><th scope=col>&lt;chr&gt;</th><th scope=col>&lt;dbl&gt;</th><th scope=col>&lt;dbl&gt;</th></tr>\n",
       "</thead>\n",
       "<tbody>\n",
       "\t<tr><td>(Intercept)</td><td> 54.39019010</td><td>705</td></tr>\n",
       "\t<tr><td>AtBat      </td><td>  0.11199103</td><td>705</td></tr>\n",
       "\t<tr><td>Hits       </td><td>  0.65618308</td><td>705</td></tr>\n",
       "\t<tr><td>HmRun      </td><td>  1.17557058</td><td>705</td></tr>\n",
       "\t<tr><td>Runs       </td><td>  0.93745780</td><td>705</td></tr>\n",
       "\t<tr><td>RBI        </td><td>  0.84682838</td><td>705</td></tr>\n",
       "\t<tr><td>Walks      </td><td>  1.32044897</td><td>705</td></tr>\n",
       "\t<tr><td>Years      </td><td>  2.58210272</td><td>705</td></tr>\n",
       "\t<tr><td>CAtBat     </td><td>  0.01082850</td><td>705</td></tr>\n",
       "\t<tr><td>CHits      </td><td>  0.04681147</td><td>705</td></tr>\n",
       "\t<tr><td>CHmRun     </td><td>  0.33843942</td><td>705</td></tr>\n",
       "\t<tr><td>CRuns      </td><td>  0.09372165</td><td>705</td></tr>\n",
       "\t<tr><td>CRBI       </td><td>  0.09788930</td><td>705</td></tr>\n",
       "\t<tr><td>CWalks     </td><td>  0.07179422</td><td>705</td></tr>\n",
       "\t<tr><td>LeagueN    </td><td> 13.69631793</td><td>705</td></tr>\n",
       "\t<tr><td>DivisionW  </td><td>-54.71693537</td><td>705</td></tr>\n",
       "\t<tr><td>PutOuts    </td><td>  0.11864655</td><td>705</td></tr>\n",
       "\t<tr><td>Assists    </td><td>  0.01610360</td><td>705</td></tr>\n",
       "\t<tr><td>Errors     </td><td> -0.70439782</td><td>705</td></tr>\n",
       "\t<tr><td>NewLeagueN </td><td>  8.60936304</td><td>705</td></tr>\n",
       "</tbody>\n",
       "</table>\n"
      ],
      "text/latex": [
       "A tibble: 20 × 3\n",
       "\\begin{tabular}{lll}\n",
       " term & estimate & penalty\\\\\n",
       " <chr> & <dbl> & <dbl>\\\\\n",
       "\\hline\n",
       "\t (Intercept) &  54.39019010 & 705\\\\\n",
       "\t AtBat       &   0.11199103 & 705\\\\\n",
       "\t Hits        &   0.65618308 & 705\\\\\n",
       "\t HmRun       &   1.17557058 & 705\\\\\n",
       "\t Runs        &   0.93745780 & 705\\\\\n",
       "\t RBI         &   0.84682838 & 705\\\\\n",
       "\t Walks       &   1.32044897 & 705\\\\\n",
       "\t Years       &   2.58210272 & 705\\\\\n",
       "\t CAtBat      &   0.01082850 & 705\\\\\n",
       "\t CHits       &   0.04681147 & 705\\\\\n",
       "\t CHmRun      &   0.33843942 & 705\\\\\n",
       "\t CRuns       &   0.09372165 & 705\\\\\n",
       "\t CRBI        &   0.09788930 & 705\\\\\n",
       "\t CWalks      &   0.07179422 & 705\\\\\n",
       "\t LeagueN     &  13.69631793 & 705\\\\\n",
       "\t DivisionW   & -54.71693537 & 705\\\\\n",
       "\t PutOuts     &   0.11864655 & 705\\\\\n",
       "\t Assists     &   0.01610360 & 705\\\\\n",
       "\t Errors      &  -0.70439782 & 705\\\\\n",
       "\t NewLeagueN  &   8.60936304 & 705\\\\\n",
       "\\end{tabular}\n"
      ],
      "text/markdown": [
       "\n",
       "A tibble: 20 × 3\n",
       "\n",
       "| term &lt;chr&gt; | estimate &lt;dbl&gt; | penalty &lt;dbl&gt; |\n",
       "|---|---|---|\n",
       "| (Intercept) |  54.39019010 | 705 |\n",
       "| AtBat       |   0.11199103 | 705 |\n",
       "| Hits        |   0.65618308 | 705 |\n",
       "| HmRun       |   1.17557058 | 705 |\n",
       "| Runs        |   0.93745780 | 705 |\n",
       "| RBI         |   0.84682838 | 705 |\n",
       "| Walks       |   1.32044897 | 705 |\n",
       "| Years       |   2.58210272 | 705 |\n",
       "| CAtBat      |   0.01082850 | 705 |\n",
       "| CHits       |   0.04681147 | 705 |\n",
       "| CHmRun      |   0.33843942 | 705 |\n",
       "| CRuns       |   0.09372165 | 705 |\n",
       "| CRBI        |   0.09788930 | 705 |\n",
       "| CWalks      |   0.07179422 | 705 |\n",
       "| LeagueN     |  13.69631793 | 705 |\n",
       "| DivisionW   | -54.71693537 | 705 |\n",
       "| PutOuts     |   0.11864655 | 705 |\n",
       "| Assists     |   0.01610360 | 705 |\n",
       "| Errors      |  -0.70439782 | 705 |\n",
       "| NewLeagueN  |   8.60936304 | 705 |\n",
       "\n"
      ],
      "text/plain": [
       "   term        estimate     penalty\n",
       "1  (Intercept)  54.39019010 705    \n",
       "2  AtBat         0.11199103 705    \n",
       "3  Hits          0.65618308 705    \n",
       "4  HmRun         1.17557058 705    \n",
       "5  Runs          0.93745780 705    \n",
       "6  RBI           0.84682838 705    \n",
       "7  Walks         1.32044897 705    \n",
       "8  Years         2.58210272 705    \n",
       "9  CAtBat        0.01082850 705    \n",
       "10 CHits         0.04681147 705    \n",
       "11 CHmRun        0.33843942 705    \n",
       "12 CRuns         0.09372165 705    \n",
       "13 CRBI          0.09788930 705    \n",
       "14 CWalks        0.07179422 705    \n",
       "15 LeagueN      13.69631793 705    \n",
       "16 DivisionW   -54.71693537 705    \n",
       "17 PutOuts       0.11864655 705    \n",
       "18 Assists       0.01610360 705    \n",
       "19 Errors       -0.70439782 705    \n",
       "20 NewLeagueN    8.60936304 705    "
      ]
     },
     "metadata": {},
     "output_type": "display_data"
    }
   ],
   "source": [
    "# Specify the ridge regression model with penalty = 705\n",
    "ridge_spec <- linear_reg(mixture = 0, penalty = 705) %>%\n",
    "  set_mode(\"regression\") %>%\n",
    "  set_engine(\"glmnet\")\n",
    "\n",
    "# Fit the ridge regression model\n",
    "ridge_fit <- fit(ridge_spec, Salary ~ ., data = Hitters)\n",
    "\n",
    "# Inspect the model coefficients\n",
    "tidy3 <- tidy(ridge_fit)\n",
    "\n",
    "# View the results\n",
    "tidy3\n"
   ]
  },
  {
   "cell_type": "code",
   "execution_count": 9,
   "metadata": {
    "deletable": false,
    "editable": false,
    "nbgrader": {
     "cell_type": "code",
     "checksum": "a397db0877bc9a717079ea03a98fb4a5",
     "grade": true,
     "grade_id": "cell-3466a2b46607f649",
     "locked": true,
     "points": 1,
     "schema_version": 3,
     "solution": false,
     "task": false
    }
   },
   "outputs": [],
   "source": [
    "# Hidden Tests"
   ]
  },
  {
   "attachments": {
    "output%20image.png": {
     "image/png": "[encoded data removed]"
    }
   },
   "cell_type": "markdown",
   "metadata": {
    "deletable": false,
    "editable": false,
    "nbgrader": {
     "cell_type": "markdown",
     "checksum": "a774a51489aa194c3071fa8d4b85423b",
     "grade": false,
     "grade_id": "cell-41307fcbc0f4b0ae",
     "locked": true,
     "schema_version": 3,
     "solution": false,
     "task": false
    }
   },
   "source": [
    "You can visualize how the magnitude of the coefficients are being regularized towards zero as the penalty goes up. Use the `autoplot()` function to accomplish this task. **Output variable here is** `ridge_fit`. Your image should look like this: \n",
    "\n",
    "<div>\n",
    "<img src=\"attachment:output%20image.png\" width=\"500\"/>\n",
    "</div>\n"
   ]
  },
  {
   "cell_type": "code",
   "execution_count": 10,
   "metadata": {
    "deletable": false,
    "nbgrader": {
     "cell_type": "code",
     "checksum": "2d2fb963a999ffcde1cc7081da70628c",
     "grade": false,
     "grade_id": "cell-3ad640c9f1191763",
     "locked": true,
     "schema_version": 3,
     "solution": false,
     "task": false
    }
   },
   "outputs": [
    {
     "data": {
      "image/png": "[encoded data removed]",
      "text/plain": [
       "plot without title"
      ]
     },
     "metadata": {
      "image/png": {
       "height": 420,
       "width": 420
      },
      "text/plain": {
       "height": 420,
       "width": 420
      }
     },
     "output_type": "display_data"
    }
   ],
   "source": [
    "ridge_fit %>% autoplot()"
   ]
  },
  {
   "cell_type": "markdown",
   "metadata": {
    "deletable": false,
    "editable": false,
    "nbgrader": {
     "cell_type": "markdown",
     "checksum": "da1c3c3e918b602b11c74b0a24b9a9e1",
     "grade": false,
     "grade_id": "cell-26bf1c32da3c98ff",
     "locked": true,
     "schema_version": 3,
     "solution": false,
     "task": false
    }
   },
   "source": [
    "Prediction is done like normal, if you use `predict()` by itself, then `penalty = 0` as you set in the model specification is used."
   ]
  },
  {
   "cell_type": "code",
   "execution_count": 11,
   "metadata": {
    "deletable": false,
    "editable": false,
    "nbgrader": {
     "cell_type": "code",
     "checksum": "39cfcd8b401d1ac21b396950d3d73376",
     "grade": false,
     "grade_id": "cell-00a050726bdf5a89",
     "locked": true,
     "schema_version": 3,
     "solution": false,
     "task": false
    }
   },
   "outputs": [
    {
     "data": {
      "text/html": [
       "<table>\n",
       "<caption>A tibble: 263 × 1</caption>\n",
       "<thead>\n",
       "\t<tr><th scope=col>.pred</th></tr>\n",
       "\t<tr><th scope=col>&lt;dbl&gt;</th></tr>\n",
       "</thead>\n",
       "<tbody>\n",
       "\t<tr><td> 526.9155</td></tr>\n",
       "\t<tr><td> 612.8073</td></tr>\n",
       "\t<tr><td> 870.1846</td></tr>\n",
       "\t<tr><td> 416.1790</td></tr>\n",
       "\t<tr><td> 592.5733</td></tr>\n",
       "\t<tr><td> 191.6580</td></tr>\n",
       "\t<tr><td> 172.2276</td></tr>\n",
       "\t<tr><td> 210.4601</td></tr>\n",
       "\t<tr><td> 827.9990</td></tr>\n",
       "\t<tr><td> 826.7736</td></tr>\n",
       "\t<tr><td> 318.1084</td></tr>\n",
       "\t<tr><td> 504.6194</td></tr>\n",
       "\t<tr><td> 315.2196</td></tr>\n",
       "\t<tr><td> 429.4080</td></tr>\n",
       "\t<tr><td>1006.2995</td></tr>\n",
       "\t<tr><td> 141.9570</td></tr>\n",
       "\t<tr><td> 205.0366</td></tr>\n",
       "\t<tr><td> 458.8333</td></tr>\n",
       "\t<tr><td> 369.7880</td></tr>\n",
       "\t<tr><td> 582.8349</td></tr>\n",
       "\t<tr><td>1119.9377</td></tr>\n",
       "\t<tr><td> 672.1421</td></tr>\n",
       "\t<tr><td> 381.2874</td></tr>\n",
       "\t<tr><td> 564.5723</td></tr>\n",
       "\t<tr><td> 591.0172</td></tr>\n",
       "\t<tr><td> 896.8293</td></tr>\n",
       "\t<tr><td> 320.0841</td></tr>\n",
       "\t<tr><td> 586.8640</td></tr>\n",
       "\t<tr><td> 252.5089</td></tr>\n",
       "\t<tr><td> 708.2591</td></tr>\n",
       "\t<tr><td>⋮</td></tr>\n",
       "\t<tr><td>582.7305</td></tr>\n",
       "\t<tr><td>417.7602</td></tr>\n",
       "\t<tr><td>301.1510</td></tr>\n",
       "\t<tr><td>658.2489</td></tr>\n",
       "\t<tr><td>291.0764</td></tr>\n",
       "\t<tr><td>669.9291</td></tr>\n",
       "\t<tr><td>334.1234</td></tr>\n",
       "\t<tr><td>106.4955</td></tr>\n",
       "\t<tr><td>274.7245</td></tr>\n",
       "\t<tr><td>259.2808</td></tr>\n",
       "\t<tr><td>406.6888</td></tr>\n",
       "\t<tr><td>677.0364</td></tr>\n",
       "\t<tr><td>466.1247</td></tr>\n",
       "\t<tr><td>464.0972</td></tr>\n",
       "\t<tr><td>389.7765</td></tr>\n",
       "\t<tr><td>751.2139</td></tr>\n",
       "\t<tr><td>366.3187</td></tr>\n",
       "\t<tr><td>607.2278</td></tr>\n",
       "\t<tr><td>523.2947</td></tr>\n",
       "\t<tr><td>900.4254</td></tr>\n",
       "\t<tr><td>471.4468</td></tr>\n",
       "\t<tr><td>465.2215</td></tr>\n",
       "\t<tr><td>774.4181</td></tr>\n",
       "\t<tr><td>432.8795</td></tr>\n",
       "\t<tr><td>624.3555</td></tr>\n",
       "\t<tr><td>577.5624</td></tr>\n",
       "\t<tr><td>837.1315</td></tr>\n",
       "\t<tr><td>399.0783</td></tr>\n",
       "\t<tr><td>843.9093</td></tr>\n",
       "\t<tr><td>674.5729</td></tr>\n",
       "</tbody>\n",
       "</table>\n"
      ],
      "text/latex": [
       "A tibble: 263 × 1\n",
       "\\begin{tabular}{l}\n",
       " .pred\\\\\n",
       " <dbl>\\\\\n",
       "\\hline\n",
       "\t  526.9155\\\\\n",
       "\t  612.8073\\\\\n",
       "\t  870.1846\\\\\n",
       "\t  416.1790\\\\\n",
       "\t  592.5733\\\\\n",
       "\t  191.6580\\\\\n",
       "\t  172.2276\\\\\n",
       "\t  210.4601\\\\\n",
       "\t  827.9990\\\\\n",
       "\t  826.7736\\\\\n",
       "\t  318.1084\\\\\n",
       "\t  504.6194\\\\\n",
       "\t  315.2196\\\\\n",
       "\t  429.4080\\\\\n",
       "\t 1006.2995\\\\\n",
       "\t  141.9570\\\\\n",
       "\t  205.0366\\\\\n",
       "\t  458.8333\\\\\n",
       "\t  369.7880\\\\\n",
       "\t  582.8349\\\\\n",
       "\t 1119.9377\\\\\n",
       "\t  672.1421\\\\\n",
       "\t  381.2874\\\\\n",
       "\t  564.5723\\\\\n",
       "\t  591.0172\\\\\n",
       "\t  896.8293\\\\\n",
       "\t  320.0841\\\\\n",
       "\t  586.8640\\\\\n",
       "\t  252.5089\\\\\n",
       "\t  708.2591\\\\\n",
       "\t ⋮\\\\\n",
       "\t 582.7305\\\\\n",
       "\t 417.7602\\\\\n",
       "\t 301.1510\\\\\n",
       "\t 658.2489\\\\\n",
       "\t 291.0764\\\\\n",
       "\t 669.9291\\\\\n",
       "\t 334.1234\\\\\n",
       "\t 106.4955\\\\\n",
       "\t 274.7245\\\\\n",
       "\t 259.2808\\\\\n",
       "\t 406.6888\\\\\n",
       "\t 677.0364\\\\\n",
       "\t 466.1247\\\\\n",
       "\t 464.0972\\\\\n",
       "\t 389.7765\\\\\n",
       "\t 751.2139\\\\\n",
       "\t 366.3187\\\\\n",
       "\t 607.2278\\\\\n",
       "\t 523.2947\\\\\n",
       "\t 900.4254\\\\\n",
       "\t 471.4468\\\\\n",
       "\t 465.2215\\\\\n",
       "\t 774.4181\\\\\n",
       "\t 432.8795\\\\\n",
       "\t 624.3555\\\\\n",
       "\t 577.5624\\\\\n",
       "\t 837.1315\\\\\n",
       "\t 399.0783\\\\\n",
       "\t 843.9093\\\\\n",
       "\t 674.5729\\\\\n",
       "\\end{tabular}\n"
      ],
      "text/markdown": [
       "\n",
       "A tibble: 263 × 1\n",
       "\n",
       "| .pred &lt;dbl&gt; |\n",
       "|---|\n",
       "|  526.9155 |\n",
       "|  612.8073 |\n",
       "|  870.1846 |\n",
       "|  416.1790 |\n",
       "|  592.5733 |\n",
       "|  191.6580 |\n",
       "|  172.2276 |\n",
       "|  210.4601 |\n",
       "|  827.9990 |\n",
       "|  826.7736 |\n",
       "|  318.1084 |\n",
       "|  504.6194 |\n",
       "|  315.2196 |\n",
       "|  429.4080 |\n",
       "| 1006.2995 |\n",
       "|  141.9570 |\n",
       "|  205.0366 |\n",
       "|  458.8333 |\n",
       "|  369.7880 |\n",
       "|  582.8349 |\n",
       "| 1119.9377 |\n",
       "|  672.1421 |\n",
       "|  381.2874 |\n",
       "|  564.5723 |\n",
       "|  591.0172 |\n",
       "|  896.8293 |\n",
       "|  320.0841 |\n",
       "|  586.8640 |\n",
       "|  252.5089 |\n",
       "|  708.2591 |\n",
       "| ⋮ |\n",
       "| 582.7305 |\n",
       "| 417.7602 |\n",
       "| 301.1510 |\n",
       "| 658.2489 |\n",
       "| 291.0764 |\n",
       "| 669.9291 |\n",
       "| 334.1234 |\n",
       "| 106.4955 |\n",
       "| 274.7245 |\n",
       "| 259.2808 |\n",
       "| 406.6888 |\n",
       "| 677.0364 |\n",
       "| 466.1247 |\n",
       "| 464.0972 |\n",
       "| 389.7765 |\n",
       "| 751.2139 |\n",
       "| 366.3187 |\n",
       "| 607.2278 |\n",
       "| 523.2947 |\n",
       "| 900.4254 |\n",
       "| 471.4468 |\n",
       "| 465.2215 |\n",
       "| 774.4181 |\n",
       "| 432.8795 |\n",
       "| 624.3555 |\n",
       "| 577.5624 |\n",
       "| 837.1315 |\n",
       "| 399.0783 |\n",
       "| 843.9093 |\n",
       "| 674.5729 |\n",
       "\n"
      ],
      "text/plain": [
       "    .pred    \n",
       "1    526.9155\n",
       "2    612.8073\n",
       "3    870.1846\n",
       "4    416.1790\n",
       "5    592.5733\n",
       "6    191.6580\n",
       "7    172.2276\n",
       "8    210.4601\n",
       "9    827.9990\n",
       "10   826.7736\n",
       "11   318.1084\n",
       "12   504.6194\n",
       "13   315.2196\n",
       "14   429.4080\n",
       "15  1006.2995\n",
       "16   141.9570\n",
       "17   205.0366\n",
       "18   458.8333\n",
       "19   369.7880\n",
       "20   582.8349\n",
       "21  1119.9377\n",
       "22   672.1421\n",
       "23   381.2874\n",
       "24   564.5723\n",
       "25   591.0172\n",
       "26   896.8293\n",
       "27   320.0841\n",
       "28   586.8640\n",
       "29   252.5089\n",
       "30   708.2591\n",
       "⋮   ⋮        \n",
       "234 582.7305 \n",
       "235 417.7602 \n",
       "236 301.1510 \n",
       "237 658.2489 \n",
       "238 291.0764 \n",
       "239 669.9291 \n",
       "240 334.1234 \n",
       "241 106.4955 \n",
       "242 274.7245 \n",
       "243 259.2808 \n",
       "244 406.6888 \n",
       "245 677.0364 \n",
       "246 466.1247 \n",
       "247 464.0972 \n",
       "248 389.7765 \n",
       "249 751.2139 \n",
       "250 366.3187 \n",
       "251 607.2278 \n",
       "252 523.2947 \n",
       "253 900.4254 \n",
       "254 471.4468 \n",
       "255 465.2215 \n",
       "256 774.4181 \n",
       "257 432.8795 \n",
       "258 624.3555 \n",
       "259 577.5624 \n",
       "260 837.1315 \n",
       "261 399.0783 \n",
       "262 843.9093 \n",
       "263 674.5729 "
      ]
     },
     "metadata": {},
     "output_type": "display_data"
    }
   ],
   "source": [
    "predict(ridge_fit, new_data = Hitters)"
   ]
  },
  {
   "cell_type": "markdown",
   "metadata": {
    "deletable": false,
    "editable": false,
    "nbgrader": {
     "cell_type": "markdown",
     "checksum": "dc5e83512d60207195b6f61da16a9483",
     "grade": false,
     "grade_id": "cell-2f2aeb4aa706819f",
     "locked": true,
     "schema_version": 3,
     "solution": false,
     "task": false
    }
   },
   "source": [
    "But you can also get predictions for other values of `penalty` by specifying it in `predict()`. Test with a value of `500`. Store your output to `predict_500`\n"
   ]
  },
  {
   "cell_type": "code",
   "execution_count": 12,
   "metadata": {
    "deletable": false,
    "nbgrader": {
     "cell_type": "code",
     "checksum": "183aa6195ffd9afed309e7e354e4ce79",
     "grade": false,
     "grade_id": "cell-ec04351caf3d6022",
     "locked": false,
     "schema_version": 3,
     "solution": true,
     "task": false
    }
   },
   "outputs": [
    {
     "data": {
      "text/html": [
       "<table>\n",
       "<caption>A tibble: 6 × 1</caption>\n",
       "<thead>\n",
       "\t<tr><th scope=col>.pred</th></tr>\n",
       "\t<tr><th scope=col>&lt;dbl&gt;</th></tr>\n",
       "</thead>\n",
       "<tbody>\n",
       "\t<tr><td>525.3820</td></tr>\n",
       "\t<tr><td>620.1190</td></tr>\n",
       "\t<tr><td>894.5125</td></tr>\n",
       "\t<tr><td>424.7725</td></tr>\n",
       "\t<tr><td>588.5251</td></tr>\n",
       "\t<tr><td>178.5795</td></tr>\n",
       "</tbody>\n",
       "</table>\n"
      ],
      "text/latex": [
       "A tibble: 6 × 1\n",
       "\\begin{tabular}{l}\n",
       " .pred\\\\\n",
       " <dbl>\\\\\n",
       "\\hline\n",
       "\t 525.3820\\\\\n",
       "\t 620.1190\\\\\n",
       "\t 894.5125\\\\\n",
       "\t 424.7725\\\\\n",
       "\t 588.5251\\\\\n",
       "\t 178.5795\\\\\n",
       "\\end{tabular}\n"
      ],
      "text/markdown": [
       "\n",
       "A tibble: 6 × 1\n",
       "\n",
       "| .pred &lt;dbl&gt; |\n",
       "|---|\n",
       "| 525.3820 |\n",
       "| 620.1190 |\n",
       "| 894.5125 |\n",
       "| 424.7725 |\n",
       "| 588.5251 |\n",
       "| 178.5795 |\n",
       "\n"
      ],
      "text/plain": [
       "  .pred   \n",
       "1 525.3820\n",
       "2 620.1190\n",
       "3 894.5125\n",
       "4 424.7725\n",
       "5 588.5251\n",
       "6 178.5795"
      ]
     },
     "metadata": {},
     "output_type": "display_data"
    }
   ],
   "source": [
    "# Specify the ridge regression model with penalty = 0\n",
    "ridge_spec <- linear_reg(mixture = 0, penalty = 0) %>%\n",
    "  set_mode(\"regression\") %>%\n",
    "  set_engine(\"glmnet\")\n",
    "\n",
    "# Fit the ridge regression model\n",
    "ridge_fit <- fit(ridge_spec, Salary ~ ., data = Hitters)\n",
    "\n",
    "# Get predictions with penalty = 500\n",
    "predict_500 <- predict(ridge_fit, new_data = Hitters, penalty = 500)\n",
    "\n",
    "# View the predictions\n",
    "head(predict_500)"
   ]
  },
  {
   "cell_type": "code",
   "execution_count": 13,
   "metadata": {
    "deletable": false,
    "editable": false,
    "nbgrader": {
     "cell_type": "code",
     "checksum": "64e632c8b5992804aad59908c5e349e7",
     "grade": true,
     "grade_id": "cell-418da39ec39c889d",
     "locked": true,
     "points": 1,
     "schema_version": 3,
     "solution": false,
     "task": false
    }
   },
   "outputs": [],
   "source": [
    "# Hidden Tests"
   ]
  },
  {
   "cell_type": "markdown",
   "metadata": {
    "deletable": false,
    "editable": false,
    "nbgrader": {
     "cell_type": "markdown",
     "checksum": "e70cf2016aadd7b1f5d2f119654f7299",
     "grade": false,
     "grade_id": "cell-158058de07eb5fd5",
     "locked": true,
     "schema_version": 3,
     "solution": false,
     "task": false
    }
   },
   "source": [
    "You saw how we can fit a ridge model and make predictions for different values of `penalty`. But it would be great if you could find the \"best\" value of the penalty. This is something you can use **hyperparameter** tuning for. Hyperparameter tuning is in its simplest form a way of fitting many models with different sets of hyperparameters trying to find one that performs \"best\".\n",
    "\n",
    "The complexity in hyperparameter tuning can come from how you try different models. You will keep it simple for this lab and only look at grid search, only looking at evenly spaced parameter values. This is a fine enough approach if you have one or two tunable parameters but can become computationally infeasible. \n",
    "\n",
    "See the chapter on [iterative search](https://www.tmwr.org/iterative-search.html) from [Tidy Modeling with R](https://www.tmwr.org/) for more information.\n",
    "\n",
    "You begin like normal by setting up a validation split (testing and training set). A **K-fold cross-validation data set** is created on the training data set with 10 folds."
   ]
  },
  {
   "cell_type": "code",
   "execution_count": 14,
   "metadata": {},
   "outputs": [],
   "source": [
    "set.seed(1234)"
   ]
  },
  {
   "cell_type": "code",
   "execution_count": 15,
   "metadata": {
    "deletable": false,
    "nbgrader": {
     "cell_type": "code",
     "checksum": "42f53611ea556db3b2e9b78eb2d378fb",
     "grade": false,
     "grade_id": "cell-6d08b8bc39067f6a",
     "locked": true,
     "schema_version": 3,
     "solution": false,
     "task": false
    }
   },
   "outputs": [],
   "source": [
    "set.seed(1234)\n",
    "Hitters_split <- initial_split(Hitters, strata = \"Salary\")\n",
    "Hitters_train <- training(Hitters_split)\n",
    "Hitters_test <- testing(Hitters_split)\n",
    "Hitters_fold <- vfold_cv(Hitters_train, v = 10)"
   ]
  },
  {
   "cell_type": "markdown",
   "metadata": {
    "deletable": false,
    "editable": false,
    "nbgrader": {
     "cell_type": "markdown",
     "checksum": "775244d4b5c566db6716da0a05a1a682",
     "grade": false,
     "grade_id": "cell-8acba92c1439ac0d",
     "locked": true,
     "schema_version": 3,
     "solution": false,
     "task": false
    }
   },
   "source": [
    "You can use the `tune_grid()` function to perform hyperparameter tuning using a grid search. `tune_grid()` needs 3 different things;\n",
    "\n",
    "-   a `workflow` object containing the model and preprocessor,\n",
    "-   a `rset` object containing the resamples the `workflow` should be fitted within, and\n",
    "-   a `tibble` containing the parameter values to be evaluated.\n",
    "\n",
    "Optionally a metric set of performance metrics can be supplied for evaluation. If you don't set one then a default set of performance metrics is used.\n",
    "\n",
    "You already have a resample object created in `Hitters_fold`. Now you should create the workflow specification next.\n",
    "\n",
    "You just used the data set as is when you fit the model earlier. However, **ridge regression** is scale sensitive so you need to make sure that the variables are on the same scale. You can use `step_normalize()`. Secondly you can deal with the factor variables yourself using `step_novel()` and `step_dummy()`. "
   ]
  },
  {
   "cell_type": "code",
   "execution_count": 16,
   "metadata": {
    "deletable": false,
    "editable": false,
    "nbgrader": {
     "cell_type": "code",
     "checksum": "27665ec102b0d50312641d0a5cc7c68e",
     "grade": false,
     "grade_id": "cell-beff609e86174b49",
     "locked": true,
     "schema_version": 3,
     "solution": false,
     "task": false
    }
   },
   "outputs": [],
   "source": [
    "ridge_recipe <- \n",
    "  recipe(formula = Salary ~ ., data = Hitters_train) %>% \n",
    "  step_novel(all_nominal_predictors()) %>% \n",
    "  step_dummy(all_nominal_predictors()) %>% \n",
    "  step_zv(all_predictors()) %>% \n",
    "  step_normalize(all_predictors())"
   ]
  },
  {
   "cell_type": "markdown",
   "metadata": {
    "deletable": false,
    "editable": false,
    "nbgrader": {
     "cell_type": "markdown",
     "checksum": "672190eaab0e6cd76f64d3ceac323f20",
     "grade": false,
     "grade_id": "cell-b1a2e244c10da6e6",
     "locked": true,
     "schema_version": 3,
     "solution": false,
     "task": false
    }
   },
   "source": [
    "The model specification will look very similar to what you have seen earlier, but you will set `penalty = tune()`. This tells `tune_grid()` that the `penalty` parameter should be tuned. The output variable here will once again be `ridge_spec`. The functions used will be `linear_reg`, `set_mode` and `set_engine`."
   ]
  },
  {
   "cell_type": "code",
   "execution_count": 17,
   "metadata": {
    "deletable": false,
    "nbgrader": {
     "cell_type": "code",
     "checksum": "8957910ebb460efb6bbb8cbd48d832fe",
     "grade": false,
     "grade_id": "cell-e4154b703955e266",
     "locked": false,
     "schema_version": 3,
     "solution": true,
     "task": false
    }
   },
   "outputs": [],
   "source": [
    "# Define ridge regression model specification\n",
    "ridge_spec <- linear_reg(penalty = tune()) %>%\n",
    "  set_mode(\"regression\") %>%\n",
    "  set_engine(\"glmnet\")\n"
   ]
  },
  {
   "cell_type": "code",
   "execution_count": 18,
   "metadata": {
    "deletable": false,
    "editable": false,
    "nbgrader": {
     "cell_type": "code",
     "checksum": "f90c671d4673dfb3796ef8b0a746a0ca",
     "grade": true,
     "grade_id": "cell-b62b731e980596be",
     "locked": true,
     "points": 1,
     "schema_version": 3,
     "solution": false,
     "task": false
    }
   },
   "outputs": [],
   "source": [
    "# Hidden Tests"
   ]
  },
  {
   "cell_type": "markdown",
   "metadata": {
    "deletable": false,
    "editable": false,
    "nbgrader": {
     "cell_type": "markdown",
     "checksum": "e3c3e0b9b4ea0979b4159a12712e6bc2",
     "grade": false,
     "grade_id": "cell-e14f35840089ca3d",
     "locked": true,
     "schema_version": 3,
     "solution": false,
     "task": false
    }
   },
   "source": [
    "Now you combine to create a `workflow` object. Your output variable here will be `ridge_worfklow` and the three functions you will use will be `workflow`,`add_recipe` and `add_model`. Your recipe will be `ridge_recipe` and your model will be `ridge_spec`.\n"
   ]
  },
  {
   "cell_type": "code",
   "execution_count": 19,
   "metadata": {
    "deletable": false,
    "nbgrader": {
     "cell_type": "code",
     "checksum": "781a0d9843639e353c1317f7f686ace2",
     "grade": false,
     "grade_id": "cell-d46a34102747835b",
     "locked": false,
     "schema_version": 3,
     "solution": true,
     "task": false
    }
   },
   "outputs": [
    {
     "data": {
      "text/plain": [
       "══ Workflow ════════════════════════════════════════════════════════════════════\n",
       "\u001b[3mPreprocessor:\u001b[23m Recipe\n",
       "\u001b[3mModel:\u001b[23m linear_reg()\n",
       "\n",
       "── Preprocessor ────────────────────────────────────────────────────────────────\n",
       "4 Recipe Steps\n",
       "\n",
       "• step_novel()\n",
       "• step_dummy()\n",
       "• step_zv()\n",
       "• step_normalize()\n",
       "\n",
       "── Model ───────────────────────────────────────────────────────────────────────\n",
       "Linear Regression Model Specification (regression)\n",
       "\n",
       "Main Arguments:\n",
       "  penalty = tune()\n",
       "\n",
       "Computational engine: glmnet \n"
      ]
     },
     "metadata": {},
     "output_type": "display_data"
    }
   ],
   "source": [
    "# Define the workflow object\n",
    "ridge_workflow <- workflow() %>%\n",
    "  \n",
    "# Add the preprocessing recipe\n",
    "add_recipe(ridge_recipe) %>%\n",
    "  \n",
    "# Add the ridge regression model specification\n",
    "add_model(ridge_spec)\n",
    "\n",
    "# Print the workflow to inspect it\n",
    "ridge_workflow\n",
    "\n"
   ]
  },
  {
   "cell_type": "code",
   "execution_count": 20,
   "metadata": {
    "deletable": false,
    "editable": false,
    "nbgrader": {
     "cell_type": "code",
     "checksum": "215ca8f20c7b53ba1cbbbb5b4a762b6c",
     "grade": true,
     "grade_id": "cell-b73c60b90f03a803",
     "locked": true,
     "points": 1,
     "schema_version": 3,
     "solution": false,
     "task": false
    }
   },
   "outputs": [],
   "source": [
    "# Hidden Tests\n"
   ]
  },
  {
   "cell_type": "markdown",
   "metadata": {
    "deletable": false,
    "editable": false,
    "nbgrader": {
     "cell_type": "markdown",
     "checksum": "03504be2e1f1573b27b62a552822db1a",
     "grade": false,
     "grade_id": "cell-66d8b93de8ca4104",
     "locked": true,
     "schema_version": 3,
     "solution": false,
     "task": false
    }
   },
   "source": [
    "The last thing you need is the values of `penalty` you are trying. This can be created using `grid_regular()` which creates a grid of evenly spaces parameter values. You use the `penalty()` function from the [dials](https://dials.tidymodels.org/) package to denote the parameter and set the range of the grid you are searching for. Note that this range is log-scaled. Your output variable here is going to be `penalty_grid`. For `penalty` use a range from -5 to 5, and 50 values (levels).  "
   ]
  },
  {
   "cell_type": "code",
   "execution_count": 21,
   "metadata": {
    "deletable": false,
    "nbgrader": {
     "cell_type": "code",
     "checksum": "06061e32fe73132d55a0acafbe94ea4b",
     "grade": false,
     "grade_id": "cell-85ccc900bd385b13",
     "locked": false,
     "schema_version": 3,
     "solution": true,
     "task": false
    }
   },
   "outputs": [
    {
     "data": {
      "text/html": [
       "<table>\n",
       "<caption>A tibble: 50 × 1</caption>\n",
       "<thead>\n",
       "\t<tr><th scope=col>penalty</th></tr>\n",
       "\t<tr><th scope=col>&lt;dbl&gt;</th></tr>\n",
       "</thead>\n",
       "<tbody>\n",
       "\t<tr><td>1.000000e-05</td></tr>\n",
       "\t<tr><td>1.599859e-05</td></tr>\n",
       "\t<tr><td>2.559548e-05</td></tr>\n",
       "\t<tr><td>4.094915e-05</td></tr>\n",
       "\t<tr><td>6.551286e-05</td></tr>\n",
       "\t<tr><td>1.048113e-04</td></tr>\n",
       "\t<tr><td>1.676833e-04</td></tr>\n",
       "\t<tr><td>2.682696e-04</td></tr>\n",
       "\t<tr><td>4.291934e-04</td></tr>\n",
       "\t<tr><td>6.866488e-04</td></tr>\n",
       "\t<tr><td>1.098541e-03</td></tr>\n",
       "\t<tr><td>1.757511e-03</td></tr>\n",
       "\t<tr><td>2.811769e-03</td></tr>\n",
       "\t<tr><td>4.498433e-03</td></tr>\n",
       "\t<tr><td>7.196857e-03</td></tr>\n",
       "\t<tr><td>1.151395e-02</td></tr>\n",
       "\t<tr><td>1.842070e-02</td></tr>\n",
       "\t<tr><td>2.947052e-02</td></tr>\n",
       "\t<tr><td>4.714866e-02</td></tr>\n",
       "\t<tr><td>7.543120e-02</td></tr>\n",
       "\t<tr><td>1.206793e-01</td></tr>\n",
       "\t<tr><td>1.930698e-01</td></tr>\n",
       "\t<tr><td>3.088844e-01</td></tr>\n",
       "\t<tr><td>4.941713e-01</td></tr>\n",
       "\t<tr><td>7.906043e-01</td></tr>\n",
       "\t<tr><td>1.264855e+00</td></tr>\n",
       "\t<tr><td>2.023590e+00</td></tr>\n",
       "\t<tr><td>3.237458e+00</td></tr>\n",
       "\t<tr><td>5.179475e+00</td></tr>\n",
       "\t<tr><td>8.286428e+00</td></tr>\n",
       "\t<tr><td>1.325711e+01</td></tr>\n",
       "\t<tr><td>2.120951e+01</td></tr>\n",
       "\t<tr><td>3.393222e+01</td></tr>\n",
       "\t<tr><td>5.428675e+01</td></tr>\n",
       "\t<tr><td>8.685114e+01</td></tr>\n",
       "\t<tr><td>1.389495e+02</td></tr>\n",
       "\t<tr><td>2.222996e+02</td></tr>\n",
       "\t<tr><td>3.556480e+02</td></tr>\n",
       "\t<tr><td>5.689866e+02</td></tr>\n",
       "\t<tr><td>9.102982e+02</td></tr>\n",
       "\t<tr><td>1.456348e+03</td></tr>\n",
       "\t<tr><td>2.329952e+03</td></tr>\n",
       "\t<tr><td>3.727594e+03</td></tr>\n",
       "\t<tr><td>5.963623e+03</td></tr>\n",
       "\t<tr><td>9.540955e+03</td></tr>\n",
       "\t<tr><td>1.526418e+04</td></tr>\n",
       "\t<tr><td>2.442053e+04</td></tr>\n",
       "\t<tr><td>3.906940e+04</td></tr>\n",
       "\t<tr><td>6.250552e+04</td></tr>\n",
       "\t<tr><td>1.000000e+05</td></tr>\n",
       "</tbody>\n",
       "</table>\n"
      ],
      "text/latex": [
       "A tibble: 50 × 1\n",
       "\\begin{tabular}{l}\n",
       " penalty\\\\\n",
       " <dbl>\\\\\n",
       "\\hline\n",
       "\t 1.000000e-05\\\\\n",
       "\t 1.599859e-05\\\\\n",
       "\t 2.559548e-05\\\\\n",
       "\t 4.094915e-05\\\\\n",
       "\t 6.551286e-05\\\\\n",
       "\t 1.048113e-04\\\\\n",
       "\t 1.676833e-04\\\\\n",
       "\t 2.682696e-04\\\\\n",
       "\t 4.291934e-04\\\\\n",
       "\t 6.866488e-04\\\\\n",
       "\t 1.098541e-03\\\\\n",
       "\t 1.757511e-03\\\\\n",
       "\t 2.811769e-03\\\\\n",
       "\t 4.498433e-03\\\\\n",
       "\t 7.196857e-03\\\\\n",
       "\t 1.151395e-02\\\\\n",
       "\t 1.842070e-02\\\\\n",
       "\t 2.947052e-02\\\\\n",
       "\t 4.714866e-02\\\\\n",
       "\t 7.543120e-02\\\\\n",
       "\t 1.206793e-01\\\\\n",
       "\t 1.930698e-01\\\\\n",
       "\t 3.088844e-01\\\\\n",
       "\t 4.941713e-01\\\\\n",
       "\t 7.906043e-01\\\\\n",
       "\t 1.264855e+00\\\\\n",
       "\t 2.023590e+00\\\\\n",
       "\t 3.237458e+00\\\\\n",
       "\t 5.179475e+00\\\\\n",
       "\t 8.286428e+00\\\\\n",
       "\t 1.325711e+01\\\\\n",
       "\t 2.120951e+01\\\\\n",
       "\t 3.393222e+01\\\\\n",
       "\t 5.428675e+01\\\\\n",
       "\t 8.685114e+01\\\\\n",
       "\t 1.389495e+02\\\\\n",
       "\t 2.222996e+02\\\\\n",
       "\t 3.556480e+02\\\\\n",
       "\t 5.689866e+02\\\\\n",
       "\t 9.102982e+02\\\\\n",
       "\t 1.456348e+03\\\\\n",
       "\t 2.329952e+03\\\\\n",
       "\t 3.727594e+03\\\\\n",
       "\t 5.963623e+03\\\\\n",
       "\t 9.540955e+03\\\\\n",
       "\t 1.526418e+04\\\\\n",
       "\t 2.442053e+04\\\\\n",
       "\t 3.906940e+04\\\\\n",
       "\t 6.250552e+04\\\\\n",
       "\t 1.000000e+05\\\\\n",
       "\\end{tabular}\n"
      ],
      "text/markdown": [
       "\n",
       "A tibble: 50 × 1\n",
       "\n",
       "| penalty &lt;dbl&gt; |\n",
       "|---|\n",
       "| 1.000000e-05 |\n",
       "| 1.599859e-05 |\n",
       "| 2.559548e-05 |\n",
       "| 4.094915e-05 |\n",
       "| 6.551286e-05 |\n",
       "| 1.048113e-04 |\n",
       "| 1.676833e-04 |\n",
       "| 2.682696e-04 |\n",
       "| 4.291934e-04 |\n",
       "| 6.866488e-04 |\n",
       "| 1.098541e-03 |\n",
       "| 1.757511e-03 |\n",
       "| 2.811769e-03 |\n",
       "| 4.498433e-03 |\n",
       "| 7.196857e-03 |\n",
       "| 1.151395e-02 |\n",
       "| 1.842070e-02 |\n",
       "| 2.947052e-02 |\n",
       "| 4.714866e-02 |\n",
       "| 7.543120e-02 |\n",
       "| 1.206793e-01 |\n",
       "| 1.930698e-01 |\n",
       "| 3.088844e-01 |\n",
       "| 4.941713e-01 |\n",
       "| 7.906043e-01 |\n",
       "| 1.264855e+00 |\n",
       "| 2.023590e+00 |\n",
       "| 3.237458e+00 |\n",
       "| 5.179475e+00 |\n",
       "| 8.286428e+00 |\n",
       "| 1.325711e+01 |\n",
       "| 2.120951e+01 |\n",
       "| 3.393222e+01 |\n",
       "| 5.428675e+01 |\n",
       "| 8.685114e+01 |\n",
       "| 1.389495e+02 |\n",
       "| 2.222996e+02 |\n",
       "| 3.556480e+02 |\n",
       "| 5.689866e+02 |\n",
       "| 9.102982e+02 |\n",
       "| 1.456348e+03 |\n",
       "| 2.329952e+03 |\n",
       "| 3.727594e+03 |\n",
       "| 5.963623e+03 |\n",
       "| 9.540955e+03 |\n",
       "| 1.526418e+04 |\n",
       "| 2.442053e+04 |\n",
       "| 3.906940e+04 |\n",
       "| 6.250552e+04 |\n",
       "| 1.000000e+05 |\n",
       "\n"
      ],
      "text/plain": [
       "   penalty     \n",
       "1  1.000000e-05\n",
       "2  1.599859e-05\n",
       "3  2.559548e-05\n",
       "4  4.094915e-05\n",
       "5  6.551286e-05\n",
       "6  1.048113e-04\n",
       "7  1.676833e-04\n",
       "8  2.682696e-04\n",
       "9  4.291934e-04\n",
       "10 6.866488e-04\n",
       "11 1.098541e-03\n",
       "12 1.757511e-03\n",
       "13 2.811769e-03\n",
       "14 4.498433e-03\n",
       "15 7.196857e-03\n",
       "16 1.151395e-02\n",
       "17 1.842070e-02\n",
       "18 2.947052e-02\n",
       "19 4.714866e-02\n",
       "20 7.543120e-02\n",
       "21 1.206793e-01\n",
       "22 1.930698e-01\n",
       "23 3.088844e-01\n",
       "24 4.941713e-01\n",
       "25 7.906043e-01\n",
       "26 1.264855e+00\n",
       "27 2.023590e+00\n",
       "28 3.237458e+00\n",
       "29 5.179475e+00\n",
       "30 8.286428e+00\n",
       "31 1.325711e+01\n",
       "32 2.120951e+01\n",
       "33 3.393222e+01\n",
       "34 5.428675e+01\n",
       "35 8.685114e+01\n",
       "36 1.389495e+02\n",
       "37 2.222996e+02\n",
       "38 3.556480e+02\n",
       "39 5.689866e+02\n",
       "40 9.102982e+02\n",
       "41 1.456348e+03\n",
       "42 2.329952e+03\n",
       "43 3.727594e+03\n",
       "44 5.963623e+03\n",
       "45 9.540955e+03\n",
       "46 1.526418e+04\n",
       "47 2.442053e+04\n",
       "48 3.906940e+04\n",
       "49 6.250552e+04\n",
       "50 1.000000e+05"
      ]
     },
     "metadata": {},
     "output_type": "display_data"
    }
   ],
   "source": [
    "# Load necessary library\n",
    "library(dials)\n",
    "\n",
    "# Define the grid of penalty values\n",
    "penalty_grid <- grid_regular(penalty(range = c(-5, 5)), levels = 50)\n",
    "\n",
    "# View the penalty grid\n",
    "penalty_grid\n"
   ]
  },
  {
   "cell_type": "code",
   "execution_count": 22,
   "metadata": {},
   "outputs": [
    {
     "data": {
      "text/html": [
       "1e-05"
      ],
      "text/latex": [
       "1e-05"
      ],
      "text/markdown": [
       "1e-05"
      ],
      "text/plain": [
       "[1] 1e-05"
      ]
     },
     "metadata": {},
     "output_type": "display_data"
    },
    {
     "data": {
      "text/html": [
       "0.79060432109077"
      ],
      "text/latex": [
       "0.79060432109077"
      ],
      "text/markdown": [
       "0.79060432109077"
      ],
      "text/plain": [
       "[1] 0.7906043"
      ]
     },
     "metadata": {},
     "output_type": "display_data"
    },
    {
     "data": {
      "text/html": [
       "1e+05"
      ],
      "text/latex": [
       "1e+05"
      ],
      "text/markdown": [
       "1e+05"
      ],
      "text/plain": [
       "[1] 1e+05"
      ]
     },
     "metadata": {},
     "output_type": "display_data"
    }
   ],
   "source": [
    "penalty_grid$penalty[1]\n",
    "penalty_grid$penalty[25]\n",
    "penalty_grid$penalty[50]"
   ]
  },
  {
   "cell_type": "code",
   "execution_count": 23,
   "metadata": {
    "deletable": false,
    "editable": false,
    "nbgrader": {
     "cell_type": "code",
     "checksum": "bd9afdf3ac027ab39ac27d0863dc9d07",
     "grade": true,
     "grade_id": "cell-f90c48494d305cd3",
     "locked": true,
     "points": 1,
     "schema_version": 3,
     "solution": false,
     "task": false
    }
   },
   "outputs": [
    {
     "ename": "ERROR",
     "evalue": "Error in expect_equal(penalty_grid$penalty[1], 1e-05): could not find function \"expect_equal\"\n",
     "output_type": "error",
     "traceback": [
      "Error in expect_equal(penalty_grid$penalty[1], 1e-05): could not find function \"expect_equal\"\nTraceback:\n"
     ]
    }
   ],
   "source": [
    "expect_equal(penalty_grid$penalty[1], 1e-05)\n",
    "expect_equal(penalty_grid$penalty[25], 0.79060432109077, tolerance=1e-5)\n",
    "expect_equal(penalty_grid$penalty[50], 1e+05)\n",
    "\n",
    "# Hidden Tests"
   ]
  },
  {
   "cell_type": "markdown",
   "metadata": {
    "deletable": false,
    "editable": false,
    "nbgrader": {
     "cell_type": "markdown",
     "checksum": "4efb943e6397f7bbbf36f63298e17e22",
     "grade": false,
     "grade_id": "cell-0703997dfebdc01e",
     "locked": true,
     "schema_version": 3,
     "solution": false,
     "task": false
    }
   },
   "source": [
    "Using 50 levels for one parameter might seem overkill and in many applications it is. But remember that `glmnet` fits all the models in one go so adding more levels to `penalty` doesn't affect the computational speed much.\n",
    "\n",
    "Now you have everything you need and you can fit all the models. Your output variable here is going to be `tune_res` and you will be using the `tune_grid` function. \n"
   ]
  },
  {
   "cell_type": "code",
   "execution_count": 24,
   "metadata": {
    "deletable": false,
    "editable": false,
    "nbgrader": {
     "cell_type": "code",
     "checksum": "42ef85e9a873e5493b95bbf6c9aea012",
     "grade": false,
     "grade_id": "cell-2b3fa7886438a45e",
     "locked": true,
     "schema_version": 3,
     "solution": false,
     "task": false
    }
   },
   "outputs": [
    {
     "name": "stderr",
     "output_type": "stream",
     "text": [
      "→ \u001b[33m\u001b[1mA\u001b[22m\u001b[39m | \u001b[33mwarning\u001b[39m: \u001b[1m\u001b[22mA correlation computation is required, but `estimate` is constant and has 0\n",
      "               standard deviation, resulting in a divide by 0 error. `NA` will be returned.\n",
      "\n",
      "There were issues with some computations   \u001b[1m\u001b[33mA\u001b[39m\u001b[22m: x1\n",
      "\n",
      "There were issues with some computations   \u001b[1m\u001b[33mA\u001b[39m\u001b[22m: x1\n",
      "\n",
      "\n",
      "\n",
      "Warning message:\n",
      "“More than one set of outcomes were used when tuning. This should never happen. Review how the outcome is specified in your model.”\n"
     ]
    }
   ],
   "source": [
    "tune_res <- tune_grid(\n",
    "  ridge_workflow,\n",
    "  resamples = Hitters_fold, \n",
    "  grid = penalty_grid\n",
    ")"
   ]
  },
  {
   "cell_type": "markdown",
   "metadata": {
    "deletable": false,
    "editable": false,
    "nbgrader": {
     "cell_type": "markdown",
     "checksum": "8a4decdb3aadbbeab0758309fb67839a",
     "grade": false,
     "grade_id": "cell-9b165a95a6e2b639",
     "locked": true,
     "schema_version": 3,
     "solution": false,
     "task": false
    }
   },
   "source": [
    "The output of `tune_grid()` can be hard to read by itself unprocessed. `autoplot()` creates a great visualization. Go on ahead and use this function for visualization. What do you notice in your plot? "
   ]
  },
  {
   "cell_type": "code",
   "execution_count": 25,
   "metadata": {
    "deletable": false,
    "editable": false,
    "nbgrader": {
     "cell_type": "code",
     "checksum": "df4618ca61cbb8841f8a7293a1f7cf5d",
     "grade": false,
     "grade_id": "cell-34aaf7586c48f4d8",
     "locked": true,
     "schema_version": 3,
     "solution": false,
     "task": false
    }
   },
   "outputs": [
    {
     "data": {
      "image/png": "[encoded data removed]",
      "text/plain": [
       "plot without title"
      ]
     },
     "metadata": {
      "image/png": {
       "height": 420,
       "width": 420
      },
      "text/plain": {
       "height": 420,
       "width": 420
      }
     },
     "output_type": "display_data"
    }
   ],
   "source": [
    "autoplot(tune_res)"
   ]
  },
  {
   "cell_type": "markdown",
   "metadata": {
    "deletable": false,
    "editable": false,
    "nbgrader": {
     "cell_type": "markdown",
     "checksum": "cf5dc9f77ad27eee317f7cfc8ec086d7",
     "grade": false,
     "grade_id": "cell-b807b8ed73b3dc37",
     "locked": true,
     "schema_version": 3,
     "solution": false,
     "task": false
    }
   },
   "source": [
    "You can also see the raw metrics that created this chart by calling `collect_matrics()`.\n"
   ]
  },
  {
   "cell_type": "code",
   "execution_count": 26,
   "metadata": {
    "deletable": false,
    "editable": false,
    "nbgrader": {
     "cell_type": "code",
     "checksum": "cf290a79175ef109cda0523bacb08b9b",
     "grade": false,
     "grade_id": "cell-d4388d07b349a945",
     "locked": true,
     "schema_version": 3,
     "solution": false,
     "task": false
    }
   },
   "outputs": [
    {
     "data": {
      "text/html": [
       "<table>\n",
       "<caption>A tibble: 100 × 7</caption>\n",
       "<thead>\n",
       "\t<tr><th scope=col>penalty</th><th scope=col>.metric</th><th scope=col>.estimator</th><th scope=col>mean</th><th scope=col>n</th><th scope=col>std_err</th><th scope=col>.config</th></tr>\n",
       "\t<tr><th scope=col>&lt;dbl&gt;</th><th scope=col>&lt;chr&gt;</th><th scope=col>&lt;chr&gt;</th><th scope=col>&lt;dbl&gt;</th><th scope=col>&lt;int&gt;</th><th scope=col>&lt;dbl&gt;</th><th scope=col>&lt;fct&gt;</th></tr>\n",
       "</thead>\n",
       "<tbody>\n",
       "\t<tr><td>1.000000e-05</td><td>rmse</td><td>standard</td><td>551.2199829</td><td>1</td><td>NA</td><td>Preprocessor1_Model01</td></tr>\n",
       "\t<tr><td>1.000000e-05</td><td>rsq </td><td>standard</td><td>  0.2404823</td><td>1</td><td>NA</td><td>Preprocessor1_Model01</td></tr>\n",
       "\t<tr><td>1.599859e-05</td><td>rmse</td><td>standard</td><td>551.2199829</td><td>1</td><td>NA</td><td>Preprocessor1_Model02</td></tr>\n",
       "\t<tr><td>1.599859e-05</td><td>rsq </td><td>standard</td><td>  0.2404823</td><td>1</td><td>NA</td><td>Preprocessor1_Model02</td></tr>\n",
       "\t<tr><td>2.559548e-05</td><td>rmse</td><td>standard</td><td>551.2199829</td><td>1</td><td>NA</td><td>Preprocessor1_Model03</td></tr>\n",
       "\t<tr><td>2.559548e-05</td><td>rsq </td><td>standard</td><td>  0.2404823</td><td>1</td><td>NA</td><td>Preprocessor1_Model03</td></tr>\n",
       "\t<tr><td>4.094915e-05</td><td>rmse</td><td>standard</td><td>551.2199829</td><td>1</td><td>NA</td><td>Preprocessor1_Model04</td></tr>\n",
       "\t<tr><td>4.094915e-05</td><td>rsq </td><td>standard</td><td>  0.2404823</td><td>1</td><td>NA</td><td>Preprocessor1_Model04</td></tr>\n",
       "\t<tr><td>6.551286e-05</td><td>rmse</td><td>standard</td><td>551.2199829</td><td>1</td><td>NA</td><td>Preprocessor1_Model05</td></tr>\n",
       "\t<tr><td>6.551286e-05</td><td>rsq </td><td>standard</td><td>  0.2404823</td><td>1</td><td>NA</td><td>Preprocessor1_Model05</td></tr>\n",
       "\t<tr><td>1.048113e-04</td><td>rmse</td><td>standard</td><td>551.2199829</td><td>1</td><td>NA</td><td>Preprocessor1_Model06</td></tr>\n",
       "\t<tr><td>1.048113e-04</td><td>rsq </td><td>standard</td><td>  0.2404823</td><td>1</td><td>NA</td><td>Preprocessor1_Model06</td></tr>\n",
       "\t<tr><td>1.676833e-04</td><td>rmse</td><td>standard</td><td>551.2199829</td><td>1</td><td>NA</td><td>Preprocessor1_Model07</td></tr>\n",
       "\t<tr><td>1.676833e-04</td><td>rsq </td><td>standard</td><td>  0.2404823</td><td>1</td><td>NA</td><td>Preprocessor1_Model07</td></tr>\n",
       "\t<tr><td>2.682696e-04</td><td>rmse</td><td>standard</td><td>551.2199829</td><td>1</td><td>NA</td><td>Preprocessor1_Model08</td></tr>\n",
       "\t<tr><td>2.682696e-04</td><td>rsq </td><td>standard</td><td>  0.2404823</td><td>1</td><td>NA</td><td>Preprocessor1_Model08</td></tr>\n",
       "\t<tr><td>4.291934e-04</td><td>rmse</td><td>standard</td><td>551.2199829</td><td>1</td><td>NA</td><td>Preprocessor1_Model09</td></tr>\n",
       "\t<tr><td>4.291934e-04</td><td>rsq </td><td>standard</td><td>  0.2404823</td><td>1</td><td>NA</td><td>Preprocessor1_Model09</td></tr>\n",
       "\t<tr><td>6.866488e-04</td><td>rmse</td><td>standard</td><td>551.2199829</td><td>1</td><td>NA</td><td>Preprocessor1_Model10</td></tr>\n",
       "\t<tr><td>6.866488e-04</td><td>rsq </td><td>standard</td><td>  0.2404823</td><td>1</td><td>NA</td><td>Preprocessor1_Model10</td></tr>\n",
       "\t<tr><td>1.098541e-03</td><td>rmse</td><td>standard</td><td>551.2199829</td><td>1</td><td>NA</td><td>Preprocessor1_Model11</td></tr>\n",
       "\t<tr><td>1.098541e-03</td><td>rsq </td><td>standard</td><td>  0.2404823</td><td>1</td><td>NA</td><td>Preprocessor1_Model11</td></tr>\n",
       "\t<tr><td>1.757511e-03</td><td>rmse</td><td>standard</td><td>551.2199829</td><td>1</td><td>NA</td><td>Preprocessor1_Model12</td></tr>\n",
       "\t<tr><td>1.757511e-03</td><td>rsq </td><td>standard</td><td>  0.2404823</td><td>1</td><td>NA</td><td>Preprocessor1_Model12</td></tr>\n",
       "\t<tr><td>2.811769e-03</td><td>rmse</td><td>standard</td><td>551.2199829</td><td>1</td><td>NA</td><td>Preprocessor1_Model13</td></tr>\n",
       "\t<tr><td>2.811769e-03</td><td>rsq </td><td>standard</td><td>  0.2404823</td><td>1</td><td>NA</td><td>Preprocessor1_Model13</td></tr>\n",
       "\t<tr><td>4.498433e-03</td><td>rmse</td><td>standard</td><td>551.2199829</td><td>1</td><td>NA</td><td>Preprocessor1_Model14</td></tr>\n",
       "\t<tr><td>4.498433e-03</td><td>rsq </td><td>standard</td><td>  0.2404823</td><td>1</td><td>NA</td><td>Preprocessor1_Model14</td></tr>\n",
       "\t<tr><td>7.196857e-03</td><td>rmse</td><td>standard</td><td>551.2199829</td><td>1</td><td>NA</td><td>Preprocessor1_Model15</td></tr>\n",
       "\t<tr><td>7.196857e-03</td><td>rsq </td><td>standard</td><td>  0.2404823</td><td>1</td><td>NA</td><td>Preprocessor1_Model15</td></tr>\n",
       "\t<tr><td>⋮</td><td>⋮</td><td>⋮</td><td>⋮</td><td>⋮</td><td>⋮</td><td>⋮</td></tr>\n",
       "\t<tr><td>   138.9495</td><td>rmse</td><td>standard</td><td>598.1560008</td><td>1</td><td>NA</td><td>Preprocessor1_Model36</td></tr>\n",
       "\t<tr><td>   138.9495</td><td>rsq </td><td>standard</td><td>  0.1054383</td><td>1</td><td>NA</td><td>Preprocessor1_Model36</td></tr>\n",
       "\t<tr><td>   222.2996</td><td>rmse</td><td>standard</td><td>611.5993767</td><td>1</td><td>NA</td><td>Preprocessor1_Model37</td></tr>\n",
       "\t<tr><td>   222.2996</td><td>rsq </td><td>standard</td><td>  0.2452034</td><td>1</td><td>NA</td><td>Preprocessor1_Model37</td></tr>\n",
       "\t<tr><td>   355.6480</td><td>rmse</td><td>standard</td><td>622.5481531</td><td>1</td><td>NA</td><td>Preprocessor1_Model38</td></tr>\n",
       "\t<tr><td>   355.6480</td><td>rsq </td><td>standard</td><td>        NaN</td><td>0</td><td>NA</td><td>Preprocessor1_Model38</td></tr>\n",
       "\t<tr><td>   568.9866</td><td>rmse</td><td>standard</td><td>622.5481531</td><td>1</td><td>NA</td><td>Preprocessor1_Model39</td></tr>\n",
       "\t<tr><td>   568.9866</td><td>rsq </td><td>standard</td><td>        NaN</td><td>0</td><td>NA</td><td>Preprocessor1_Model39</td></tr>\n",
       "\t<tr><td>   910.2982</td><td>rmse</td><td>standard</td><td>622.5481531</td><td>1</td><td>NA</td><td>Preprocessor1_Model40</td></tr>\n",
       "\t<tr><td>   910.2982</td><td>rsq </td><td>standard</td><td>        NaN</td><td>0</td><td>NA</td><td>Preprocessor1_Model40</td></tr>\n",
       "\t<tr><td>  1456.3485</td><td>rmse</td><td>standard</td><td>622.5481531</td><td>1</td><td>NA</td><td>Preprocessor1_Model41</td></tr>\n",
       "\t<tr><td>  1456.3485</td><td>rsq </td><td>standard</td><td>        NaN</td><td>0</td><td>NA</td><td>Preprocessor1_Model41</td></tr>\n",
       "\t<tr><td>  2329.9518</td><td>rmse</td><td>standard</td><td>622.5481531</td><td>1</td><td>NA</td><td>Preprocessor1_Model42</td></tr>\n",
       "\t<tr><td>  2329.9518</td><td>rsq </td><td>standard</td><td>        NaN</td><td>0</td><td>NA</td><td>Preprocessor1_Model42</td></tr>\n",
       "\t<tr><td>  3727.5937</td><td>rmse</td><td>standard</td><td>622.5481531</td><td>1</td><td>NA</td><td>Preprocessor1_Model43</td></tr>\n",
       "\t<tr><td>  3727.5937</td><td>rsq </td><td>standard</td><td>        NaN</td><td>0</td><td>NA</td><td>Preprocessor1_Model43</td></tr>\n",
       "\t<tr><td>  5963.6233</td><td>rmse</td><td>standard</td><td>622.5481531</td><td>1</td><td>NA</td><td>Preprocessor1_Model44</td></tr>\n",
       "\t<tr><td>  5963.6233</td><td>rsq </td><td>standard</td><td>        NaN</td><td>0</td><td>NA</td><td>Preprocessor1_Model44</td></tr>\n",
       "\t<tr><td>  9540.9548</td><td>rmse</td><td>standard</td><td>622.5481531</td><td>1</td><td>NA</td><td>Preprocessor1_Model45</td></tr>\n",
       "\t<tr><td>  9540.9548</td><td>rsq </td><td>standard</td><td>        NaN</td><td>0</td><td>NA</td><td>Preprocessor1_Model45</td></tr>\n",
       "\t<tr><td> 15264.1797</td><td>rmse</td><td>standard</td><td>622.5481531</td><td>1</td><td>NA</td><td>Preprocessor1_Model46</td></tr>\n",
       "\t<tr><td> 15264.1797</td><td>rsq </td><td>standard</td><td>        NaN</td><td>0</td><td>NA</td><td>Preprocessor1_Model46</td></tr>\n",
       "\t<tr><td> 24420.5309</td><td>rmse</td><td>standard</td><td>622.5481531</td><td>1</td><td>NA</td><td>Preprocessor1_Model47</td></tr>\n",
       "\t<tr><td> 24420.5309</td><td>rsq </td><td>standard</td><td>        NaN</td><td>0</td><td>NA</td><td>Preprocessor1_Model47</td></tr>\n",
       "\t<tr><td> 39069.3994</td><td>rmse</td><td>standard</td><td>622.5481531</td><td>1</td><td>NA</td><td>Preprocessor1_Model48</td></tr>\n",
       "\t<tr><td> 39069.3994</td><td>rsq </td><td>standard</td><td>        NaN</td><td>0</td><td>NA</td><td>Preprocessor1_Model48</td></tr>\n",
       "\t<tr><td> 62505.5193</td><td>rmse</td><td>standard</td><td>622.5481531</td><td>1</td><td>NA</td><td>Preprocessor1_Model49</td></tr>\n",
       "\t<tr><td> 62505.5193</td><td>rsq </td><td>standard</td><td>        NaN</td><td>0</td><td>NA</td><td>Preprocessor1_Model49</td></tr>\n",
       "\t<tr><td>100000.0000</td><td>rmse</td><td>standard</td><td>622.5481531</td><td>1</td><td>NA</td><td>Preprocessor1_Model50</td></tr>\n",
       "\t<tr><td>100000.0000</td><td>rsq </td><td>standard</td><td>        NaN</td><td>0</td><td>NA</td><td>Preprocessor1_Model50</td></tr>\n",
       "</tbody>\n",
       "</table>\n"
      ],
      "text/latex": [
       "A tibble: 100 × 7\n",
       "\\begin{tabular}{lllllll}\n",
       " penalty & .metric & .estimator & mean & n & std\\_err & .config\\\\\n",
       " <dbl> & <chr> & <chr> & <dbl> & <int> & <dbl> & <fct>\\\\\n",
       "\\hline\n",
       "\t 1.000000e-05 & rmse & standard & 551.2199829 & 1 & NA & Preprocessor1\\_Model01\\\\\n",
       "\t 1.000000e-05 & rsq  & standard &   0.2404823 & 1 & NA & Preprocessor1\\_Model01\\\\\n",
       "\t 1.599859e-05 & rmse & standard & 551.2199829 & 1 & NA & Preprocessor1\\_Model02\\\\\n",
       "\t 1.599859e-05 & rsq  & standard &   0.2404823 & 1 & NA & Preprocessor1\\_Model02\\\\\n",
       "\t 2.559548e-05 & rmse & standard & 551.2199829 & 1 & NA & Preprocessor1\\_Model03\\\\\n",
       "\t 2.559548e-05 & rsq  & standard &   0.2404823 & 1 & NA & Preprocessor1\\_Model03\\\\\n",
       "\t 4.094915e-05 & rmse & standard & 551.2199829 & 1 & NA & Preprocessor1\\_Model04\\\\\n",
       "\t 4.094915e-05 & rsq  & standard &   0.2404823 & 1 & NA & Preprocessor1\\_Model04\\\\\n",
       "\t 6.551286e-05 & rmse & standard & 551.2199829 & 1 & NA & Preprocessor1\\_Model05\\\\\n",
       "\t 6.551286e-05 & rsq  & standard &   0.2404823 & 1 & NA & Preprocessor1\\_Model05\\\\\n",
       "\t 1.048113e-04 & rmse & standard & 551.2199829 & 1 & NA & Preprocessor1\\_Model06\\\\\n",
       "\t 1.048113e-04 & rsq  & standard &   0.2404823 & 1 & NA & Preprocessor1\\_Model06\\\\\n",
       "\t 1.676833e-04 & rmse & standard & 551.2199829 & 1 & NA & Preprocessor1\\_Model07\\\\\n",
       "\t 1.676833e-04 & rsq  & standard &   0.2404823 & 1 & NA & Preprocessor1\\_Model07\\\\\n",
       "\t 2.682696e-04 & rmse & standard & 551.2199829 & 1 & NA & Preprocessor1\\_Model08\\\\\n",
       "\t 2.682696e-04 & rsq  & standard &   0.2404823 & 1 & NA & Preprocessor1\\_Model08\\\\\n",
       "\t 4.291934e-04 & rmse & standard & 551.2199829 & 1 & NA & Preprocessor1\\_Model09\\\\\n",
       "\t 4.291934e-04 & rsq  & standard &   0.2404823 & 1 & NA & Preprocessor1\\_Model09\\\\\n",
       "\t 6.866488e-04 & rmse & standard & 551.2199829 & 1 & NA & Preprocessor1\\_Model10\\\\\n",
       "\t 6.866488e-04 & rsq  & standard &   0.2404823 & 1 & NA & Preprocessor1\\_Model10\\\\\n",
       "\t 1.098541e-03 & rmse & standard & 551.2199829 & 1 & NA & Preprocessor1\\_Model11\\\\\n",
       "\t 1.098541e-03 & rsq  & standard &   0.2404823 & 1 & NA & Preprocessor1\\_Model11\\\\\n",
       "\t 1.757511e-03 & rmse & standard & 551.2199829 & 1 & NA & Preprocessor1\\_Model12\\\\\n",
       "\t 1.757511e-03 & rsq  & standard &   0.2404823 & 1 & NA & Preprocessor1\\_Model12\\\\\n",
       "\t 2.811769e-03 & rmse & standard & 551.2199829 & 1 & NA & Preprocessor1\\_Model13\\\\\n",
       "\t 2.811769e-03 & rsq  & standard &   0.2404823 & 1 & NA & Preprocessor1\\_Model13\\\\\n",
       "\t 4.498433e-03 & rmse & standard & 551.2199829 & 1 & NA & Preprocessor1\\_Model14\\\\\n",
       "\t 4.498433e-03 & rsq  & standard &   0.2404823 & 1 & NA & Preprocessor1\\_Model14\\\\\n",
       "\t 7.196857e-03 & rmse & standard & 551.2199829 & 1 & NA & Preprocessor1\\_Model15\\\\\n",
       "\t 7.196857e-03 & rsq  & standard &   0.2404823 & 1 & NA & Preprocessor1\\_Model15\\\\\n",
       "\t ⋮ & ⋮ & ⋮ & ⋮ & ⋮ & ⋮ & ⋮\\\\\n",
       "\t    138.9495 & rmse & standard & 598.1560008 & 1 & NA & Preprocessor1\\_Model36\\\\\n",
       "\t    138.9495 & rsq  & standard &   0.1054383 & 1 & NA & Preprocessor1\\_Model36\\\\\n",
       "\t    222.2996 & rmse & standard & 611.5993767 & 1 & NA & Preprocessor1\\_Model37\\\\\n",
       "\t    222.2996 & rsq  & standard &   0.2452034 & 1 & NA & Preprocessor1\\_Model37\\\\\n",
       "\t    355.6480 & rmse & standard & 622.5481531 & 1 & NA & Preprocessor1\\_Model38\\\\\n",
       "\t    355.6480 & rsq  & standard &         NaN & 0 & NA & Preprocessor1\\_Model38\\\\\n",
       "\t    568.9866 & rmse & standard & 622.5481531 & 1 & NA & Preprocessor1\\_Model39\\\\\n",
       "\t    568.9866 & rsq  & standard &         NaN & 0 & NA & Preprocessor1\\_Model39\\\\\n",
       "\t    910.2982 & rmse & standard & 622.5481531 & 1 & NA & Preprocessor1\\_Model40\\\\\n",
       "\t    910.2982 & rsq  & standard &         NaN & 0 & NA & Preprocessor1\\_Model40\\\\\n",
       "\t   1456.3485 & rmse & standard & 622.5481531 & 1 & NA & Preprocessor1\\_Model41\\\\\n",
       "\t   1456.3485 & rsq  & standard &         NaN & 0 & NA & Preprocessor1\\_Model41\\\\\n",
       "\t   2329.9518 & rmse & standard & 622.5481531 & 1 & NA & Preprocessor1\\_Model42\\\\\n",
       "\t   2329.9518 & rsq  & standard &         NaN & 0 & NA & Preprocessor1\\_Model42\\\\\n",
       "\t   3727.5937 & rmse & standard & 622.5481531 & 1 & NA & Preprocessor1\\_Model43\\\\\n",
       "\t   3727.5937 & rsq  & standard &         NaN & 0 & NA & Preprocessor1\\_Model43\\\\\n",
       "\t   5963.6233 & rmse & standard & 622.5481531 & 1 & NA & Preprocessor1\\_Model44\\\\\n",
       "\t   5963.6233 & rsq  & standard &         NaN & 0 & NA & Preprocessor1\\_Model44\\\\\n",
       "\t   9540.9548 & rmse & standard & 622.5481531 & 1 & NA & Preprocessor1\\_Model45\\\\\n",
       "\t   9540.9548 & rsq  & standard &         NaN & 0 & NA & Preprocessor1\\_Model45\\\\\n",
       "\t  15264.1797 & rmse & standard & 622.5481531 & 1 & NA & Preprocessor1\\_Model46\\\\\n",
       "\t  15264.1797 & rsq  & standard &         NaN & 0 & NA & Preprocessor1\\_Model46\\\\\n",
       "\t  24420.5309 & rmse & standard & 622.5481531 & 1 & NA & Preprocessor1\\_Model47\\\\\n",
       "\t  24420.5309 & rsq  & standard &         NaN & 0 & NA & Preprocessor1\\_Model47\\\\\n",
       "\t  39069.3994 & rmse & standard & 622.5481531 & 1 & NA & Preprocessor1\\_Model48\\\\\n",
       "\t  39069.3994 & rsq  & standard &         NaN & 0 & NA & Preprocessor1\\_Model48\\\\\n",
       "\t  62505.5193 & rmse & standard & 622.5481531 & 1 & NA & Preprocessor1\\_Model49\\\\\n",
       "\t  62505.5193 & rsq  & standard &         NaN & 0 & NA & Preprocessor1\\_Model49\\\\\n",
       "\t 100000.0000 & rmse & standard & 622.5481531 & 1 & NA & Preprocessor1\\_Model50\\\\\n",
       "\t 100000.0000 & rsq  & standard &         NaN & 0 & NA & Preprocessor1\\_Model50\\\\\n",
       "\\end{tabular}\n"
      ],
      "text/markdown": [
       "\n",
       "A tibble: 100 × 7\n",
       "\n",
       "| penalty &lt;dbl&gt; | .metric &lt;chr&gt; | .estimator &lt;chr&gt; | mean &lt;dbl&gt; | n &lt;int&gt; | std_err &lt;dbl&gt; | .config &lt;fct&gt; |\n",
       "|---|---|---|---|---|---|---|\n",
       "| 1.000000e-05 | rmse | standard | 551.2199829 | 1 | NA | Preprocessor1_Model01 |\n",
       "| 1.000000e-05 | rsq  | standard |   0.2404823 | 1 | NA | Preprocessor1_Model01 |\n",
       "| 1.599859e-05 | rmse | standard | 551.2199829 | 1 | NA | Preprocessor1_Model02 |\n",
       "| 1.599859e-05 | rsq  | standard |   0.2404823 | 1 | NA | Preprocessor1_Model02 |\n",
       "| 2.559548e-05 | rmse | standard | 551.2199829 | 1 | NA | Preprocessor1_Model03 |\n",
       "| 2.559548e-05 | rsq  | standard |   0.2404823 | 1 | NA | Preprocessor1_Model03 |\n",
       "| 4.094915e-05 | rmse | standard | 551.2199829 | 1 | NA | Preprocessor1_Model04 |\n",
       "| 4.094915e-05 | rsq  | standard |   0.2404823 | 1 | NA | Preprocessor1_Model04 |\n",
       "| 6.551286e-05 | rmse | standard | 551.2199829 | 1 | NA | Preprocessor1_Model05 |\n",
       "| 6.551286e-05 | rsq  | standard |   0.2404823 | 1 | NA | Preprocessor1_Model05 |\n",
       "| 1.048113e-04 | rmse | standard | 551.2199829 | 1 | NA | Preprocessor1_Model06 |\n",
       "| 1.048113e-04 | rsq  | standard |   0.2404823 | 1 | NA | Preprocessor1_Model06 |\n",
       "| 1.676833e-04 | rmse | standard | 551.2199829 | 1 | NA | Preprocessor1_Model07 |\n",
       "| 1.676833e-04 | rsq  | standard |   0.2404823 | 1 | NA | Preprocessor1_Model07 |\n",
       "| 2.682696e-04 | rmse | standard | 551.2199829 | 1 | NA | Preprocessor1_Model08 |\n",
       "| 2.682696e-04 | rsq  | standard |   0.2404823 | 1 | NA | Preprocessor1_Model08 |\n",
       "| 4.291934e-04 | rmse | standard | 551.2199829 | 1 | NA | Preprocessor1_Model09 |\n",
       "| 4.291934e-04 | rsq  | standard |   0.2404823 | 1 | NA | Preprocessor1_Model09 |\n",
       "| 6.866488e-04 | rmse | standard | 551.2199829 | 1 | NA | Preprocessor1_Model10 |\n",
       "| 6.866488e-04 | rsq  | standard |   0.2404823 | 1 | NA | Preprocessor1_Model10 |\n",
       "| 1.098541e-03 | rmse | standard | 551.2199829 | 1 | NA | Preprocessor1_Model11 |\n",
       "| 1.098541e-03 | rsq  | standard |   0.2404823 | 1 | NA | Preprocessor1_Model11 |\n",
       "| 1.757511e-03 | rmse | standard | 551.2199829 | 1 | NA | Preprocessor1_Model12 |\n",
       "| 1.757511e-03 | rsq  | standard |   0.2404823 | 1 | NA | Preprocessor1_Model12 |\n",
       "| 2.811769e-03 | rmse | standard | 551.2199829 | 1 | NA | Preprocessor1_Model13 |\n",
       "| 2.811769e-03 | rsq  | standard |   0.2404823 | 1 | NA | Preprocessor1_Model13 |\n",
       "| 4.498433e-03 | rmse | standard | 551.2199829 | 1 | NA | Preprocessor1_Model14 |\n",
       "| 4.498433e-03 | rsq  | standard |   0.2404823 | 1 | NA | Preprocessor1_Model14 |\n",
       "| 7.196857e-03 | rmse | standard | 551.2199829 | 1 | NA | Preprocessor1_Model15 |\n",
       "| 7.196857e-03 | rsq  | standard |   0.2404823 | 1 | NA | Preprocessor1_Model15 |\n",
       "| ⋮ | ⋮ | ⋮ | ⋮ | ⋮ | ⋮ | ⋮ |\n",
       "|    138.9495 | rmse | standard | 598.1560008 | 1 | NA | Preprocessor1_Model36 |\n",
       "|    138.9495 | rsq  | standard |   0.1054383 | 1 | NA | Preprocessor1_Model36 |\n",
       "|    222.2996 | rmse | standard | 611.5993767 | 1 | NA | Preprocessor1_Model37 |\n",
       "|    222.2996 | rsq  | standard |   0.2452034 | 1 | NA | Preprocessor1_Model37 |\n",
       "|    355.6480 | rmse | standard | 622.5481531 | 1 | NA | Preprocessor1_Model38 |\n",
       "|    355.6480 | rsq  | standard |         NaN | 0 | NA | Preprocessor1_Model38 |\n",
       "|    568.9866 | rmse | standard | 622.5481531 | 1 | NA | Preprocessor1_Model39 |\n",
       "|    568.9866 | rsq  | standard |         NaN | 0 | NA | Preprocessor1_Model39 |\n",
       "|    910.2982 | rmse | standard | 622.5481531 | 1 | NA | Preprocessor1_Model40 |\n",
       "|    910.2982 | rsq  | standard |         NaN | 0 | NA | Preprocessor1_Model40 |\n",
       "|   1456.3485 | rmse | standard | 622.5481531 | 1 | NA | Preprocessor1_Model41 |\n",
       "|   1456.3485 | rsq  | standard |         NaN | 0 | NA | Preprocessor1_Model41 |\n",
       "|   2329.9518 | rmse | standard | 622.5481531 | 1 | NA | Preprocessor1_Model42 |\n",
       "|   2329.9518 | rsq  | standard |         NaN | 0 | NA | Preprocessor1_Model42 |\n",
       "|   3727.5937 | rmse | standard | 622.5481531 | 1 | NA | Preprocessor1_Model43 |\n",
       "|   3727.5937 | rsq  | standard |         NaN | 0 | NA | Preprocessor1_Model43 |\n",
       "|   5963.6233 | rmse | standard | 622.5481531 | 1 | NA | Preprocessor1_Model44 |\n",
       "|   5963.6233 | rsq  | standard |         NaN | 0 | NA | Preprocessor1_Model44 |\n",
       "|   9540.9548 | rmse | standard | 622.5481531 | 1 | NA | Preprocessor1_Model45 |\n",
       "|   9540.9548 | rsq  | standard |         NaN | 0 | NA | Preprocessor1_Model45 |\n",
       "|  15264.1797 | rmse | standard | 622.5481531 | 1 | NA | Preprocessor1_Model46 |\n",
       "|  15264.1797 | rsq  | standard |         NaN | 0 | NA | Preprocessor1_Model46 |\n",
       "|  24420.5309 | rmse | standard | 622.5481531 | 1 | NA | Preprocessor1_Model47 |\n",
       "|  24420.5309 | rsq  | standard |         NaN | 0 | NA | Preprocessor1_Model47 |\n",
       "|  39069.3994 | rmse | standard | 622.5481531 | 1 | NA | Preprocessor1_Model48 |\n",
       "|  39069.3994 | rsq  | standard |         NaN | 0 | NA | Preprocessor1_Model48 |\n",
       "|  62505.5193 | rmse | standard | 622.5481531 | 1 | NA | Preprocessor1_Model49 |\n",
       "|  62505.5193 | rsq  | standard |         NaN | 0 | NA | Preprocessor1_Model49 |\n",
       "| 100000.0000 | rmse | standard | 622.5481531 | 1 | NA | Preprocessor1_Model50 |\n",
       "| 100000.0000 | rsq  | standard |         NaN | 0 | NA | Preprocessor1_Model50 |\n",
       "\n"
      ],
      "text/plain": [
       "    penalty      .metric .estimator mean        n std_err .config              \n",
       "1   1.000000e-05 rmse    standard   551.2199829 1 NA      Preprocessor1_Model01\n",
       "2   1.000000e-05 rsq     standard     0.2404823 1 NA      Preprocessor1_Model01\n",
       "3   1.599859e-05 rmse    standard   551.2199829 1 NA      Preprocessor1_Model02\n",
       "4   1.599859e-05 rsq     standard     0.2404823 1 NA      Preprocessor1_Model02\n",
       "5   2.559548e-05 rmse    standard   551.2199829 1 NA      Preprocessor1_Model03\n",
       "6   2.559548e-05 rsq     standard     0.2404823 1 NA      Preprocessor1_Model03\n",
       "7   4.094915e-05 rmse    standard   551.2199829 1 NA      Preprocessor1_Model04\n",
       "8   4.094915e-05 rsq     standard     0.2404823 1 NA      Preprocessor1_Model04\n",
       "9   6.551286e-05 rmse    standard   551.2199829 1 NA      Preprocessor1_Model05\n",
       "10  6.551286e-05 rsq     standard     0.2404823 1 NA      Preprocessor1_Model05\n",
       "11  1.048113e-04 rmse    standard   551.2199829 1 NA      Preprocessor1_Model06\n",
       "12  1.048113e-04 rsq     standard     0.2404823 1 NA      Preprocessor1_Model06\n",
       "13  1.676833e-04 rmse    standard   551.2199829 1 NA      Preprocessor1_Model07\n",
       "14  1.676833e-04 rsq     standard     0.2404823 1 NA      Preprocessor1_Model07\n",
       "15  2.682696e-04 rmse    standard   551.2199829 1 NA      Preprocessor1_Model08\n",
       "16  2.682696e-04 rsq     standard     0.2404823 1 NA      Preprocessor1_Model08\n",
       "17  4.291934e-04 rmse    standard   551.2199829 1 NA      Preprocessor1_Model09\n",
       "18  4.291934e-04 rsq     standard     0.2404823 1 NA      Preprocessor1_Model09\n",
       "19  6.866488e-04 rmse    standard   551.2199829 1 NA      Preprocessor1_Model10\n",
       "20  6.866488e-04 rsq     standard     0.2404823 1 NA      Preprocessor1_Model10\n",
       "21  1.098541e-03 rmse    standard   551.2199829 1 NA      Preprocessor1_Model11\n",
       "22  1.098541e-03 rsq     standard     0.2404823 1 NA      Preprocessor1_Model11\n",
       "23  1.757511e-03 rmse    standard   551.2199829 1 NA      Preprocessor1_Model12\n",
       "24  1.757511e-03 rsq     standard     0.2404823 1 NA      Preprocessor1_Model12\n",
       "25  2.811769e-03 rmse    standard   551.2199829 1 NA      Preprocessor1_Model13\n",
       "26  2.811769e-03 rsq     standard     0.2404823 1 NA      Preprocessor1_Model13\n",
       "27  4.498433e-03 rmse    standard   551.2199829 1 NA      Preprocessor1_Model14\n",
       "28  4.498433e-03 rsq     standard     0.2404823 1 NA      Preprocessor1_Model14\n",
       "29  7.196857e-03 rmse    standard   551.2199829 1 NA      Preprocessor1_Model15\n",
       "30  7.196857e-03 rsq     standard     0.2404823 1 NA      Preprocessor1_Model15\n",
       "⋮   ⋮            ⋮       ⋮          ⋮           ⋮ ⋮       ⋮                    \n",
       "71     138.9495  rmse    standard   598.1560008 1 NA      Preprocessor1_Model36\n",
       "72     138.9495  rsq     standard     0.1054383 1 NA      Preprocessor1_Model36\n",
       "73     222.2996  rmse    standard   611.5993767 1 NA      Preprocessor1_Model37\n",
       "74     222.2996  rsq     standard     0.2452034 1 NA      Preprocessor1_Model37\n",
       "75     355.6480  rmse    standard   622.5481531 1 NA      Preprocessor1_Model38\n",
       "76     355.6480  rsq     standard           NaN 0 NA      Preprocessor1_Model38\n",
       "77     568.9866  rmse    standard   622.5481531 1 NA      Preprocessor1_Model39\n",
       "78     568.9866  rsq     standard           NaN 0 NA      Preprocessor1_Model39\n",
       "79     910.2982  rmse    standard   622.5481531 1 NA      Preprocessor1_Model40\n",
       "80     910.2982  rsq     standard           NaN 0 NA      Preprocessor1_Model40\n",
       "81    1456.3485  rmse    standard   622.5481531 1 NA      Preprocessor1_Model41\n",
       "82    1456.3485  rsq     standard           NaN 0 NA      Preprocessor1_Model41\n",
       "83    2329.9518  rmse    standard   622.5481531 1 NA      Preprocessor1_Model42\n",
       "84    2329.9518  rsq     standard           NaN 0 NA      Preprocessor1_Model42\n",
       "85    3727.5937  rmse    standard   622.5481531 1 NA      Preprocessor1_Model43\n",
       "86    3727.5937  rsq     standard           NaN 0 NA      Preprocessor1_Model43\n",
       "87    5963.6233  rmse    standard   622.5481531 1 NA      Preprocessor1_Model44\n",
       "88    5963.6233  rsq     standard           NaN 0 NA      Preprocessor1_Model44\n",
       "89    9540.9548  rmse    standard   622.5481531 1 NA      Preprocessor1_Model45\n",
       "90    9540.9548  rsq     standard           NaN 0 NA      Preprocessor1_Model45\n",
       "91   15264.1797  rmse    standard   622.5481531 1 NA      Preprocessor1_Model46\n",
       "92   15264.1797  rsq     standard           NaN 0 NA      Preprocessor1_Model46\n",
       "93   24420.5309  rmse    standard   622.5481531 1 NA      Preprocessor1_Model47\n",
       "94   24420.5309  rsq     standard           NaN 0 NA      Preprocessor1_Model47\n",
       "95   39069.3994  rmse    standard   622.5481531 1 NA      Preprocessor1_Model48\n",
       "96   39069.3994  rsq     standard           NaN 0 NA      Preprocessor1_Model48\n",
       "97   62505.5193  rmse    standard   622.5481531 1 NA      Preprocessor1_Model49\n",
       "98   62505.5193  rsq     standard           NaN 0 NA      Preprocessor1_Model49\n",
       "99  100000.0000  rmse    standard   622.5481531 1 NA      Preprocessor1_Model50\n",
       "100 100000.0000  rsq     standard           NaN 0 NA      Preprocessor1_Model50"
      ]
     },
     "metadata": {},
     "output_type": "display_data"
    }
   ],
   "source": [
    "collect_metrics(tune_res)"
   ]
  },
  {
   "cell_type": "markdown",
   "metadata": {
    "deletable": false,
    "editable": false,
    "nbgrader": {
     "cell_type": "markdown",
     "checksum": "4fe9b410a6006a6c711a5a3603ae1563",
     "grade": false,
     "grade_id": "cell-68bad29f91a09bff",
     "locked": true,
     "schema_version": 3,
     "solution": false,
     "task": false
    }
   },
   "source": [
    "The \"best\" values of this can be selected using `select_best()`, this function requires you to specify a `metric` that it should select against; use \"rsq\" for your metric. Your output variable here will be `best_penalty`. \n"
   ]
  },
  {
   "cell_type": "code",
   "execution_count": 27,
   "metadata": {
    "deletable": false,
    "nbgrader": {
     "cell_type": "code",
     "checksum": "808d99464fe46e7576330cf73746d4d1",
     "grade": false,
     "grade_id": "cell-0d6f842a8625f495",
     "locked": false,
     "schema_version": 3,
     "solution": true,
     "task": false
    }
   },
   "outputs": [
    {
     "data": {
      "text/html": [
       "<table>\n",
       "<caption>A tibble: 1 × 2</caption>\n",
       "<thead>\n",
       "\t<tr><th scope=col>penalty</th><th scope=col>.config</th></tr>\n",
       "\t<tr><th scope=col>&lt;dbl&gt;</th><th scope=col>&lt;fct&gt;</th></tr>\n",
       "</thead>\n",
       "<tbody>\n",
       "\t<tr><td>222.2996</td><td>Preprocessor1_Model37</td></tr>\n",
       "</tbody>\n",
       "</table>\n"
      ],
      "text/latex": [
       "A tibble: 1 × 2\n",
       "\\begin{tabular}{ll}\n",
       " penalty & .config\\\\\n",
       " <dbl> & <fct>\\\\\n",
       "\\hline\n",
       "\t 222.2996 & Preprocessor1\\_Model37\\\\\n",
       "\\end{tabular}\n"
      ],
      "text/markdown": [
       "\n",
       "A tibble: 1 × 2\n",
       "\n",
       "| penalty &lt;dbl&gt; | .config &lt;fct&gt; |\n",
       "|---|---|\n",
       "| 222.2996 | Preprocessor1_Model37 |\n",
       "\n"
      ],
      "text/plain": [
       "  penalty  .config              \n",
       "1 222.2996 Preprocessor1_Model37"
      ]
     },
     "metadata": {},
     "output_type": "display_data"
    }
   ],
   "source": [
    "# Select the best penalty based on the R-squared metric\n",
    "best_penalty <- select_best(tune_res, \"rsq\")\n",
    "\n",
    "# Print the best penalty\n",
    "best_penalty"
   ]
  },
  {
   "cell_type": "code",
   "execution_count": 28,
   "metadata": {
    "deletable": false,
    "editable": false,
    "nbgrader": {
     "cell_type": "code",
     "checksum": "7995ed0b89c143623420d6046e44fe41",
     "grade": true,
     "grade_id": "cell-2f357988b2a8bef2",
     "locked": true,
     "points": 1,
     "schema_version": 3,
     "solution": false,
     "task": false
    }
   },
   "outputs": [],
   "source": [
    "# Hidden Tests"
   ]
  },
  {
   "cell_type": "markdown",
   "metadata": {
    "deletable": false,
    "editable": false,
    "nbgrader": {
     "cell_type": "markdown",
     "checksum": "24be51b909e1d15e702220cba9289be1",
     "grade": false,
     "grade_id": "cell-42a1716bb67ef782",
     "locked": true,
     "schema_version": 3,
     "solution": false,
     "task": false
    }
   },
   "source": [
    "This value of `penalty` can then be used with `finalize_workflow()` to update/finalize the recipe by replacing `tune()` with the value of `best_penalty`. Now, this model should be fit again, this time using the whole training data set."
   ]
  },
  {
   "cell_type": "code",
   "execution_count": 29,
   "metadata": {
    "deletable": false,
    "editable": false,
    "nbgrader": {
     "cell_type": "code",
     "checksum": "c42304832dbed7a7b9ba65b8ee98ab2c",
     "grade": false,
     "grade_id": "cell-6d1962a650b51696",
     "locked": true,
     "schema_version": 3,
     "solution": false,
     "task": false
    }
   },
   "outputs": [],
   "source": [
    "ridge_final <- finalize_workflow(ridge_workflow, best_penalty)\n",
    "ridge_final_fit <- fit(ridge_final, data = Hitters_train)"
   ]
  },
  {
   "cell_type": "markdown",
   "metadata": {
    "deletable": false,
    "editable": false,
    "nbgrader": {
     "cell_type": "markdown",
     "checksum": "d1383aacf17ef44c256607d4bc6801da",
     "grade": false,
     "grade_id": "cell-30f6ab7fc317da04",
     "locked": true,
     "schema_version": 3,
     "solution": false,
     "task": false
    }
   },
   "source": [
    "This final model can now be applied on your testing data set to validate the performance. Go ahead and perfrom this task. You will use both the`augment` and the `rsq` function. What do you notice? \n"
   ]
  },
  {
   "cell_type": "code",
   "execution_count": 30,
   "metadata": {
    "deletable": false,
    "editable": false,
    "nbgrader": {
     "cell_type": "code",
     "checksum": "de418ebf46b2125c254a20eb9e02115e",
     "grade": false,
     "grade_id": "cell-a5696e0de0063018",
     "locked": true,
     "schema_version": 3,
     "solution": false,
     "task": false
    }
   },
   "outputs": [
    {
     "data": {
      "text/html": [
       "<table>\n",
       "<caption>A tibble: 1 × 3</caption>\n",
       "<thead>\n",
       "\t<tr><th scope=col>.metric</th><th scope=col>.estimator</th><th scope=col>.estimate</th></tr>\n",
       "\t<tr><th scope=col>&lt;chr&gt;</th><th scope=col>&lt;chr&gt;</th><th scope=col>&lt;dbl&gt;</th></tr>\n",
       "</thead>\n",
       "<tbody>\n",
       "\t<tr><td>rsq</td><td>standard</td><td>0.3797156</td></tr>\n",
       "</tbody>\n",
       "</table>\n"
      ],
      "text/latex": [
       "A tibble: 1 × 3\n",
       "\\begin{tabular}{lll}\n",
       " .metric & .estimator & .estimate\\\\\n",
       " <chr> & <chr> & <dbl>\\\\\n",
       "\\hline\n",
       "\t rsq & standard & 0.3797156\\\\\n",
       "\\end{tabular}\n"
      ],
      "text/markdown": [
       "\n",
       "A tibble: 1 × 3\n",
       "\n",
       "| .metric &lt;chr&gt; | .estimator &lt;chr&gt; | .estimate &lt;dbl&gt; |\n",
       "|---|---|---|\n",
       "| rsq | standard | 0.3797156 |\n",
       "\n"
      ],
      "text/plain": [
       "  .metric .estimator .estimate\n",
       "1 rsq     standard   0.3797156"
      ]
     },
     "metadata": {},
     "output_type": "display_data"
    }
   ],
   "source": [
    "augment(ridge_final_fit, new_data = Hitters_test) %>%\n",
    "  rsq(truth = Salary, estimate = .pred)"
   ]
  },
  {
   "cell_type": "code",
   "execution_count": null,
   "metadata": {},
   "outputs": [],
   "source": []
  }
 ],
 "metadata": {
  "kernelspec": {
   "display_name": "R",
   "language": "R",
   "name": "ir"
  },
  "language_info": {
   "codemirror_mode": "r",
   "file_extension": ".r",
   "mimetype": "text/x-r-source",
   "name": "R",
   "pygments_lexer": "r",
   "version": "3.6.3"
  }
 },
 "nbformat": 4,
 "nbformat_minor": 5
}
