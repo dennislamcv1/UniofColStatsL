{
 "cells": [
  {
   "cell_type": "markdown",
   "metadata": {
    "deletable": false,
    "editable": false,
    "nbgrader": {
     "cell_type": "markdown",
     "checksum": "be3d38e321f2bcec97efae820f197135",
     "grade": false,
     "grade_id": "cell-8f0e768ec23f606c",
     "locked": true,
     "schema_version": 3,
     "solution": false,
     "task": false
    }
   },
   "source": [
    "### Support Vector Machines"
   ]
  },
  {
   "cell_type": "markdown",
   "metadata": {
    "deletable": false,
    "editable": false,
    "nbgrader": {
     "cell_type": "markdown",
     "checksum": "7953c11ce56127f3a2c651779c895a3d",
     "grade": false,
     "grade_id": "cell-45862ad40355ed39",
     "locked": true,
     "schema_version": 3,
     "solution": false,
     "task": false
    }
   },
   "source": [
    "This assignment will build off of the previous ungraded assignment. However, here you will use a radial basis function  for your kernel rather than a linear specification. \n",
    "\n",
    "To begin, a synthetic data set has been provided below. It is normally distributed with an added offset to create two separate classes."
   ]
  },
  {
   "cell_type": "code",
   "execution_count": null,
   "metadata": {
    "deletable": false,
    "editable": false,
    "nbgrader": {
     "cell_type": "code",
     "checksum": "4491eab6d8a394bcbaab71b4002d50a1",
     "grade": false,
     "grade_id": "cell-49f8d8b53e60bb4f",
     "locked": true,
     "schema_version": 3,
     "solution": false,
     "task": false
    }
   },
   "outputs": [],
   "source": [
    "library(tidymodels)\n",
    "library(ISLR2)\n",
    "\n",
    "set.seed(1)\n",
    "sim_data2 <- tibble(\n",
    "  x1 = rnorm(200) + rep(c(2, -2, 0), c(100, 50, 50)),\n",
    "  x2 = rnorm(200) + rep(c(2, -2, 0), c(100, 50, 50)),\n",
    "  y  = factor(rep(c(1, 2), c(150, 50)))\n",
    ")\n",
    "\n",
    "sim_data2 %>%\n",
    "  ggplot(aes(x1, x2, color = y)) +\n",
    "  geom_point()"
   ]
  },
  {
   "cell_type": "markdown",
   "metadata": {
    "deletable": false,
    "editable": false,
    "nbgrader": {
     "cell_type": "markdown",
     "checksum": "d00a7ee2d159add78661cfebc26f3170",
     "grade": false,
     "grade_id": "cell-05f2956e3c480c35",
     "locked": true,
     "schema_version": 3,
     "solution": false,
     "task": false
    }
   },
   "source": [
    "Now, you will try an SVM using a radial basis function (RBF). RBF should allow you to capture the non-linearity in the data. To create the specification, you should use `svm_rbf()`. Be sure to pass in classification as the mode and kernlab as the engine. Save your output to `svm_rbf_spec`."
   ]
  },
  {
   "cell_type": "code",
   "execution_count": null,
   "metadata": {
    "deletable": false,
    "nbgrader": {
     "cell_type": "code",
     "checksum": "c24d7cc5869ae346fb70960aa2fc5a98",
     "grade": false,
     "grade_id": "cell-0ebfeb926ae72cda",
     "locked": false,
     "schema_version": 3,
     "solution": true,
     "task": false
    }
   },
   "outputs": [],
   "source": [
    "# YOUR CODE HERE\n",
    "\n",
    "# svm_rbf_spec <- \n",
    "\n",
    "# your code here\n",
    "\n"
   ]
  },
  {
   "cell_type": "code",
   "execution_count": null,
   "metadata": {
    "deletable": false,
    "editable": false,
    "nbgrader": {
     "cell_type": "code",
     "checksum": "f93e4bd57e8087617f1494b56ab60e7d",
     "grade": true,
     "grade_id": "cell-66b70e8f71c4b8ac",
     "locked": true,
     "points": 1,
     "schema_version": 3,
     "solution": false,
     "task": false
    }
   },
   "outputs": [],
   "source": []
  },
  {
   "cell_type": "markdown",
   "metadata": {
    "deletable": false,
    "editable": false,
    "nbgrader": {
     "cell_type": "markdown",
     "checksum": "bc82595193fbf22049259d2cdd2a0d20",
     "grade": false,
     "grade_id": "cell-ea3b44e1340357a8",
     "locked": true,
     "schema_version": 3,
     "solution": false,
     "task": false
    }
   },
   "source": [
    "Now fit your model using `fit()`."
   ]
  },
  {
   "cell_type": "code",
   "execution_count": null,
   "metadata": {
    "deletable": false,
    "nbgrader": {
     "cell_type": "code",
     "checksum": "b719236a147bcfaf27fdbdf727ff83a8",
     "grade": false,
     "grade_id": "cell-5f5163deb818550e",
     "locked": false,
     "schema_version": 3,
     "solution": true,
     "task": false
    }
   },
   "outputs": [],
   "source": [
    "# your code here\n"
   ]
  },
  {
   "cell_type": "code",
   "execution_count": null,
   "metadata": {
    "deletable": false,
    "editable": false,
    "nbgrader": {
     "cell_type": "code",
     "checksum": "b0de8ff77e5146d2a4239966b62f67a2",
     "grade": true,
     "grade_id": "cell-34d5ed07e423b2cd",
     "locked": true,
     "points": 1,
     "schema_version": 3,
     "solution": false,
     "task": false
    }
   },
   "outputs": [],
   "source": []
  },
  {
   "cell_type": "markdown",
   "metadata": {
    "deletable": false,
    "editable": false,
    "nbgrader": {
     "cell_type": "markdown",
     "checksum": "bb4fbc570df5c5a01f20e1692c57ca63",
     "grade": false,
     "grade_id": "cell-30d4a00bfaedbdb9",
     "locked": true,
     "schema_version": 3,
     "solution": false,
     "task": false
    }
   },
   "source": [
    "Plot your model. What do you notice? "
   ]
  },
  {
   "cell_type": "code",
   "execution_count": null,
   "metadata": {
    "deletable": false,
    "nbgrader": {
     "cell_type": "code",
     "checksum": "7e0feaa83b4b8c9d52d47090c8db8b23",
     "grade": false,
     "grade_id": "cell-d472dfd3eb300835",
     "locked": false,
     "schema_version": 3,
     "solution": true,
     "task": false
    }
   },
   "outputs": [],
   "source": [
    "library(kernlab)\n",
    "\n",
    "# YOUR CODE HERE\n",
    "\n",
    "# fit_plot <- \n",
    "\n",
    "# your code here\n"
   ]
  },
  {
   "cell_type": "code",
   "execution_count": null,
   "metadata": {
    "deletable": false,
    "editable": false,
    "nbgrader": {
     "cell_type": "code",
     "checksum": "e9306fdcdd022fb99612c2cd8b2809aa",
     "grade": true,
     "grade_id": "cell-5260fad40e7ff8de",
     "locked": true,
     "points": 1,
     "schema_version": 3,
     "solution": false,
     "task": false
    }
   },
   "outputs": [],
   "source": []
  },
  {
   "cell_type": "markdown",
   "metadata": {
    "deletable": false,
    "editable": false,
    "nbgrader": {
     "cell_type": "markdown",
     "checksum": "71f90c32fddf112eac5927f7eca813d5",
     "grade": false,
     "grade_id": "cell-3266eccfd2f51fb7",
     "locked": true,
     "schema_version": 3,
     "solution": false,
     "task": false
    }
   },
   "source": [
    "Now, let's see how well this model generalizes to new data from the sam generating process. "
   ]
  },
  {
   "cell_type": "code",
   "execution_count": null,
   "metadata": {
    "deletable": false,
    "editable": false,
    "nbgrader": {
     "cell_type": "code",
     "checksum": "e1ebf8142a7bec6b3bb701af2172ff6f",
     "grade": false,
     "grade_id": "cell-cb6a069f3e400983",
     "locked": true,
     "schema_version": 3,
     "solution": false,
     "task": false
    }
   },
   "outputs": [],
   "source": [
    "set.seed(2)\n",
    "sim_data2_test <- tibble(\n",
    "  x1 = rnorm(200) + rep(c(2, -2, 0), c(100, 50, 50)),\n",
    "  x2 = rnorm(200) + rep(c(2, -2, 0), c(100, 50, 50)),\n",
    "  y  = factor(rep(c(1, 2), c(150, 50)))\n",
    ")"
   ]
  },
  {
   "cell_type": "code",
   "execution_count": null,
   "metadata": {
    "deletable": false,
    "editable": false,
    "nbgrader": {
     "cell_type": "code",
     "checksum": "57ee62a6c4e0b24dab6c7358d2cfd65e",
     "grade": false,
     "grade_id": "cell-d2453385e799b93f",
     "locked": true,
     "schema_version": 3,
     "solution": false,
     "task": false
    }
   },
   "outputs": [],
   "source": [
    "augment(svm_rbf_fit, new_data = sim_data2_test) %>%\n",
    "  conf_mat(truth = y, estimate = .pred_class)"
   ]
  },
  {
   "cell_type": "markdown",
   "metadata": {
    "deletable": false,
    "editable": false,
    "nbgrader": {
     "cell_type": "markdown",
     "checksum": "58d35dcbb6a0dc210444f16029d1d3e7",
     "grade": false,
     "grade_id": "cell-54f8b4bd47a77944",
     "locked": true,
     "schema_version": 3,
     "solution": false,
     "task": false
    }
   },
   "source": [
    "What do you notice?"
   ]
  }
 ],
 "metadata": {
  "kernelspec": {
   "display_name": "R",
   "language": "R",
   "name": "ir"
  },
  "language_info": {
   "codemirror_mode": "r",
   "file_extension": ".r",
   "mimetype": "text/x-r-source",
   "name": "R",
   "pygments_lexer": "r",
   "version": "3.6.3"
  }
 },
 "nbformat": 4,
 "nbformat_minor": 4
}
