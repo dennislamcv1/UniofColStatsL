{
 "cells": [
  {
   "cell_type": "markdown",
   "metadata": {
    "deletable": false,
    "editable": false,
    "nbgrader": {
     "cell_type": "markdown",
     "checksum": "8fa8d597ae755e16e9ce95853d38fdf6",
     "grade": false,
     "grade_id": "cell-fd00d832064cdcfa",
     "locked": true,
     "schema_version": 3,
     "solution": false,
     "task": false
    }
   },
   "source": [
    "### Decision Trees"
   ]
  },
  {
   "cell_type": "markdown",
   "metadata": {
    "deletable": false,
    "editable": false,
    "nbgrader": {
     "cell_type": "markdown",
     "checksum": "2820141fc82324b6cce1bd5c11b392d7",
     "grade": false,
     "grade_id": "cell-c185df86cad773d3",
     "locked": true,
     "schema_version": 3,
     "solution": false,
     "task": false
    }
   },
   "source": [
    "In this assignment, you will apply decision trees to a data set. The data we will be using for this exercise is cardiotocographic data. To begin import the data set."
   ]
  },
  {
   "cell_type": "code",
   "execution_count": null,
   "metadata": {
    "deletable": false,
    "editable": false,
    "nbgrader": {
     "cell_type": "code",
     "checksum": "d035dabaca2bfd140e0477c371c7d375",
     "grade": false,
     "grade_id": "cell-56a7a205deb612de",
     "locked": true,
     "schema_version": 3,
     "solution": false,
     "task": false
    }
   },
   "outputs": [],
   "source": [
    "data <- read.table(\"cardiotocographic.txt\", header = TRUE, sep = \",\")\n",
    "str(data)"
   ]
  },
  {
   "cell_type": "markdown",
   "metadata": {
    "deletable": false,
    "editable": false,
    "nbgrader": {
     "cell_type": "markdown",
     "checksum": "3bf1bef6c73a27db33e19e110d8bfbdf",
     "grade": false,
     "grade_id": "cell-94d59440ba4ed82e",
     "locked": true,
     "schema_version": 3,
     "solution": false,
     "task": false
    }
   },
   "source": [
    "Next factor the NSP column using `factor()` and saved the factored data to a new column, NSPF. "
   ]
  },
  {
   "cell_type": "code",
   "execution_count": null,
   "metadata": {
    "deletable": false,
    "nbgrader": {
     "cell_type": "code",
     "checksum": "a9d4e1d65a14a18de1e8f1e4df67e185",
     "grade": false,
     "grade_id": "cell-8a54f104444ae504",
     "locked": false,
     "schema_version": 3,
     "solution": true,
     "task": false
    }
   },
   "outputs": [],
   "source": [
    "### YOUR CODE HERE\n",
    "\n",
    "# your code here\n",
    "\n",
    "\n",
    "str(data)"
   ]
  },
  {
   "cell_type": "code",
   "execution_count": null,
   "metadata": {
    "deletable": false,
    "editable": false,
    "nbgrader": {
     "cell_type": "code",
     "checksum": "d81ade64cef67796100bd16da52ab6ad",
     "grade": true,
     "grade_id": "cell-9e72e4c1509263b5",
     "locked": true,
     "points": 1,
     "schema_version": 3,
     "solution": false,
     "task": false
    }
   },
   "outputs": [],
   "source": []
  },
  {
   "cell_type": "markdown",
   "metadata": {
    "deletable": false,
    "editable": false,
    "nbgrader": {
     "cell_type": "markdown",
     "checksum": "ed06666c5dd2a5c3aced3067888bce2c",
     "grade": false,
     "grade_id": "cell-52a3139cc1d40772",
     "locked": true,
     "schema_version": 3,
     "solution": false,
     "task": false
    }
   },
   "source": [
    "Now, partition the data into training and testing (validation) data sets. "
   ]
  },
  {
   "cell_type": "code",
   "execution_count": null,
   "metadata": {
    "deletable": false,
    "nbgrader": {
     "cell_type": "code",
     "checksum": "98966f815a561a2a58577facbab3892c",
     "grade": false,
     "grade_id": "cell-0b6568f33be10974",
     "locked": false,
     "schema_version": 3,
     "solution": true,
     "task": false
    }
   },
   "outputs": [],
   "source": [
    "set.seed(1234)\n",
    "pd <- sample(2, nrow(data), replace = TRUE, prob = c(0.8, .2))\n",
    "\n",
    "# train <- \n",
    "# validate <- \n",
    "\n",
    "# your code here\n"
   ]
  },
  {
   "cell_type": "code",
   "execution_count": null,
   "metadata": {
    "deletable": false,
    "editable": false,
    "nbgrader": {
     "cell_type": "code",
     "checksum": "03a8dd30397b5333a8053097ac8f57e9",
     "grade": true,
     "grade_id": "cell-5a81b6abfb36978b",
     "locked": true,
     "points": 1,
     "schema_version": 3,
     "solution": false,
     "task": false
    }
   },
   "outputs": [],
   "source": []
  },
  {
   "cell_type": "markdown",
   "metadata": {
    "deletable": false,
    "editable": false,
    "nbgrader": {
     "cell_type": "markdown",
     "checksum": "3bbab534a708de1af08d87f7f175b7aa",
     "grade": false,
     "grade_id": "cell-bea59ef2a856cb82",
     "locked": true,
     "schema_version": 3,
     "solution": false,
     "task": false
    }
   },
   "source": [
    "Using the library `party`, create a decision tree using the function `ctree()`. As there are way too many features using all of the features would result in a cluttered tree. Just use `LB`, `AC` and `FM` to build the tree."
   ]
  },
  {
   "cell_type": "code",
   "execution_count": null,
   "metadata": {
    "deletable": false,
    "nbgrader": {
     "cell_type": "code",
     "checksum": "6b6cb94368c9376dc24d444a93ebf4f6",
     "grade": false,
     "grade_id": "cell-051d26f33ce679b9",
     "locked": false,
     "schema_version": 3,
     "solution": true,
     "task": false
    }
   },
   "outputs": [],
   "source": [
    "library(party)\n",
    "\n",
    "# your code here\n",
    "\n",
    "\n",
    "tree\n",
    "plot(tree)"
   ]
  },
  {
   "cell_type": "code",
   "execution_count": null,
   "metadata": {
    "deletable": false,
    "editable": false,
    "nbgrader": {
     "cell_type": "code",
     "checksum": "02d4f4a59e4ec470138af399f6849f00",
     "grade": true,
     "grade_id": "cell-836368a969b54d03",
     "locked": true,
     "points": 1,
     "schema_version": 3,
     "solution": false,
     "task": false
    }
   },
   "outputs": [],
   "source": []
  },
  {
   "cell_type": "code",
   "execution_count": null,
   "metadata": {
    "deletable": false,
    "editable": false,
    "nbgrader": {
     "cell_type": "code",
     "checksum": "7b5a485c5b93cf39e41a240a03ed070f",
     "grade": false,
     "grade_id": "cell-47b05fa760d42e35",
     "locked": true,
     "schema_version": 3,
     "solution": false,
     "task": false
    }
   },
   "outputs": [],
   "source": [
    "tree <- ctree(NSPF ~ LB + AC + FM, data = train, controls = ctree_control(mincriterion = 0.99, minsplit = 500))\n",
    "\n",
    "# the 0.99 is the confidence level, 99% confident that the variable is significant\n",
    "# minsplit is 500 which means that the branch will onlu split into 2 when the sample size is at least 500. This will restrict the tree growth. \n",
    "\n",
    "tree\n",
    "\n",
    "# we observe 9 nodes \n",
    "plot(tree)  # the tree is more compact. \n"
   ]
  }
 ],
 "metadata": {
  "kernelspec": {
   "display_name": "R",
   "language": "R",
   "name": "ir"
  },
  "language_info": {
   "codemirror_mode": "r",
   "file_extension": ".r",
   "mimetype": "text/x-r-source",
   "name": "R",
   "pygments_lexer": "r",
   "version": "3.6.3"
  }
 },
 "nbformat": 4,
 "nbformat_minor": 4
}
