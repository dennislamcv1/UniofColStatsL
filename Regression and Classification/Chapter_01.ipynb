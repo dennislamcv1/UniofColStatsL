{
 "cells": [
  {
   "cell_type": "markdown",
   "metadata": {
    "deletable": false,
    "editable": false,
    "nbgrader": {
     "cell_type": "markdown",
     "checksum": "acc56e8a862cf472c0f7345758d53a93",
     "grade": false,
     "grade_id": "cell-46aa5607b5a9e19b",
     "locked": true,
     "schema_version": 3,
     "solution": false,
     "task": false
    }
   },
   "source": [
    "## STATISTICAL LEARNING\n",
    "\n",
    "### Basic Functions:\n",
    "\n",
    "rnorm( ) function generates a vector of random normal variables, with first argument 'n' the sample size   "
   ]
  },
  {
   "cell_type": "code",
   "execution_count": null,
   "metadata": {
    "deletable": false,
    "editable": false,
    "nbgrader": {
     "cell_type": "code",
     "checksum": "a84b2199b0671a3c9cee36a1083e91f2",
     "grade": false,
     "grade_id": "cell-33d4ca93f33af272",
     "locked": true,
     "schema_version": 3,
     "solution": false,
     "task": false
    }
   },
   "outputs": [],
   "source": [
    "x = rnorm(50)\n",
    "y = x + rnorm(50, mean = 50, sd = .1)"
   ]
  },
  {
   "cell_type": "markdown",
   "metadata": {
    "deletable": false,
    "editable": false,
    "nbgrader": {
     "cell_type": "markdown",
     "checksum": "5d93fe18297f64c3a51198191c9d9529",
     "grade": false,
     "grade_id": "cell-e9e57613a8b379eb",
     "locked": true,
     "schema_version": 3,
     "solution": false,
     "task": false
    }
   },
   "source": [
    "In the above code snippet, <br>\n",
    "'x' is a vector of 50 random variables <br>\n",
    "'y' is a vector of 50 random variables that are distributed around the point/mean 50 <br>"
   ]
  },
  {
   "cell_type": "code",
   "execution_count": null,
   "metadata": {
    "deletable": false,
    "nbgrader": {
     "cell_type": "code",
     "checksum": "4d2bfc8aff83e339a0436c308c6b5425",
     "grade": false,
     "grade_id": "cell-20e3ea9228656c6a",
     "locked": false,
     "schema_version": 3,
     "solution": true,
     "task": false
    }
   },
   "outputs": [],
   "source": [
    "# What's the corelation value between x and y(round off to two decimal places)??\n",
    "# use R's corelation function; ?cor() - describes the corelation function\n",
    "# correlation = ?\n",
    "\n",
    "# your code here\n",
    "\n"
   ]
  },
  {
   "cell_type": "code",
   "execution_count": null,
   "metadata": {
    "deletable": false,
    "editable": false,
    "nbgrader": {
     "cell_type": "code",
     "checksum": "6c802d86067e2665534774e07293f371",
     "grade": true,
     "grade_id": "cell-40a28946360077a8",
     "locked": true,
     "points": 5,
     "schema_version": 3,
     "solution": false,
     "task": false
    }
   },
   "outputs": [],
   "source": [
    "round(correlation)\n",
    "stopifnot(round(correlation,2) == 1)"
   ]
  },
  {
   "cell_type": "markdown",
   "metadata": {
    "deletable": false,
    "editable": false,
    "nbgrader": {
     "cell_type": "markdown",
     "checksum": "2857e0497fdf97b1feb8511f9cd4eb9a",
     "grade": false,
     "grade_id": "cell-83450ae1a53da67f",
     "locked": true,
     "schema_version": 3,
     "solution": false,
     "task": false
    }
   },
   "source": [
    "### Matrices:\n",
    "\n",
    "#### Defining Matrices: \n",
    "Column First"
   ]
  },
  {
   "cell_type": "code",
   "execution_count": null,
   "metadata": {
    "deletable": false,
    "editable": false,
    "nbgrader": {
     "cell_type": "code",
     "checksum": "123e6f917986243778e04da392fb4319",
     "grade": false,
     "grade_id": "cell-4668e706fa85e68d",
     "locked": true,
     "schema_version": 3,
     "solution": false,
     "task": false
    }
   },
   "outputs": [],
   "source": [
    "mat = matrix(c(1,2,3,4,5,6), 3, 2)\n",
    "mat"
   ]
  },
  {
   "cell_type": "markdown",
   "metadata": {
    "deletable": false,
    "editable": false,
    "nbgrader": {
     "cell_type": "markdown",
     "checksum": "1dd2097b69785e051c5bd757c7080dc8",
     "grade": false,
     "grade_id": "cell-c1ea740f3eaaa24e",
     "locked": true,
     "schema_version": 3,
     "solution": false,
     "task": false
    }
   },
   "source": [
    "Row First"
   ]
  },
  {
   "cell_type": "code",
   "execution_count": null,
   "metadata": {
    "deletable": false,
    "editable": false,
    "nbgrader": {
     "cell_type": "code",
     "checksum": "a28b8775c7f2ec5578f4a48d41e012fc",
     "grade": false,
     "grade_id": "cell-b54892f19cee0339",
     "locked": true,
     "schema_version": 3,
     "solution": false,
     "task": false
    }
   },
   "outputs": [],
   "source": [
    "mat = matrix(c(1,2,3,4,5,6), nrow = 3, ncol = 2, byrow = TRUE)\n",
    "mat"
   ]
  },
  {
   "cell_type": "markdown",
   "metadata": {
    "deletable": false,
    "editable": false,
    "nbgrader": {
     "cell_type": "markdown",
     "checksum": "9891cbfc0c71c069980a28ef74e56f2d",
     "grade": false,
     "grade_id": "cell-07de58a140083805",
     "locked": true,
     "schema_version": 3,
     "solution": false,
     "task": false
    }
   },
   "source": [
    "Indexing data in matrices"
   ]
  },
  {
   "cell_type": "code",
   "execution_count": null,
   "metadata": {
    "deletable": false,
    "editable": false,
    "nbgrader": {
     "cell_type": "code",
     "checksum": "1e56c9324bb39d7688399b8a645f8de4",
     "grade": false,
     "grade_id": "cell-137a1b042f186844",
     "locked": true,
     "schema_version": 3,
     "solution": false,
     "task": false
    }
   },
   "outputs": [],
   "source": [
    "mat[1,1]\n",
    "mat[c(1,2), c(1,2)]"
   ]
  },
  {
   "cell_type": "code",
   "execution_count": null,
   "metadata": {
    "deletable": false,
    "editable": false,
    "nbgrader": {
     "cell_type": "code",
     "checksum": "f5ec1ced2630657265e46bd16c3d461e",
     "grade": false,
     "grade_id": "cell-67374c491de88e34",
     "locked": true,
     "schema_version": 3,
     "solution": false,
     "task": false
    }
   },
   "outputs": [],
   "source": [
    "Matrix = matrix(1:20, 4 , 5)\n",
    "Matrix"
   ]
  },
  {
   "cell_type": "code",
   "execution_count": null,
   "metadata": {
    "deletable": false,
    "nbgrader": {
     "cell_type": "code",
     "checksum": "737129e76eddb2a972eb451e4ab12972",
     "grade": false,
     "grade_id": "cell-0feebf64dc61f1dc",
     "locked": false,
     "schema_version": 3,
     "solution": true,
     "task": false
    }
   },
   "outputs": [],
   "source": [
    "# Create a submatrix containing the values of ( 3rd & 4th row, 1st & 4th column)\n",
    "# sub_matrix = ?\n",
    "\n",
    "# your code here\n"
   ]
  },
  {
   "cell_type": "code",
   "execution_count": null,
   "metadata": {
    "deletable": false,
    "editable": false,
    "nbgrader": {
     "cell_type": "code",
     "checksum": "c1eff341c498dda6677e36822252cfa5",
     "grade": true,
     "grade_id": "cell-d46ac623948b91fb",
     "locked": true,
     "points": 10,
     "schema_version": 3,
     "solution": false,
     "task": false
    }
   },
   "outputs": [],
   "source": [
    "stopifnot(sub_matrix[1,1] == 3, sub_matrix[2,2] == 16)"
   ]
  },
  {
   "cell_type": "markdown",
   "metadata": {
    "deletable": false,
    "editable": false,
    "nbgrader": {
     "cell_type": "markdown",
     "checksum": "7c301849b7473281922d991175c780eb",
     "grade": false,
     "grade_id": "cell-f226e7cf41f15a9e",
     "locked": true,
     "schema_version": 3,
     "solution": false,
     "task": false
    }
   },
   "source": [
    "### Loading Data (using ISLR2)"
   ]
  },
  {
   "cell_type": "code",
   "execution_count": null,
   "metadata": {
    "deletable": false,
    "editable": false,
    "nbgrader": {
     "cell_type": "code",
     "checksum": "8c831032048691139a8c71206e47de11",
     "grade": false,
     "grade_id": "cell-f981367e73072aa4",
     "locked": true,
     "schema_version": 3,
     "solution": false,
     "task": false
    }
   },
   "outputs": [],
   "source": [
    "library(ISLR2) #import library ISLR2 "
   ]
  },
  {
   "cell_type": "code",
   "execution_count": null,
   "metadata": {
    "deletable": false,
    "editable": false,
    "nbgrader": {
     "cell_type": "code",
     "checksum": "c5cc109a2982408e0b8fcd7bf91fa6a1",
     "grade": false,
     "grade_id": "cell-cf2d897b3722c159",
     "locked": true,
     "schema_version": 3,
     "solution": false,
     "task": false
    }
   },
   "outputs": [],
   "source": [
    "head(Auto)"
   ]
  },
  {
   "cell_type": "code",
   "execution_count": null,
   "metadata": {
    "deletable": false,
    "nbgrader": {
     "cell_type": "code",
     "checksum": "c4324d2c2b529fe3007b9f680d991dfa",
     "grade": false,
     "grade_id": "cell-1b1efc9b2ee0e190",
     "locked": false,
     "schema_version": 3,
     "solution": true,
     "task": false
    }
   },
   "outputs": [],
   "source": [
    "#what are the dimensions of the Auto dataset??\n",
    "#?dim() - describe the dimension function \n",
    "#auto_d = ?\n",
    "\n",
    "# your code here\n"
   ]
  },
  {
   "cell_type": "code",
   "execution_count": null,
   "metadata": {
    "deletable": false,
    "editable": false,
    "nbgrader": {
     "cell_type": "code",
     "checksum": "af9c85642315b4be877caebf16241bb8",
     "grade": true,
     "grade_id": "cell-a8d5a306865669c4",
     "locked": true,
     "points": 10,
     "schema_version": 3,
     "solution": false,
     "task": false
    }
   },
   "outputs": [],
   "source": [
    "stopifnot(matrix(auto_d)[1,1] == 392, matrix(auto_d)[2,1] == 9)"
   ]
  },
  {
   "cell_type": "code",
   "execution_count": null,
   "metadata": {
    "deletable": false,
    "nbgrader": {
     "cell_type": "code",
     "checksum": "3032ba7fbcb149f10571f328ce15f472",
     "grade": false,
     "grade_id": "cell-a39f841e539871b1",
     "locked": false,
     "schema_version": 3,
     "solution": true,
     "task": false
    }
   },
   "outputs": [],
   "source": [
    "#define all the columns of the Auto Dataset\n",
    "#?names() - describe the columns of the data set \n",
    "#cols = ?\n",
    "\n",
    "# your code here\n",
    "\n"
   ]
  },
  {
   "cell_type": "code",
   "execution_count": null,
   "metadata": {
    "deletable": false,
    "editable": false,
    "nbgrader": {
     "cell_type": "code",
     "checksum": "edb0dc253e4049a4947743c4da471e7a",
     "grade": true,
     "grade_id": "cell-b9cc5aab5a4643d1",
     "locked": true,
     "points": 10,
     "schema_version": 3,
     "solution": false,
     "task": false
    }
   },
   "outputs": [],
   "source": [
    "stopifnot(length(cols)== 9, cols[1]=='mpg')"
   ]
  },
  {
   "cell_type": "markdown",
   "metadata": {
    "deletable": false,
    "editable": false,
    "nbgrader": {
     "cell_type": "markdown",
     "checksum": "e8ab9939be3d23601b90e47d8930ffb7",
     "grade": false,
     "grade_id": "cell-eba4699e9c8fd649",
     "locked": true,
     "schema_version": 3,
     "solution": false,
     "task": false
    }
   },
   "source": [
    "### Plot variables - Data set\n",
    "\n",
    "Plotting variables of a data set"
   ]
  },
  {
   "cell_type": "code",
   "execution_count": null,
   "metadata": {
    "deletable": false,
    "editable": false,
    "nbgrader": {
     "cell_type": "code",
     "checksum": "075e8415fbf3934c298fcd16ad1fd7ae",
     "grade": false,
     "grade_id": "cell-7a1d3af84441b792",
     "locked": true,
     "schema_version": 3,
     "solution": false,
     "task": false
    }
   },
   "outputs": [],
   "source": [
    "plot(Auto$cylinders, Auto$mpg)"
   ]
  },
  {
   "cell_type": "markdown",
   "metadata": {
    "deletable": false,
    "editable": false,
    "nbgrader": {
     "cell_type": "markdown",
     "checksum": "dfa2f2d78641d2c1f58860b9c496241e",
     "grade": false,
     "grade_id": "cell-c30031bb98623f1c",
     "locked": true,
     "schema_version": 3,
     "solution": false,
     "task": false
    }
   },
   "source": [
    "Attach the data set to the context of R <br>\n",
    "Reference the columns directly without use of the data set"
   ]
  },
  {
   "cell_type": "code",
   "execution_count": null,
   "metadata": {
    "deletable": false,
    "editable": false,
    "nbgrader": {
     "cell_type": "code",
     "checksum": "c6b07fd253c6693cb26efeb575a7641c",
     "grade": false,
     "grade_id": "cell-541f13402fb16944",
     "locked": true,
     "schema_version": 3,
     "solution": false,
     "task": false
    }
   },
   "outputs": [],
   "source": [
    "attach(Auto)\n",
    "plot(cylinders,mpg)"
   ]
  },
  {
   "cell_type": "markdown",
   "metadata": {
    "deletable": false,
    "editable": false,
    "nbgrader": {
     "cell_type": "markdown",
     "checksum": "d1bea2031852eefdb583b61586e85a68",
     "grade": false,
     "grade_id": "cell-11488496cf4e5453",
     "locked": true,
     "schema_version": 3,
     "solution": false,
     "task": false
    }
   },
   "source": [
    "Plotting Histograms"
   ]
  },
  {
   "cell_type": "code",
   "execution_count": null,
   "metadata": {
    "deletable": false,
    "editable": false,
    "nbgrader": {
     "cell_type": "code",
     "checksum": "9969733be3e405c6fc52177cfaa11d5b",
     "grade": false,
     "grade_id": "cell-2e262a1c4d0c5d60",
     "locked": true,
     "schema_version": 3,
     "solution": false,
     "task": false
    }
   },
   "outputs": [],
   "source": [
    "hist(mpg)\n",
    "hist(mpg, col=2, breaks = 15)"
   ]
  },
  {
   "cell_type": "markdown",
   "metadata": {
    "deletable": false,
    "editable": false,
    "nbgrader": {
     "cell_type": "markdown",
     "checksum": "7266804edae397e81a08a8fb7ddb96f0",
     "grade": false,
     "grade_id": "cell-3a395a51e8526b8b",
     "locked": true,
     "schema_version": 3,
     "solution": false,
     "task": false
    }
   },
   "source": [
    "The pairs( ) function creates a scatterplot matrix, i.e. a scatterplot for every pair of variables."
   ]
  },
  {
   "cell_type": "code",
   "execution_count": null,
   "metadata": {
    "deletable": false,
    "editable": false,
    "nbgrader": {
     "cell_type": "code",
     "checksum": "ef43c2940a0fdecb820bef1629847a2f",
     "grade": false,
     "grade_id": "cell-c847bade1b5cfaa9",
     "locked": true,
     "schema_version": 3,
     "solution": false,
     "task": false
    }
   },
   "outputs": [],
   "source": [
    "pairs(~mpg + weight, data = Auto)"
   ]
  },
  {
   "cell_type": "code",
   "execution_count": null,
   "metadata": {
    "deletable": false,
    "editable": false,
    "nbgrader": {
     "cell_type": "code",
     "checksum": "b5c4d8082d65ff80578d1cdb581bc570",
     "grade": false,
     "grade_id": "cell-667afd1f7030268a",
     "locked": true,
     "schema_version": 3,
     "solution": false,
     "task": false
    }
   },
   "outputs": [],
   "source": [
    "plot(horsepower, mpg)\n",
    "identify(horsepower, mpg, name)"
   ]
  },
  {
   "cell_type": "markdown",
   "metadata": {
    "deletable": false,
    "editable": false,
    "nbgrader": {
     "cell_type": "markdown",
     "checksum": "b1d8efc19bf448bc4c3f8d5e346b8eb1",
     "grade": false,
     "grade_id": "cell-803a22b2af24980c",
     "locked": true,
     "schema_version": 3,
     "solution": false,
     "task": false
    }
   },
   "source": [
    "Summary( ) Function - It produces a numerical summary of each variable in a particular data set"
   ]
  },
  {
   "cell_type": "code",
   "execution_count": null,
   "metadata": {
    "deletable": false,
    "editable": false,
    "nbgrader": {
     "cell_type": "code",
     "checksum": "d75333a42bcbb6d671cb7dd52f5e4c04",
     "grade": false,
     "grade_id": "cell-834477acbdb6ca00",
     "locked": true,
     "schema_version": 3,
     "solution": false,
     "task": false
    }
   },
   "outputs": [],
   "source": [
    "summary(Auto)"
   ]
  },
  {
   "cell_type": "code",
   "execution_count": null,
   "metadata": {
    "deletable": false,
    "nbgrader": {
     "cell_type": "code",
     "checksum": "a659779b29534e37fdc9539a59f4ca3f",
     "grade": false,
     "grade_id": "cell-ed4486c8c4aa9af2",
     "locked": false,
     "schema_version": 3,
     "solution": true,
     "task": false
    }
   },
   "outputs": [],
   "source": [
    "#Find the summary of the mpg column\n",
    "#mpg_summary = ?\n",
    "\n",
    "# your code here\n"
   ]
  },
  {
   "cell_type": "code",
   "execution_count": null,
   "metadata": {
    "deletable": false,
    "editable": false,
    "nbgrader": {
     "cell_type": "code",
     "checksum": "86bb58710ed1c8fe747967270fdb6342",
     "grade": true,
     "grade_id": "cell-6121832ab80b5b77",
     "locked": true,
     "points": 10,
     "schema_version": 3,
     "solution": false,
     "task": false
    }
   },
   "outputs": [],
   "source": [
    "stopifnot(mpg_summary['Median'] == 22.75, mpg_summary['Max.'] == 46.60)"
   ]
  }
 ],
 "metadata": {
  "kernelspec": {
   "display_name": "R",
   "language": "R",
   "name": "ir"
  },
  "language_info": {
   "codemirror_mode": "r",
   "file_extension": ".r",
   "mimetype": "text/x-r-source",
   "name": "R",
   "pygments_lexer": "r",
   "version": "3.6.3"
  }
 },
 "nbformat": 4,
 "nbformat_minor": 4
}
