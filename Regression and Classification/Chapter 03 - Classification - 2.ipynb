{
 "cells": [
  {
   "cell_type": "markdown",
   "metadata": {
    "deletable": false,
    "editable": false,
    "nbgrader": {
     "cell_type": "markdown",
     "checksum": "c31a6506a704375dfc5d5f00879893f6",
     "grade": false,
     "grade_id": "cell-e65bb462234be4b0",
     "locked": true,
     "schema_version": 3,
     "solution": false,
     "task": false
    }
   },
   "source": [
    "# Classification (02)\n",
    "\n",
    "In this lab we would be going through:\n",
    "- Naive Bayes\n",
    "- K-Nearest Neighbours\n",
    "- Poisson Regression\n",
    "\n",
    "For this lab, we would examining the `Smarket` data set that contains a number of numeric variables plus a variable called `Direction` which has the two labels `Up` and `Down`\n",
    "\n",
    "Our goal is to predict `Direction` using the other features"
   ]
  },
  {
   "cell_type": "code",
   "execution_count": null,
   "metadata": {
    "deletable": false,
    "editable": false,
    "nbgrader": {
     "cell_type": "code",
     "checksum": "815a350c1145eb6a91cdf9c21a956fb4",
     "grade": false,
     "grade_id": "cell-a0ffd77351a1051a",
     "locked": true,
     "schema_version": 3,
     "solution": false,
     "task": false
    }
   },
   "outputs": [],
   "source": [
    "library(e1071)\n",
    "library(ISLR2)\n",
    "attach(Smarket)"
   ]
  },
  {
   "cell_type": "code",
   "execution_count": null,
   "metadata": {
    "deletable": false,
    "editable": false,
    "nbgrader": {
     "cell_type": "code",
     "checksum": "8820b28e7495e0fdbb5abb3597d6adca",
     "grade": false,
     "grade_id": "cell-f81983f503b4289b",
     "locked": true,
     "schema_version": 3,
     "solution": false,
     "task": false
    }
   },
   "outputs": [],
   "source": [
    "train <- (Year < 2005)\n",
    "\n",
    "# Test data\n",
    "Smarket.test <- Smarket[!train, ]\n",
    "dim(Smarket.test)\n",
    "\n",
    "#Train data\n",
    "Smarket.train = Smarket[train, ]\n",
    "dim(Smarket.train)\n",
    "\n",
    "Direction.2005 = Direction[!train]"
   ]
  },
  {
   "cell_type": "markdown",
   "metadata": {
    "deletable": false,
    "editable": false,
    "nbgrader": {
     "cell_type": "markdown",
     "checksum": "8d490a29a347294983a696770fd6a8e1",
     "grade": false,
     "grade_id": "cell-5f24607b227e22d0",
     "locked": true,
     "schema_version": 3,
     "solution": false,
     "task": false
    }
   },
   "source": [
    "## Naive Bayes\n",
    "\n",
    "We are using the `naiveBayes()` function, which is part of the e1071 naiveBayes() library. \n",
    "\n",
    "By default, this implementation of the naive Bayes classifier models each quantitative feature using a Gaussian distribution. However, a kernel density method can also be used to estimate the distributions."
   ]
  },
  {
   "cell_type": "code",
   "execution_count": null,
   "metadata": {
    "deletable": false,
    "editable": false,
    "nbgrader": {
     "cell_type": "code",
     "checksum": "64b6c6e73f8add3e6f6127f813f473ae",
     "grade": false,
     "grade_id": "cell-ded7a0c52336ec2b",
     "locked": true,
     "schema_version": 3,
     "solution": false,
     "task": false
    }
   },
   "outputs": [],
   "source": [
    "nb.fit <- naiveBayes(Direction ~ Lag1 + Lag2, data = Smarket,\n",
    "subset = train)\n",
    "nb.fit"
   ]
  },
  {
   "cell_type": "markdown",
   "metadata": {
    "deletable": false,
    "editable": false,
    "nbgrader": {
     "cell_type": "markdown",
     "checksum": "5e09dd8f86b3098d4e3de79c9463367c",
     "grade": false,
     "grade_id": "cell-fb48847ce83abe4d",
     "locked": true,
     "schema_version": 3,
     "solution": false,
     "task": false
    }
   },
   "source": [
    "The output contains the estimated mean and standard deviation for each variable in each class."
   ]
  },
  {
   "cell_type": "code",
   "execution_count": null,
   "metadata": {
    "deletable": false,
    "editable": false,
    "nbgrader": {
     "cell_type": "code",
     "checksum": "61e62cd09a500e089bea5e8f7243c3b5",
     "grade": false,
     "grade_id": "cell-c8e8d34e985494b1",
     "locked": true,
     "schema_version": 3,
     "solution": false,
     "task": false
    }
   },
   "outputs": [],
   "source": [
    "mean(Lag1[train][Direction[train] == 'Down'])\n",
    "sd(Lag1[train][Direction[train] == 'Down'])"
   ]
  },
  {
   "cell_type": "code",
   "execution_count": null,
   "metadata": {
    "deletable": false,
    "editable": false,
    "nbgrader": {
     "cell_type": "code",
     "checksum": "00a0891892accd868ec27495e5f8f43f",
     "grade": false,
     "grade_id": "cell-e0c1337796744a37",
     "locked": true,
     "schema_version": 3,
     "solution": false,
     "task": false
    }
   },
   "outputs": [],
   "source": [
    "nb.class = predict(nb.fit, Smarket.test)\n",
    "table(nb.class, Direction.2005)\n",
    "\n",
    "mean(nb.class == Direction.2005)"
   ]
  },
  {
   "cell_type": "markdown",
   "metadata": {
    "deletable": false,
    "editable": false,
    "nbgrader": {
     "cell_type": "markdown",
     "checksum": "373a63a8070c01b5e95d2167acf7ee0e",
     "grade": false,
     "grade_id": "cell-23d6181ea224a1b9",
     "locked": true,
     "schema_version": 3,
     "solution": false,
     "task": false
    }
   },
   "source": [
    "`Naive Bayes` performs very well on this data, with accurate predictions over `59%` of the time. This is slightly worse than `QDA`, but much better than `LDA`.\n",
    "\n",
    "The `predict()` function can also generate estimates of the probability that each observation belongs to a particular class"
   ]
  },
  {
   "cell_type": "code",
   "execution_count": null,
   "metadata": {
    "deletable": false,
    "editable": false,
    "nbgrader": {
     "cell_type": "code",
     "checksum": "0b57c1f907b91dcf59b083527499b6d1",
     "grade": false,
     "grade_id": "cell-cfd2e4ce5195448e",
     "locked": true,
     "schema_version": 3,
     "solution": false,
     "task": false
    }
   },
   "outputs": [],
   "source": [
    "nb.preds = predict(nb.fit, Smarket.test, type = \"raw\")\n",
    "nb.preds[1:5, ]"
   ]
  },
  {
   "cell_type": "markdown",
   "metadata": {
    "deletable": false,
    "editable": false,
    "nbgrader": {
     "cell_type": "markdown",
     "checksum": "a9b4f612a5e7f1fc0f887ba969c5e54c",
     "grade": false,
     "grade_id": "cell-606d2e1cbd722bd8",
     "locked": true,
     "schema_version": 3,
     "solution": false,
     "task": false
    }
   },
   "source": [
    "## K - Nearest Neighbors\n",
    "\n",
    "We would be using the `knn()` function which is a part of the `class` library. Rather than a two-step approach in which we first fit the model and then we use the model to make predictions, `knn()` forms predictions using a single command.\n",
    "\n",
    "The function requires four inputs:\n",
    "1. A matrix containing the predictors associated with the training data, labeled `train.X` below.\n",
    "2. A matrix containing the predictors associated with the data for which we wish to make predictions, labeled `test.X` below.\n",
    "3. A vector containing the class labels for the training observations, labeled `train.Direction` below.\n",
    "4. A value for `K`, the number of nearest neighbors to be used by the classifier."
   ]
  },
  {
   "cell_type": "code",
   "execution_count": null,
   "metadata": {
    "deletable": false,
    "editable": false,
    "nbgrader": {
     "cell_type": "code",
     "checksum": "54dacf92c3c5df023cdb532ce0da92ef",
     "grade": false,
     "grade_id": "cell-5f9ca1db2a29922f",
     "locked": true,
     "schema_version": 3,
     "solution": false,
     "task": false
    }
   },
   "outputs": [],
   "source": [
    "library(class)"
   ]
  },
  {
   "cell_type": "code",
   "execution_count": null,
   "metadata": {
    "deletable": false,
    "editable": false,
    "nbgrader": {
     "cell_type": "code",
     "checksum": "ab7eeca51fb8ca5cc7c453a2466a6c32",
     "grade": false,
     "grade_id": "cell-ac5c21ff8e7550f5",
     "locked": true,
     "schema_version": 3,
     "solution": false,
     "task": false
    }
   },
   "outputs": [],
   "source": [
    "train.X = cbind(Lag1, Lag2)[train, ] #cbind() is short for column bind, binds variables together\n",
    "test.X = cbind(Lag1, Lag2)[!train, ]\n",
    "train.Direction = Direction[train]"
   ]
  },
  {
   "cell_type": "markdown",
   "metadata": {
    "deletable": false,
    "editable": false,
    "nbgrader": {
     "cell_type": "markdown",
     "checksum": "7d3d4e078bd92fc217902d2a9b569e86",
     "grade": false,
     "grade_id": "cell-1d1dfd12da548d3e",
     "locked": true,
     "schema_version": 3,
     "solution": false,
     "task": false
    }
   },
   "source": [
    "We set a random `seed` before we apply `knn()` because if several observations are tied as nearest neighbors, then `R` will randomly break the tie."
   ]
  },
  {
   "cell_type": "code",
   "execution_count": null,
   "metadata": {
    "deletable": false,
    "editable": false,
    "nbgrader": {
     "cell_type": "code",
     "checksum": "9cf58a6c242a356964014b30a2035eca",
     "grade": false,
     "grade_id": "cell-4844fc59fa40fbe8",
     "locked": true,
     "schema_version": 3,
     "solution": false,
     "task": false
    }
   },
   "outputs": [],
   "source": [
    "set.seed(1)\n",
    "knn.pred = knn(train.X, test.X, train.Direction, k=1)\n",
    "\n",
    "table(knn.pred, Direction.2005)\n",
    "mean(knn.pred==Direction.2005) #performance"
   ]
  },
  {
   "cell_type": "markdown",
   "metadata": {
    "deletable": false,
    "editable": false,
    "nbgrader": {
     "cell_type": "markdown",
     "checksum": "02616b2639c6e4b1e78b953c30d6bf5d",
     "grade": false,
     "grade_id": "cell-83f075b319f23616",
     "locked": true,
     "schema_version": 3,
     "solution": false,
     "task": false
    }
   },
   "source": [
    "The results using `K = 1` are not very good, since only `50 %` of the observa- tions are correctly predicted. Of course, it may be that `K = 1` results in an overly flexible fit to the data."
   ]
  },
  {
   "cell_type": "code",
   "execution_count": null,
   "metadata": {
    "deletable": false,
    "nbgrader": {
     "cell_type": "code",
     "checksum": "cf8693cbdc92048ef33c7cd528992a95",
     "grade": false,
     "grade_id": "cell-65e6dbd0b8eff4ea",
     "locked": false,
     "schema_version": 3,
     "solution": true,
     "task": false
    }
   },
   "outputs": [],
   "source": [
    "#return a k-nn model with three neighbors\n",
    "knn.pred = function(){\n",
    "    # your code here\n",
    "    \n",
    "}\n",
    "knn.pred = knn.pred()"
   ]
  },
  {
   "cell_type": "code",
   "execution_count": null,
   "metadata": {
    "deletable": false,
    "editable": false,
    "nbgrader": {
     "cell_type": "code",
     "checksum": "7304304ac3f9f987cb8e0a259872013f",
     "grade": true,
     "grade_id": "cell-f572d927088a5553",
     "locked": true,
     "points": 5,
     "schema_version": 3,
     "solution": false,
     "task": false
    }
   },
   "outputs": [],
   "source": [
    "table(knn.pred, Direction.2005)\n",
    "\n",
    "#Test the performance of new model\n",
    "stopifnot(round(mean(knn.pred == Direction.2005),2) == 0.54)"
   ]
  },
  {
   "cell_type": "code",
   "execution_count": null,
   "metadata": {
    "deletable": false,
    "editable": false,
    "nbgrader": {
     "cell_type": "code",
     "checksum": "c6bd85132e853c249fb15c64f505b856",
     "grade": false,
     "grade_id": "cell-09a240d3787a14f9",
     "locked": true,
     "schema_version": 3,
     "solution": false,
     "task": false
    }
   },
   "outputs": [],
   "source": [
    "knn.pred = knn(train.X, test.X, train.Direction, k=4)\n",
    "mean(knn.pred == Direction.2005)"
   ]
  },
  {
   "cell_type": "markdown",
   "metadata": {
    "deletable": false,
    "editable": false,
    "nbgrader": {
     "cell_type": "markdown",
     "checksum": "bffdad33f4b4e600a73d44d0d5cec795",
     "grade": false,
     "grade_id": "cell-f0cdd27def5cf629",
     "locked": true,
     "schema_version": 3,
     "solution": false,
     "task": false
    }
   },
   "source": [
    "We can see that the results have improved slightly when we increase the value of `K` from `1` to `3`. But increasing `K` further turns out to provide no further improvements. \n",
    "\n",
    "It appears that for this data, QDA provides the best results of the methods that we have examined so far."
   ]
  },
  {
   "cell_type": "markdown",
   "metadata": {
    "deletable": false,
    "editable": false,
    "nbgrader": {
     "cell_type": "markdown",
     "checksum": "7e7ebe04639f2a07d1be464220e1c1f3",
     "grade": false,
     "grade_id": "cell-cae3a49db62b9ca5",
     "locked": true,
     "schema_version": 3,
     "solution": false,
     "task": false
    }
   },
   "source": [
    "## Poisson Regression\n",
    "\n",
    "We would be using the `glm()` function with the argument `family = poisson` to define a poisson regression model.\n",
    "\n",
    "We are gonna fit a Poisson regression model to the `Bikeshare` data set found in `ISLR2` library, which measures the number of bike rentals(`bikers`) per hour in Washington DC."
   ]
  },
  {
   "cell_type": "code",
   "execution_count": null,
   "metadata": {
    "deletable": false,
    "editable": false,
    "nbgrader": {
     "cell_type": "code",
     "checksum": "66245aef48a9f16089a7f903f3e62ee1",
     "grade": false,
     "grade_id": "cell-7025d5ae38a41823",
     "locked": true,
     "schema_version": 3,
     "solution": false,
     "task": false
    }
   },
   "outputs": [],
   "source": [
    "attach(Bikeshare) #attaching the data set to R's context"
   ]
  },
  {
   "cell_type": "code",
   "execution_count": null,
   "metadata": {
    "deletable": false,
    "editable": false,
    "nbgrader": {
     "cell_type": "code",
     "checksum": "ecad5cb3eb516342b85a2c7ace4ab4b1",
     "grade": false,
     "grade_id": "cell-892eeab115736635",
     "locked": true,
     "schema_version": 3,
     "solution": false,
     "task": false
    }
   },
   "outputs": [],
   "source": [
    "dim(Bikeshare)\n",
    "names(Bikeshare)"
   ]
  },
  {
   "cell_type": "code",
   "execution_count": null,
   "metadata": {
    "deletable": false,
    "editable": false,
    "nbgrader": {
     "cell_type": "code",
     "checksum": "60608d07f433426facb0931fb2c00d7f",
     "grade": false,
     "grade_id": "cell-9b4ee15256e87fae",
     "locked": true,
     "schema_version": 3,
     "solution": false,
     "task": false
    }
   },
   "outputs": [],
   "source": [
    "mod.pois = glm(bikers ~ mnth + hr + workingday + temp + weathersit, \n",
    "               data = Bikeshare, family = poisson)\n",
    "summary(mod.pois)"
   ]
  },
  {
   "cell_type": "markdown",
   "metadata": {
    "deletable": false,
    "editable": false,
    "nbgrader": {
     "cell_type": "markdown",
     "checksum": "f9fbdaaea28ac256f6e63b2a1eaaa311",
     "grade": false,
     "grade_id": "cell-a92dc64c189a1709",
     "locked": true,
     "schema_version": 3,
     "solution": false,
     "task": false
    }
   },
   "source": [
    "We are gonna plot these coefficients associated with `mnth` and `hr` for better visualization"
   ]
  },
  {
   "cell_type": "code",
   "execution_count": null,
   "metadata": {
    "deletable": false,
    "editable": false,
    "nbgrader": {
     "cell_type": "code",
     "checksum": "14ac0ffaf05258192a1edbda387d6329",
     "grade": false,
     "grade_id": "cell-a4e6d37816f507b9",
     "locked": true,
     "schema_version": 3,
     "solution": false,
     "task": false
    }
   },
   "outputs": [],
   "source": [
    "coef.mnth <- c(coef(mod.pois)[2:12], -sum(coef(mod.pois)[2:12]))\n",
    "\n",
    "\n",
    "plot(coef.mnth, xlab = \"Month\", ylab = \"Coefficient\", \n",
    "     xaxt = \"n\", col = \"blue\", pch = 19, type = \"o\")\n",
    "axis(side = 1, at = 1:12, \n",
    "     labels = c(\"J\", \"F\", \"M\", \"A\", \"M\", \"J\", \"J\", \"A\", \"S\", \"O\", \"N\", \"D\"))\n",
    "\n",
    "coef.hours <- c(coef(mod.pois)[13:35], -sum(coef(mod.pois)[13:35]))\n",
    "plot(coef.hours, xlab = \"Hour\", ylab = \"Coefficient\", col = \"blue\", pch = 19, type = \"o\")"
   ]
  },
  {
   "cell_type": "markdown",
   "metadata": {
    "deletable": false,
    "editable": false,
    "nbgrader": {
     "cell_type": "markdown",
     "checksum": "2a4fc3bbc63e03b903fe3c349aa8b406",
     "grade": false,
     "grade_id": "cell-685d07bb7ea908fd",
     "locked": true,
     "schema_version": 3,
     "solution": false,
     "task": false
    }
   },
   "source": [
    "We can once again use the `predict()` function to obtain the fitted values (predictions) from this Poisson regression model."
   ]
  },
  {
   "cell_type": "code",
   "execution_count": null,
   "metadata": {
    "deletable": false,
    "editable": false,
    "nbgrader": {
     "cell_type": "code",
     "checksum": "78d5c6eec9f130c08252bfe4c048b7d0",
     "grade": false,
     "grade_id": "cell-2f1ee8d23fc9b001",
     "locked": true,
     "schema_version": 3,
     "solution": false,
     "task": false
    }
   },
   "outputs": [],
   "source": [
    "mod.pred = predict(mod.pois, type = \"response\")\n",
    "summary(mod.pred)"
   ]
  }
 ],
 "metadata": {
  "kernelspec": {
   "display_name": "R",
   "language": "R",
   "name": "ir"
  },
  "language_info": {
   "codemirror_mode": "r",
   "file_extension": ".r",
   "mimetype": "text/x-r-source",
   "name": "R",
   "pygments_lexer": "r",
   "version": "3.6.3"
  }
 },
 "nbformat": 4,
 "nbformat_minor": 4
}
