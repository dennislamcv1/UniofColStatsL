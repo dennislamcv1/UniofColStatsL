{
 "cells": [
  {
   "cell_type": "markdown",
   "metadata": {
    "deletable": false,
    "editable": false,
    "nbgrader": {
     "cell_type": "markdown",
     "checksum": "d674c4bff4ab4e37d68db01357f1ff82",
     "grade": false,
     "grade_id": "cell-5a745aa34e0346e4",
     "locked": true,
     "schema_version": 3,
     "solution": false,
     "task": false
    }
   },
   "source": [
    "# Classification using TidyModels\n",
    "(This programming assignment is just to understand extended functionality provided by tidy models. **Running and submitting the assignment will result in full credit**)\n",
    "\n",
    "In this lab we would be going through:\n",
    "- Naive Bayes\n",
    "- K-Nearest Neighbours\n",
    "- Poisson Regression\n",
    "\n",
    "using TidyModels. \n",
    "\n",
    "For this lab, we would examining the `OJ` data set that contains a number of numeric variables plus a variable called `Purchase` which has the two labels `CH` and `MM` (which is Citrus Hill or Minute Maid Orange Juice)"
   ]
  },
  {
   "cell_type": "code",
   "execution_count": null,
   "metadata": {
    "deletable": false,
    "editable": false,
    "nbgrader": {
     "cell_type": "code",
     "checksum": "c7bb3f0a15584f30ca83a0b583c5fdef",
     "grade": false,
     "grade_id": "cell-839ac0b6a72f1fb7",
     "locked": true,
     "schema_version": 3,
     "solution": false,
     "task": false
    }
   },
   "outputs": [],
   "source": [
    "suppressPackageStartupMessages(library(tidymodels))\n",
    "suppressPackageStartupMessages(library(ISLR))\n",
    "suppressPackageStartupMessages(library(ISLR2))\n",
    "suppressPackageStartupMessages(library(poissonreg))\n",
    "suppressPackageStartupMessages(library(corrr))\n",
    "suppressPackageStartupMessages(library(discrim))\n",
    "suppressPackageStartupMessages(library(kknn))"
   ]
  },
  {
   "cell_type": "code",
   "execution_count": null,
   "metadata": {
    "deletable": false,
    "editable": false,
    "nbgrader": {
     "cell_type": "code",
     "checksum": "4936da9833d6aa838bb70ff55e5e3999",
     "grade": false,
     "grade_id": "cell-55d781bcf2e9147a",
     "locked": true,
     "schema_version": 3,
     "solution": false,
     "task": false
    }
   },
   "outputs": [],
   "source": [
    "oj_train <- OJ %>%\n",
    "  filter(WeekofPurchase < 260)\n",
    "dim(oj_train)\n",
    "\n",
    "oj_test <- OJ %>%\n",
    "  filter(WeekofPurchase >= 260)\n",
    "dim(oj_test)\n",
    "\n",
    "dim(OJ)"
   ]
  },
  {
   "cell_type": "markdown",
   "metadata": {
    "deletable": false,
    "editable": false,
    "nbgrader": {
     "cell_type": "markdown",
     "checksum": "0f12d17d8ed6e2edbcd76d1e237010d5",
     "grade": false,
     "grade_id": "cell-943180b91ee9bcad",
     "locked": true,
     "schema_version": 3,
     "solution": false,
     "task": false
    }
   },
   "source": [
    "## Naive Bayes\n",
    "\n",
    "We would be using the `naive_bayes()` function to create the specification and also set the usekernel argument to `FALSE`.\n",
    "\n",
    "This means that we are assuming that the predictors `PriceCH` and `PriceMM` are drawn from Gaussian distributions."
   ]
  },
  {
   "cell_type": "code",
   "execution_count": null,
   "metadata": {
    "deletable": false,
    "editable": false,
    "nbgrader": {
     "cell_type": "code",
     "checksum": "a721eeb597aa6c23c9d19ae3daefaed1",
     "grade": false,
     "grade_id": "cell-0eab8152dfc27cc0",
     "locked": true,
     "schema_version": 3,
     "solution": false,
     "task": false
    }
   },
   "outputs": [],
   "source": [
    "nb_spec <- naive_Bayes() %>% \n",
    "  set_mode(\"classification\") %>% \n",
    "  set_engine(\"klaR\") %>% \n",
    "  set_args(usekernel = FALSE)  \n",
    "\n",
    "nb_fit <- nb_spec %>% \n",
    "  fit(Purchase ~ PriceCH + PriceMM, data = oj_train)"
   ]
  },
  {
   "cell_type": "code",
   "execution_count": null,
   "metadata": {
    "deletable": false,
    "editable": false,
    "nbgrader": {
     "cell_type": "code",
     "checksum": "b788375616517c8b9aef6bd1c17ca7cd",
     "grade": false,
     "grade_id": "cell-9cbb9607f41b186e",
     "locked": true,
     "schema_version": 3,
     "solution": false,
     "task": false
    }
   },
   "outputs": [],
   "source": [
    "names(nb_fit)"
   ]
  },
  {
   "cell_type": "code",
   "execution_count": null,
   "metadata": {
    "deletable": false,
    "editable": false,
    "nbgrader": {
     "cell_type": "code",
     "checksum": "e4b0e6a9ab5c26fab1e1d3aa550cf814",
     "grade": false,
     "grade_id": "cell-5d438c403a64ab91",
     "locked": true,
     "schema_version": 3,
     "solution": false,
     "task": false
    }
   },
   "outputs": [],
   "source": [
    "#confusion matrix\n",
    "augment(nb_fit, new_data = oj_test) %>% \n",
    "  conf_mat(truth = Purchase, estimate = .pred_class)\n",
    "\n",
    "#accuracy\n",
    "augment(nb_fit, new_data = oj_test) %>% \n",
    "  accuracy(truth = Purchase, estimate = .pred_class)"
   ]
  },
  {
   "cell_type": "code",
   "execution_count": null,
   "metadata": {
    "deletable": false,
    "editable": false,
    "nbgrader": {
     "cell_type": "code",
     "checksum": "9a76808b0c52acf1fb8811c08f6afe53",
     "grade": false,
     "grade_id": "cell-59914cd231c2950a",
     "locked": true,
     "schema_version": 3,
     "solution": false,
     "task": false
    }
   },
   "outputs": [],
   "source": [
    "ggplot(OJ, aes(PriceCH, PriceMM)) +\n",
    "  geom_point(alpha = 0.1, size = 2) +\n",
    "  geom_smooth(method = \"lm\", se = FALSE) +\n",
    "  labs(title = \"correlation between PriceCH and PriceMM\")"
   ]
  },
  {
   "cell_type": "markdown",
   "metadata": {
    "deletable": false,
    "editable": false,
    "nbgrader": {
     "cell_type": "markdown",
     "checksum": "8df3ede3478733833a439599cbc272b3",
     "grade": false,
     "grade_id": "cell-f07033e5efa225f4",
     "locked": true,
     "schema_version": 3,
     "solution": false,
     "task": false
    }
   },
   "source": [
    "## K - Nearest Neighbors\n",
    "\n",
    "This is the first model we have looked at that has a hyperparameter we need to specify. \n",
    "\n",
    "I have set it to 5 with `neighbors = 5`. Fitting is done like normal."
   ]
  },
  {
   "cell_type": "code",
   "execution_count": null,
   "metadata": {
    "deletable": false,
    "editable": false,
    "nbgrader": {
     "cell_type": "code",
     "checksum": "f0bc4384b600e566e99bb16ee0719689",
     "grade": false,
     "grade_id": "cell-0cd8882189a60403",
     "locked": true,
     "schema_version": 3,
     "solution": false,
     "task": false
    }
   },
   "outputs": [],
   "source": [
    "knn_spec <- nearest_neighbor(neighbors = 5) %>%\n",
    "  set_mode(\"classification\") %>%\n",
    "  set_engine(\"kknn\")\n",
    "\n",
    "knn_fit <- knn_spec %>%\n",
    "  fit(Purchase ~ PriceCH + PriceMM, data = oj_train)\n",
    "\n",
    "knn_fit"
   ]
  },
  {
   "cell_type": "code",
   "execution_count": null,
   "metadata": {
    "deletable": false,
    "editable": false,
    "nbgrader": {
     "cell_type": "code",
     "checksum": "20a0853ed261384b30040e0d801ce823",
     "grade": false,
     "grade_id": "cell-8bdfeeac804b7207",
     "locked": true,
     "schema_version": 3,
     "solution": false,
     "task": false
    }
   },
   "outputs": [],
   "source": [
    "augment(knn_fit, new_data = oj_test) %>%\n",
    "  conf_mat(truth = Purchase, estimate = .pred_class) \n",
    "\n",
    "augment(knn_fit, new_data = oj_test) %>%\n",
    "  accuracy(truth = Purchase, estimate = .pred_class) "
   ]
  },
  {
   "cell_type": "markdown",
   "metadata": {
    "deletable": false,
    "editable": false,
    "nbgrader": {
     "cell_type": "markdown",
     "checksum": "d92f25e941f6a63cac8e12235e550919",
     "grade": false,
     "grade_id": "cell-5cc53ecce94d5787",
     "locked": true,
     "schema_version": 3,
     "solution": false,
     "task": false
    }
   },
   "source": [
    "It appears that this model is not performing that well.\n",
    "\n",
    "We will try using a K-nearest neighbors model in an application to caravan insurance data. This data set includes `85` predictors that measure demographic characteristics for `5822` individuals. \n",
    "\n",
    "The response variable is Purchase, which indicates whether or not a given individual purchases a caravan insurance policy. In this data set, only 6% of people purchased caravan insurance."
   ]
  },
  {
   "cell_type": "code",
   "execution_count": null,
   "metadata": {
    "deletable": false,
    "editable": false,
    "nbgrader": {
     "cell_type": "code",
     "checksum": "9eb772b66223587612427ca07d2fc1b2",
     "grade": false,
     "grade_id": "cell-00f65b2ae5e9682d",
     "locked": true,
     "schema_version": 3,
     "solution": false,
     "task": false
    }
   },
   "outputs": [],
   "source": [
    "Caravan_test <- Caravan[seq_len(1000), ]\n",
    "Caravan_train <- Caravan[-seq_len(1000), ]"
   ]
  },
  {
   "cell_type": "markdown",
   "metadata": {
    "deletable": false,
    "editable": false,
    "nbgrader": {
     "cell_type": "markdown",
     "checksum": "ecd3f56cc4aa8c415ad4911045a188d4",
     "grade": false,
     "grade_id": "cell-4372c149a32beafa",
     "locked": true,
     "schema_version": 3,
     "solution": false,
     "task": false
    }
   },
   "source": [
    "Since we are using a K-nearest neighbor model, it is importance that the variables are centered and scaled to make sure that the variables have a uniform influence. \n",
    "\n",
    "We can accomplish this transformation with `step_normalize()`, which does centering and scaling in one go"
   ]
  },
  {
   "cell_type": "code",
   "execution_count": null,
   "metadata": {
    "deletable": false,
    "editable": false,
    "nbgrader": {
     "cell_type": "code",
     "checksum": "1c22833b8e93fa803c5cbc4ba3cfd273",
     "grade": false,
     "grade_id": "cell-790fbc54f2492867",
     "locked": true,
     "schema_version": 3,
     "solution": false,
     "task": false
    }
   },
   "outputs": [],
   "source": [
    "rec_spec <- recipe(Purchase ~ ., data = Caravan_train) %>%\n",
    "  step_normalize(all_numeric_predictors())"
   ]
  },
  {
   "cell_type": "code",
   "execution_count": null,
   "metadata": {
    "deletable": false,
    "editable": false,
    "nbgrader": {
     "cell_type": "code",
     "checksum": "bacf56a396b90429bac73cbf98035763",
     "grade": false,
     "grade_id": "cell-af4936cb6b647523",
     "locked": true,
     "schema_version": 3,
     "solution": false,
     "task": false
    }
   },
   "outputs": [],
   "source": [
    "Caravan_wf <- workflow() %>%\n",
    "  add_recipe(rec_spec)"
   ]
  },
  {
   "cell_type": "code",
   "execution_count": null,
   "metadata": {
    "deletable": false,
    "editable": false,
    "nbgrader": {
     "cell_type": "code",
     "checksum": "ad8cde4af47847677b2d2280169e19be",
     "grade": false,
     "grade_id": "cell-d3db803786d63fdb",
     "locked": true,
     "schema_version": 3,
     "solution": false,
     "task": false
    }
   },
   "outputs": [],
   "source": [
    "knn_spec <- nearest_neighbor() %>%\n",
    "  set_mode(\"classification\") %>%\n",
    "  set_engine(\"kknn\")"
   ]
  },
  {
   "cell_type": "markdown",
   "metadata": {
    "deletable": false,
    "editable": false,
    "nbgrader": {
     "cell_type": "markdown",
     "checksum": "bbdff7135923527409fb602d3c589638",
     "grade": false,
     "grade_id": "cell-e61bde2259379acc",
     "locked": true,
     "schema_version": 3,
     "solution": false,
     "task": false
    }
   },
   "source": [
    "We can then use this model specification along with `Caravan_wf` to create 3 full workflow objects for `K = 1,3,5`"
   ]
  },
  {
   "cell_type": "code",
   "execution_count": null,
   "metadata": {
    "deletable": false,
    "editable": false,
    "nbgrader": {
     "cell_type": "code",
     "checksum": "858920f7888a6d144d2eb43aa482ddab",
     "grade": false,
     "grade_id": "cell-c3c21d5c6bbbff23",
     "locked": true,
     "schema_version": 3,
     "solution": false,
     "task": false
    }
   },
   "outputs": [],
   "source": [
    "knn1_wf <- Caravan_wf %>%\n",
    "  add_model(knn_spec %>% set_args(neighbors = 1))\n",
    "\n",
    "knn3_wf <- Caravan_wf %>%\n",
    "  add_model(knn_spec %>% set_args(neighbors = 3))\n",
    "\n",
    "knn5_wf <- Caravan_wf %>%\n",
    "  add_model(knn_spec %>% set_args(neighbors = 5))"
   ]
  },
  {
   "cell_type": "markdown",
   "metadata": {
    "deletable": false,
    "editable": false,
    "nbgrader": {
     "cell_type": "markdown",
     "checksum": "bfb290cde9556e6821f21284691b8893",
     "grade": false,
     "grade_id": "cell-38f833e04767c9f3",
     "locked": true,
     "schema_version": 3,
     "solution": false,
     "task": false
    }
   },
   "source": [
    "With all these workflow specification we can fit all the models one by one."
   ]
  },
  {
   "cell_type": "code",
   "execution_count": null,
   "metadata": {
    "deletable": false,
    "editable": false,
    "nbgrader": {
     "cell_type": "code",
     "checksum": "6d56c8371b6a6da1a9ce925b6d9e5dbc",
     "grade": false,
     "grade_id": "cell-c13920ff756cebf5",
     "locked": true,
     "schema_version": 3,
     "solution": false,
     "task": false
    }
   },
   "outputs": [],
   "source": [
    "knn1_fit <- fit(knn1_wf, data = Caravan_train)\n",
    "knn3_fit <- fit(knn3_wf, data = Caravan_train)\n",
    "knn5_fit <- fit(knn5_wf, data = Caravan_train)"
   ]
  },
  {
   "cell_type": "code",
   "execution_count": null,
   "metadata": {
    "deletable": false,
    "editable": false,
    "nbgrader": {
     "cell_type": "code",
     "checksum": "6b994b140ca5f80074d24006b7c25ae9",
     "grade": false,
     "grade_id": "cell-1cd68c9e2471c987",
     "locked": true,
     "schema_version": 3,
     "solution": false,
     "task": false
    }
   },
   "outputs": [],
   "source": [
    "get_confusion_matrix = function(fit){\n",
    "    augment(fit, new_data = Caravan_test) %>%\n",
    "  conf_mat(truth = Purchase, estimate = .pred_class)\n",
    "}\n",
    "\n",
    "get_accuracy = function(fit){\n",
    "    augment(fit, new_data = Caravan_test) %>%\n",
    "  accuracy(truth = Purchase, estimate = .pred_class)\n",
    "}\n",
    "\n",
    "get_confusion_matrix(knn1_fit)\n",
    "get_confusion_matrix(knn3_fit)\n",
    "get_confusion_matrix(knn5_fit)\n",
    "\n",
    "\n",
    "get_accuracy(knn1_fit)\n",
    "get_accuracy(knn3_fit)\n",
    "get_accuracy(knn5_fit)"
   ]
  },
  {
   "cell_type": "markdown",
   "metadata": {
    "deletable": false,
    "editable": false,
    "nbgrader": {
     "cell_type": "markdown",
     "checksum": "23f29d47bc989aea5708535a39dd7dfd",
     "grade": false,
     "grade_id": "cell-13e612d98cf0e813",
     "locked": true,
     "schema_version": 3,
     "solution": false,
     "task": false
    }
   },
   "source": [
    "And it appears that the model performance doesn’t change much when changing from 1 to 5."
   ]
  },
  {
   "cell_type": "markdown",
   "metadata": {
    "deletable": false,
    "editable": false,
    "nbgrader": {
     "cell_type": "markdown",
     "checksum": "2087e25f38efc8c900b1a6f0151fe8f9",
     "grade": false,
     "grade_id": "cell-d2663f600d83f6fa",
     "locked": true,
     "schema_version": 3,
     "solution": false,
     "task": false
    }
   },
   "source": [
    "## Poisson Regression\n",
    "\n",
    "We will now shift to a new data set, Bikeshare, and look at the number of bike rentals per hour in Washington, D.C.\n",
    "\n",
    "The variable of interest, number of bike rentals per hour can take on non-negative integer values. This makes Poisson Regression a suitable candidate to model the same.\n",
    "\n",
    "We start with specifying the model using the `poisson_reg()` function."
   ]
  },
  {
   "cell_type": "code",
   "execution_count": null,
   "metadata": {
    "deletable": false,
    "editable": false,
    "nbgrader": {
     "cell_type": "code",
     "checksum": "59346415c4db0ab95e9b5a27c55553e1",
     "grade": false,
     "grade_id": "cell-cf9a798d0afb2f26",
     "locked": true,
     "schema_version": 3,
     "solution": false,
     "task": false
    }
   },
   "outputs": [],
   "source": [
    "pois_spec <- poisson_reg() %>% \n",
    "  set_mode(\"regression\") %>% \n",
    "  set_engine(\"glm\")"
   ]
  },
  {
   "cell_type": "markdown",
   "metadata": {
    "deletable": false,
    "editable": false,
    "nbgrader": {
     "cell_type": "markdown",
     "checksum": "92548b554408fe259df829891d6be59e",
     "grade": false,
     "grade_id": "cell-f253d4cf3a2f4dd6",
     "locked": true,
     "schema_version": 3,
     "solution": false,
     "task": false
    }
   },
   "source": [
    "Here we will be predicting bikers using the following predictors:\n",
    "\n",
    "* `mnth` - month of the year, coded as a factor\n",
    "* `hr` - hour of the day, coded as a factor from 0 to 23\n",
    "* `workingday` - Is it a workday? Already coded as a dummy variable with Yes = 1, No = 0\n",
    "* `temp` - normalized temperature in Celsius\n",
    "* `weathersit` - weather condition, again coded as a factor with the following levels:\n",
    "    * clear\n",
    "    * cloudy/misty\n",
    "    * light rain/snow\n",
    "    * heavy rain/snow\n",
    "    \n",
    "As we can see, apart from `temp` all other predictors are categorical in nature. Thus, we will first create a recipe to convert these into dummy variables and then bundle the model spec and recipe using a workflow."
   ]
  },
  {
   "cell_type": "code",
   "execution_count": null,
   "metadata": {
    "deletable": false,
    "editable": false,
    "nbgrader": {
     "cell_type": "code",
     "checksum": "9704e68bdf947f177775161a621f085d",
     "grade": false,
     "grade_id": "cell-9bc1a8e60d8646be",
     "locked": true,
     "schema_version": 3,
     "solution": false,
     "task": false
    }
   },
   "outputs": [],
   "source": [
    "pois_rec_spec <- recipe(\n",
    "  bikers ~ mnth + hr + workingday + temp + weathersit,\n",
    "  data = Bikeshare\n",
    ") %>% \n",
    "  step_dummy(all_nominal_predictors())"
   ]
  },
  {
   "cell_type": "code",
   "execution_count": null,
   "metadata": {
    "deletable": false,
    "editable": false,
    "nbgrader": {
     "cell_type": "code",
     "checksum": "f9d81a5eca0e05a9332c6b73c92cdf65",
     "grade": false,
     "grade_id": "cell-ef92486c35a08a64",
     "locked": true,
     "schema_version": 3,
     "solution": false,
     "task": false
    }
   },
   "outputs": [],
   "source": [
    "pois_wf <- workflow() %>% \n",
    "  add_recipe(pois_rec_spec) %>% \n",
    "  add_model(pois_spec)"
   ]
  },
  {
   "cell_type": "markdown",
   "metadata": {
    "deletable": false,
    "editable": false,
    "nbgrader": {
     "cell_type": "markdown",
     "checksum": "deaef9e5f9d30fff75126d763405edb0",
     "grade": false,
     "grade_id": "cell-106d14e4e03fb3cd",
     "locked": true,
     "schema_version": 3,
     "solution": false,
     "task": false
    }
   },
   "source": [
    "With the workflow in place, we follow the same pattern to fit the model and look at the predictions."
   ]
  },
  {
   "cell_type": "code",
   "execution_count": null,
   "metadata": {
    "deletable": false,
    "editable": false,
    "nbgrader": {
     "cell_type": "code",
     "checksum": "4bd26014b3ca87d127d798dffa4f1d41",
     "grade": false,
     "grade_id": "cell-104c761ca0ad1885",
     "locked": true,
     "schema_version": 3,
     "solution": false,
     "task": false
    }
   },
   "outputs": [],
   "source": [
    "pois_fit <- pois_wf %>% fit(data = Bikeshare)\n",
    "\n",
    "augment(pois_fit, new_data = Bikeshare, type.predict = \"response\") %>% \n",
    "  ggplot(aes(bikers, .pred)) +\n",
    "  geom_point(alpha = 0.1) +\n",
    "  geom_abline(slope = 1, size = 1, color = \"grey40\") +\n",
    "  labs(title = \"Predicting the number of bikers per hour using Poission Regression\",\n",
    "       x = \"Actual\", y = \"Predicted\")"
   ]
  },
  {
   "cell_type": "markdown",
   "metadata": {
    "deletable": false,
    "editable": false,
    "nbgrader": {
     "cell_type": "markdown",
     "checksum": "79efcc9708da95f4a68c569843bde22d",
     "grade": false,
     "grade_id": "cell-0198c7913feb1564",
     "locked": true,
     "schema_version": 3,
     "solution": false,
     "task": false
    }
   },
   "source": [
    "We can also look at the model coefficients to get a feel for the working of the model and comparing it with our own understanding.\n",
    "\n",
    "Looking at the coefficients corresponding to the mnth variable, we note that it is lower in the winter months and higher in the summer months. This seems logical as we would expect the number of bike rentals to be higher during summertime."
   ]
  },
  {
   "cell_type": "code",
   "execution_count": null,
   "metadata": {
    "deletable": false,
    "editable": false,
    "nbgrader": {
     "cell_type": "code",
     "checksum": "7581d8c2283f592ddaf3e7c6ec488a74",
     "grade": false,
     "grade_id": "cell-99a144d45ce3ce29",
     "locked": true,
     "schema_version": 3,
     "solution": false,
     "task": false
    }
   },
   "outputs": [],
   "source": [
    "pois_fit_coef_mnths <- \n",
    "  tidy(pois_fit) %>% \n",
    "  filter(grepl(\"^mnth\", term)) %>% \n",
    "  mutate(\n",
    "    term = stringr::str_replace(term, \"mnth_\", \"\"),\n",
    "    term = forcats::fct_inorder(term)\n",
    "  ) \n",
    "\n",
    "pois_fit_coef_mnths %>% \n",
    "  ggplot(aes(term, estimate)) +\n",
    "  geom_line(group = 1) +\n",
    "  geom_point(shape = 21, size = 3, stroke = 1.5, \n",
    "             fill = \"black\", color = \"white\") +\n",
    "  labs(title = \"Coefficient value from Poission Regression\",\n",
    "       x = \"Month\", y = \"Coefficient\")"
   ]
  },
  {
   "cell_type": "markdown",
   "metadata": {
    "deletable": false,
    "editable": false,
    "nbgrader": {
     "cell_type": "markdown",
     "checksum": "753889eb4278bc8e3916d2064f5a8714",
     "grade": false,
     "grade_id": "cell-4a8bbfa326518bca",
     "locked": true,
     "schema_version": 3,
     "solution": false,
     "task": false
    }
   },
   "source": [
    "We can similarly also look at the coefficients corresponding to the hr variable. Here the peaks occur at `8:00 AM` and `5:00 PM`, i.e. during normal office start and end times."
   ]
  },
  {
   "cell_type": "code",
   "execution_count": null,
   "metadata": {
    "deletable": false,
    "editable": false,
    "nbgrader": {
     "cell_type": "code",
     "checksum": "5ffab4134ec29b6e0bc3acb0779be56f",
     "grade": false,
     "grade_id": "cell-6897537283934058",
     "locked": true,
     "schema_version": 3,
     "solution": false,
     "task": false
    }
   },
   "outputs": [],
   "source": [
    "pois_fit_coef_hr <- \n",
    "  tidy(pois_fit) %>% \n",
    "  filter(grepl(\"^hr\", term)) %>% \n",
    "  mutate(\n",
    "    term = stringr::str_replace(term, \"hr_X\", \"\"),\n",
    "    term = forcats::fct_inorder(term)\n",
    "  )\n",
    "\n",
    "pois_fit_coef_hr %>% \n",
    "  ggplot(aes(term, estimate)) +\n",
    "  geom_line(group = 1) +\n",
    "  geom_point(shape = 21, size = 3, stroke = 1.5, \n",
    "             fill = \"black\", color = \"white\") +\n",
    "  labs(title = \"Coefficient value from Poission Regression\",\n",
    "       x = \"Month\", y = \"Coefficient\")"
   ]
  },
  {
   "cell_type": "code",
   "execution_count": null,
   "metadata": {
    "deletable": false,
    "editable": false,
    "nbgrader": {
     "cell_type": "code",
     "checksum": "f8dc0aa3616e676613433b8301922a82",
     "grade": true,
     "grade_id": "cell-2de718063be679b6",
     "locked": true,
     "points": 10,
     "schema_version": 3,
     "solution": false,
     "task": false
    }
   },
   "outputs": [],
   "source": []
  }
 ],
 "metadata": {
  "kernelspec": {
   "display_name": "R",
   "language": "R",
   "name": "ir"
  },
  "language_info": {
   "codemirror_mode": "r",
   "file_extension": ".r",
   "mimetype": "text/x-r-source",
   "name": "R",
   "pygments_lexer": "r",
   "version": "3.6.3"
  }
 },
 "nbformat": 4,
 "nbformat_minor": 4
}
