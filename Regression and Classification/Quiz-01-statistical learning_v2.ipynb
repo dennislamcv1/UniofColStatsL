{
 "cells": [
  {
   "cell_type": "markdown",
   "metadata": {
    "deletable": false,
    "editable": false,
    "nbgrader": {
     "cell_type": "markdown",
     "checksum": "8d9c505babc286a4ba1bc0ebd34598df",
     "grade": false,
     "grade_id": "cell-9179b5f13c0f5ec7",
     "locked": true,
     "schema_version": 3,
     "solution": false,
     "task": false
    }
   },
   "source": [
    "# Quiz 01 - Statisitical Learning\n",
    "\n",
    "In this assessment we would using the `College` data set which can be found in the file `College.csv` on the book website. It contains a number of variables for 777 different universities and colleges in the US.\n",
    "\n",
    "The variables are \n",
    "* `Private` : Public/Private indicator\n",
    "* `Apps` : Number of applications received\n",
    "* `Accept` : Number of applicants accepted\n",
    "* `Enroll` : Number of new students enrolled\n",
    "* `Top10perc` : New students from top 10 % of high school class \n",
    "* `Top25perc` : New students from top 25 % of high school class \n",
    "* `F.Undergrad` : Number of full-time undergraduates\n",
    "* `P.Undergrad` : Number of part-time undergraduates\n",
    "* `Outstate` : Out-of-state tuition\n",
    "* `Room.Board` : Room and board costs\n",
    "* `Books` : Estimated book costs\n",
    "* `Personal` : Estimated personal spending\n",
    "* `PhD` : Percent of faculty with Ph.D.’s\n",
    "* `Terminal` : Percent of faculty with terminal degree \n",
    "* `S.F.Ratio` : Student/faculty ratio\n",
    "* `perc.alumni` : Percent of alumni who donate\n",
    "* `Expend` : Instructional expenditure per student\n",
    "* `Grad.Rate` : Graduation rate"
   ]
  },
  {
   "cell_type": "markdown",
   "metadata": {
    "deletable": false,
    "editable": false,
    "nbgrader": {
     "cell_type": "markdown",
     "checksum": "ca22f0a00c6b59336e6004e94f437115",
     "grade": false,
     "grade_id": "cell-7f58c0f192a6c99f",
     "locked": true,
     "schema_version": 3,
     "solution": false,
     "task": false
    }
   },
   "source": [
    "(a) Use the `read.csv()` function to read the data into `R`. Call the loaded data college. Make sure that you have the directory set to the correct location for the data"
   ]
  },
  {
   "cell_type": "code",
   "execution_count": null,
   "metadata": {
    "deletable": false,
    "nbgrader": {
     "cell_type": "code",
     "checksum": "1345a62e54a7bbbca51ff37a04e49f3d",
     "grade": false,
     "grade_id": "cell-67a179cffb4f39a8",
     "locked": false,
     "schema_version": 3,
     "solution": true,
     "task": false
    }
   },
   "outputs": [],
   "source": [
    "# your code here\n"
   ]
  },
  {
   "cell_type": "code",
   "execution_count": null,
   "metadata": {
    "deletable": false,
    "editable": false,
    "nbgrader": {
     "cell_type": "code",
     "checksum": "f05ccf2d397232e17be224e5a5226fe1",
     "grade": true,
     "grade_id": "cell-0cf71290cf0fc81a",
     "locked": true,
     "points": 5,
     "schema_version": 3,
     "solution": false,
     "task": false
    }
   },
   "outputs": [],
   "source": [
    "# hidden test case\n"
   ]
  },
  {
   "cell_type": "markdown",
   "metadata": {
    "deletable": false,
    "editable": false,
    "nbgrader": {
     "cell_type": "markdown",
     "checksum": "cc8004381e738e19d9bb2aeda606f789",
     "grade": false,
     "grade_id": "cell-38b0536fd303940c",
     "locked": true,
     "schema_version": 3,
     "solution": false,
     "task": false
    }
   },
   "source": [
    "(b) Use the `dim()` function to produce the dimensions of the data set."
   ]
  },
  {
   "cell_type": "code",
   "execution_count": null,
   "metadata": {
    "deletable": false,
    "nbgrader": {
     "cell_type": "code",
     "checksum": "3d4080f9c046aa2b67e2b3e1f807789f",
     "grade": false,
     "grade_id": "cell-a6d5d45ea6cae30a",
     "locked": false,
     "schema_version": 3,
     "solution": true,
     "task": false
    }
   },
   "outputs": [],
   "source": [
    "#dims = ?\n",
    "# your code here\n"
   ]
  },
  {
   "cell_type": "code",
   "execution_count": null,
   "metadata": {
    "deletable": false,
    "editable": false,
    "nbgrader": {
     "cell_type": "code",
     "checksum": "f07850dca03d02c595003c96f67b7c49",
     "grade": true,
     "grade_id": "cell-8d2df4e4012020c4",
     "locked": true,
     "points": 5,
     "schema_version": 3,
     "solution": false,
     "task": false
    }
   },
   "outputs": [],
   "source": [
    "#hidden tests\n"
   ]
  },
  {
   "cell_type": "markdown",
   "metadata": {
    "deletable": false,
    "editable": false,
    "nbgrader": {
     "cell_type": "markdown",
     "checksum": "acc9801c1966c37418972e9d379422e9",
     "grade": false,
     "grade_id": "cell-3d81d0415499a557",
     "locked": true,
     "schema_version": 3,
     "solution": false,
     "task": false
    }
   },
   "source": [
    "(c) Use the `pairs()` function to produce a scatterplot matrix of the first ten columns or variables of the data. Recall that you can reference the first ten columns of a `matrix A` using `A[,1:10]`"
   ]
  },
  {
   "cell_type": "code",
   "execution_count": null,
   "metadata": {
    "deletable": false,
    "nbgrader": {
     "cell_type": "code",
     "checksum": "b31f80d2f8aca5a5a1777550082542db",
     "grade": false,
     "grade_id": "cell-a7e309fd0e041044",
     "locked": false,
     "schema_version": 3,
     "solution": true,
     "task": false
    }
   },
   "outputs": [],
   "source": [
    "#pairs = ?\n",
    "# your code here\n"
   ]
  },
  {
   "cell_type": "code",
   "execution_count": null,
   "metadata": {
    "deletable": false,
    "editable": false,
    "nbgrader": {
     "cell_type": "code",
     "checksum": "1dbaae37ae4cc127af78d487fc778a48",
     "grade": true,
     "grade_id": "cell-f3bbad2edc099757",
     "locked": true,
     "points": 5,
     "schema_version": 3,
     "solution": false,
     "task": false
    }
   },
   "outputs": [],
   "source": [
    "#hidden test cases\n"
   ]
  },
  {
   "cell_type": "markdown",
   "metadata": {
    "deletable": false,
    "editable": false,
    "nbgrader": {
     "cell_type": "markdown",
     "checksum": "b4b352b2cee2a77367736fd1d92d0aa8",
     "grade": false,
     "grade_id": "cell-34f0a624c937f7c5",
     "locked": true,
     "schema_version": 3,
     "solution": false,
     "task": false
    }
   },
   "source": [
    "(d) Use the `plot()` function to produce side-by-side boxplots of Outstate versus Private"
   ]
  },
  {
   "cell_type": "code",
   "execution_count": null,
   "metadata": {
    "deletable": false,
    "nbgrader": {
     "cell_type": "code",
     "checksum": "1fab023890bd5d6ca833ef37f19e5125",
     "grade": false,
     "grade_id": "cell-9f4366b093324d1a",
     "locked": false,
     "schema_version": 3,
     "solution": true,
     "task": false
    }
   },
   "outputs": [],
   "source": [
    "# your code here\n"
   ]
  },
  {
   "cell_type": "markdown",
   "metadata": {
    "deletable": false,
    "editable": false,
    "nbgrader": {
     "cell_type": "markdown",
     "checksum": "321fe9f2756ef7eaf80c3a903c4dddff",
     "grade": false,
     "grade_id": "cell-1e9ecfd7e95906a4",
     "locked": true,
     "schema_version": 3,
     "solution": false,
     "task": false
    }
   },
   "source": [
    "(e) Create a new qualitative variable, called `Elite`, by binning the `Top10perc` variable.\n",
    "Divide universities into two groups based on whether or not the proportion of students coming from the top `10%` of their high school classes exceeds `50 %`. \n",
    "\n",
    "`Elite` should contain `Yes` or `No` based on the above condition"
   ]
  },
  {
   "cell_type": "code",
   "execution_count": null,
   "metadata": {
    "deletable": false,
    "nbgrader": {
     "cell_type": "code",
     "checksum": "29be4fbf8d12efe22483de7530ce9542",
     "grade": false,
     "grade_id": "cell-0b11c6b7959ebcf1",
     "locked": false,
     "schema_version": 3,
     "solution": true,
     "task": false
    }
   },
   "outputs": [],
   "source": [
    "#Elite = ?\n",
    "# your code here\n",
    "\n"
   ]
  },
  {
   "cell_type": "code",
   "execution_count": null,
   "metadata": {
    "deletable": false,
    "editable": false,
    "nbgrader": {
     "cell_type": "code",
     "checksum": "38c24fa2ac709a0df0ded956b46a13ee",
     "grade": true,
     "grade_id": "cell-284bea63b9703765",
     "locked": true,
     "points": 5,
     "schema_version": 3,
     "solution": false,
     "task": false
    }
   },
   "outputs": [],
   "source": [
    "#hidden test cases\n"
   ]
  },
  {
   "cell_type": "code",
   "execution_count": null,
   "metadata": {
    "deletable": false,
    "editable": false,
    "nbgrader": {
     "cell_type": "code",
     "checksum": "c9cb4ac8fb4d6378f31e206de50e781f",
     "grade": false,
     "grade_id": "cell-b2b149927c8cd7ce",
     "locked": true,
     "schema_version": 3,
     "solution": false,
     "task": false
    }
   },
   "outputs": [],
   "source": [
    "Elite <- as.factor(Elite)\n",
    "college <- data.frame(college, Elite)"
   ]
  },
  {
   "cell_type": "markdown",
   "metadata": {
    "deletable": false,
    "editable": false,
    "nbgrader": {
     "cell_type": "markdown",
     "checksum": "1a6665870b5e7b2de8f3cc325a7a4584",
     "grade": false,
     "grade_id": "cell-03789780eb5ec336",
     "locked": true,
     "schema_version": 3,
     "solution": false,
     "task": false
    }
   },
   "source": [
    "(d) use the `plot()` function to produce side-by-side boxplots of Outstate versus Elite."
   ]
  },
  {
   "cell_type": "code",
   "execution_count": null,
   "metadata": {
    "deletable": false,
    "nbgrader": {
     "cell_type": "code",
     "checksum": "dd4efc8542d482ed300dc039e403fd6f",
     "grade": false,
     "grade_id": "cell-2ebc27afc33270dd",
     "locked": false,
     "schema_version": 3,
     "solution": true,
     "task": false
    }
   },
   "outputs": [],
   "source": [
    "# your code here\n"
   ]
  }
 ],
 "metadata": {
  "kernelspec": {
   "display_name": "R",
   "language": "R",
   "name": "ir"
  },
  "language_info": {
   "codemirror_mode": "r",
   "file_extension": ".r",
   "mimetype": "text/x-r-source",
   "name": "R",
   "pygments_lexer": "r",
   "version": "3.6.3"
  }
 },
 "nbformat": 4,
 "nbformat_minor": 4
}
