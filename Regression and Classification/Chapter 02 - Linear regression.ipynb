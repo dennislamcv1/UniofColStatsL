{
 "cells": [
  {
   "cell_type": "markdown",
   "metadata": {
    "deletable": false,
    "editable": false,
    "nbgrader": {
     "cell_type": "markdown",
     "checksum": "dd79e86d2ce46b4c759cb97315e38b26",
     "grade": false,
     "grade_id": "cell-d45afde52395e098",
     "locked": true,
     "schema_version": 3,
     "solution": false,
     "task": false
    }
   },
   "source": [
    "# Linear Regression\n",
    "\n",
    "In this lab we would be going through:\n",
    " - Simple linear regression\n",
    " - Multiple linear regression \n",
    " - Interaction Terms\n",
    " - Non-linear Transformation of the Predictors\n",
    "\n",
    "We would be working with the Boston data set available in package ISLR2. <br>"
   ]
  },
  {
   "cell_type": "code",
   "execution_count": null,
   "metadata": {
    "deletable": false,
    "editable": false,
    "nbgrader": {
     "cell_type": "code",
     "checksum": "6140c9776c30cd9bc58ec89af57d3197",
     "grade": false,
     "grade_id": "cell-cb92be867cc1f8c5",
     "locked": true,
     "schema_version": 3,
     "solution": false,
     "task": false
    }
   },
   "outputs": [],
   "source": [
    "library(ISLR2)\n",
    "head(Boston)"
   ]
  },
  {
   "cell_type": "markdown",
   "metadata": {
    "deletable": false,
    "editable": false,
    "nbgrader": {
     "cell_type": "markdown",
     "checksum": "71bb054ccd74689ea523acd73257d5d5",
     "grade": false,
     "grade_id": "cell-0b9818bd67c1373e",
     "locked": true,
     "schema_version": 3,
     "solution": false,
     "task": false
    }
   },
   "source": [
    "Lets try using `lstat` as the predictor variable to predict the value `medv` using a `lm()` model"
   ]
  },
  {
   "cell_type": "code",
   "execution_count": null,
   "metadata": {
    "deletable": false,
    "editable": false,
    "nbgrader": {
     "cell_type": "code",
     "checksum": "03492007ec015b0d83501c2930cc70c0",
     "grade": false,
     "grade_id": "cell-ac11cfe2a09ef570",
     "locked": true,
     "schema_version": 3,
     "solution": false,
     "task": false
    }
   },
   "outputs": [],
   "source": [
    "#To know more about lm( );\n",
    "#?lm()"
   ]
  },
  {
   "cell_type": "code",
   "execution_count": null,
   "metadata": {
    "deletable": false,
    "editable": false,
    "nbgrader": {
     "cell_type": "code",
     "checksum": "7accbe474040219aaaf6db160b40b720",
     "grade": false,
     "grade_id": "cell-bf11ee7a46759195",
     "locked": true,
     "schema_version": 3,
     "solution": false,
     "task": false
    }
   },
   "outputs": [],
   "source": [
    "lm.fit <- lm(medv ~ lstat, data = Boston)\n",
    "lm.fit"
   ]
  },
  {
   "cell_type": "code",
   "execution_count": null,
   "metadata": {
    "deletable": false,
    "editable": false,
    "nbgrader": {
     "cell_type": "code",
     "checksum": "cb5377a1eab52f1ff24d7d5c2167a674",
     "grade": false,
     "grade_id": "cell-0453c5c5d141bd7f",
     "locked": true,
     "schema_version": 3,
     "solution": false,
     "task": false
    }
   },
   "outputs": [],
   "source": [
    "summary(lm.fit)"
   ]
  },
  {
   "cell_type": "markdown",
   "metadata": {
    "deletable": false,
    "editable": false,
    "nbgrader": {
     "cell_type": "markdown",
     "checksum": "9ab350408028e415aea1829d0ad412a8",
     "grade": false,
     "grade_id": "cell-30c4990aa68396ce",
     "locked": true,
     "schema_version": 3,
     "solution": false,
     "task": false
    }
   },
   "source": [
    "We can extract the coefficients of the fit by using `lm.fit$coefficient` or also by using the extractor functions like `coef()`\n",
    "\n",
    "Similarly, to get the confidence interval for the coefficient estimates, we can use the `confint()` function"
   ]
  },
  {
   "cell_type": "code",
   "execution_count": null,
   "metadata": {
    "deletable": false,
    "editable": false,
    "nbgrader": {
     "cell_type": "code",
     "checksum": "73cdf03c717b9228744dc65af010f229",
     "grade": false,
     "grade_id": "cell-f10a8aa74a2689c4",
     "locked": true,
     "schema_version": 3,
     "solution": false,
     "task": false
    }
   },
   "outputs": [],
   "source": [
    "coef(lm.fit) #to get the coefficients\n",
    "confint(lm.fit) #to get the confidence interval"
   ]
  },
  {
   "cell_type": "markdown",
   "metadata": {
    "deletable": false,
    "editable": false,
    "nbgrader": {
     "cell_type": "markdown",
     "checksum": "3790e4cb52a1fe7ac8d245a82a91a618",
     "grade": false,
     "grade_id": "cell-d4cd87bfe4289e28",
     "locked": true,
     "schema_version": 3,
     "solution": false,
     "task": false
    }
   },
   "source": [
    "The `predict()` function can be used to produce confidence intervals and prediction intervals for the prediction of `medv` for a given value of `lstat`."
   ]
  },
  {
   "cell_type": "code",
   "execution_count": null,
   "metadata": {
    "deletable": false,
    "editable": false,
    "nbgrader": {
     "cell_type": "code",
     "checksum": "7457d252464fa89aa06954cfc7b4c645",
     "grade": false,
     "grade_id": "cell-80d36f1841f1d646",
     "locked": true,
     "schema_version": 3,
     "solution": false,
     "task": false
    }
   },
   "outputs": [],
   "source": [
    "predict(lm.fit, data.frame(lstat = (c(5, 10, 15))), interval = \"confidence\")\n",
    "predict(lm.fit, data.frame(lstat = (c(5, 10, 15))),interval = \"prediction\")"
   ]
  },
  {
   "cell_type": "markdown",
   "metadata": {
    "deletable": false,
    "editable": false,
    "nbgrader": {
     "cell_type": "markdown",
     "checksum": "20123cb9a4f6eafe88aba4f0865f2ac2",
     "grade": false,
     "grade_id": "cell-52b7d65d5a561648",
     "locked": true,
     "schema_version": 3,
     "solution": false,
     "task": false
    }
   },
   "source": [
    "These values imply that, the 95 % confidence interval associated with a `lstat` value of 10 is (24.47, 25.63), and the 95 % prediction interval is (12.828, 37.28). \n",
    "\n",
    "As expected, the confidence and prediction intervals are centered around the same point (a predicted value of 25.05 for `medv` when `lstat` equals 10), but the latter are substantially wider."
   ]
  },
  {
   "cell_type": "code",
   "execution_count": null,
   "metadata": {
    "deletable": false,
    "editable": false,
    "nbgrader": {
     "cell_type": "code",
     "checksum": "5dddcc99c2919d96e982b7cc54e16b94",
     "grade": false,
     "grade_id": "cell-093d135fe92cd5fe",
     "locked": true,
     "schema_version": 3,
     "solution": false,
     "task": false
    }
   },
   "outputs": [],
   "source": [
    "plot(Boston$lstat, Boston$medv)\n",
    "abline(lm.fit)"
   ]
  },
  {
   "cell_type": "markdown",
   "metadata": {
    "deletable": false,
    "editable": false,
    "nbgrader": {
     "cell_type": "markdown",
     "checksum": "b19e3b412d7469e9fbe9bea5f4af025d",
     "grade": false,
     "grade_id": "cell-c69d5d36894442ca",
     "locked": true,
     "schema_version": 3,
     "solution": false,
     "task": false
    }
   },
   "source": [
    "Plotting the points and an `abline` of the fit, we can observe evidences for non-linearity in the relationship between `lstat` and `medv`."
   ]
  },
  {
   "cell_type": "markdown",
   "metadata": {
    "deletable": false,
    "editable": false,
    "nbgrader": {
     "cell_type": "markdown",
     "checksum": "7248232838723a1bfbd6201d92b799a2",
     "grade": false,
     "grade_id": "cell-e8fa565bd1117fa0",
     "locked": true,
     "schema_version": 3,
     "solution": false,
     "task": false
    }
   },
   "source": [
    "## Multiple Linear Regression\n",
    "\n",
    "The syntax `lm(y ∼ x1 + x2 + x3)` is used to fit a model with three predictors, `x1`, `x2`, and `x3`. \n",
    "\n",
    "The `summary()` function now outputs the regression coefficients for all the predictors."
   ]
  },
  {
   "cell_type": "code",
   "execution_count": null,
   "metadata": {
    "deletable": false,
    "nbgrader": {
     "cell_type": "code",
     "checksum": "566f660b0a91bfa965a170ca0899a7b0",
     "grade": false,
     "grade_id": "cell-8dc08fb08a11cc3b",
     "locked": false,
     "schema_version": 3,
     "solution": true,
     "task": false
    }
   },
   "outputs": [],
   "source": [
    "#fit a model that responds medv with lstat and age as predictors  \n",
    "lm.multiple.fit = function(){\n",
    "    # your code here\n",
    "    \n",
    "}"
   ]
  },
  {
   "cell_type": "code",
   "execution_count": null,
   "metadata": {
    "deletable": false,
    "editable": false,
    "nbgrader": {
     "cell_type": "code",
     "checksum": "edf0c6e0214ce5ef9ec203f7fa1a6ad9",
     "grade": true,
     "grade_id": "cell-c07e53a71922e39a",
     "locked": true,
     "points": 20,
     "schema_version": 3,
     "solution": false,
     "task": false
    }
   },
   "outputs": [],
   "source": [
    "# Test residuals of the model\n",
    "residuals = summary(lm.multiple.fit())$residuals\n",
    "stopifnot(length(summary(lm.multiple.fit())$residuals) == 506)\n",
    "stopifnot(round(median(residuals),2)== -1.28) #median of residuals\n",
    "stopifnot(round(max(residuals),2)== 23.16)    #max of residuals\n",
    "\n",
    "#Test Coefficients of the models\n",
    "coefficients = summary(lm.multiple.fit())$coefficients\n",
    "stopifnot(round(coefficients[2],2) == -1.03) #lstat estimate\n",
    "stopifnot(round(coefficients[3],2) == 0.03)  #age estimate"
   ]
  },
  {
   "cell_type": "markdown",
   "metadata": {
    "deletable": false,
    "editable": false,
    "nbgrader": {
     "cell_type": "markdown",
     "checksum": "7a170f4e50df4b543caf99f3860500c6",
     "grade": false,
     "grade_id": "cell-5d30593f1aa65aa4",
     "locked": true,
     "schema_version": 3,
     "solution": false,
     "task": false
    }
   },
   "source": [
    "The `Boston` data set contains 12 variables, and so it would be cumbersome to have to type all of these in order to perform a regression using all of the predictors.\n",
    "\n",
    "Instead, we can use the following short-hand:"
   ]
  },
  {
   "cell_type": "code",
   "execution_count": null,
   "metadata": {
    "deletable": false,
    "editable": false,
    "nbgrader": {
     "cell_type": "code",
     "checksum": "90373088eb171b4131dfb3d7c3743d85",
     "grade": false,
     "grade_id": "cell-91dae487bd7ff5f0",
     "locked": true,
     "schema_version": 3,
     "solution": false,
     "task": false
    }
   },
   "outputs": [],
   "source": [
    "lm.fit = lm(medv~., data = Boston)\n",
    "summary(lm.fit)"
   ]
  },
  {
   "cell_type": "markdown",
   "metadata": {
    "deletable": false,
    "editable": false,
    "nbgrader": {
     "cell_type": "markdown",
     "checksum": "512cc8e4355e7e02b7788c4aec8e20a9",
     "grade": false,
     "grade_id": "cell-92d1b3a96670a133",
     "locked": true,
     "schema_version": 3,
     "solution": false,
     "task": false
    }
   },
   "source": [
    "## Interaction Terms\n",
    "\n",
    "It is easy to include interaction terms in a linear model using the `lm()` function.\n",
    " - `lstat:black` (tells `R` to include an interaction term between `lstat` and `black`)\n",
    " - `lstat * age` (`lstat` + `age` + `lstat:age`)"
   ]
  },
  {
   "cell_type": "code",
   "execution_count": null,
   "metadata": {
    "deletable": false,
    "nbgrader": {
     "cell_type": "code",
     "checksum": "eaec79d46dbef38194c1702b9b35ef1d",
     "grade": false,
     "grade_id": "cell-5300af85243cff42",
     "locked": false,
     "schema_version": 3,
     "solution": true,
     "task": false
    }
   },
   "outputs": [],
   "source": [
    "#Fit a lm model that responds with lstat, age and their interaction as predictors\n",
    "lm.interaction.fit = function(){\n",
    "    # your code here\n",
    "    \n",
    "}"
   ]
  },
  {
   "cell_type": "code",
   "execution_count": null,
   "metadata": {
    "deletable": false,
    "editable": false,
    "nbgrader": {
     "cell_type": "code",
     "checksum": "22a0c665329fc84dbb87e27c1cb86557",
     "grade": true,
     "grade_id": "cell-53e337f092b29505",
     "locked": true,
     "points": 10,
     "schema_version": 3,
     "solution": false,
     "task": false
    }
   },
   "outputs": [],
   "source": [
    "interaction.summary = summary(lm.interaction.fit())\n",
    "interaction.summary$coefficients\n",
    "\n",
    "stopifnot(length(interaction.summary$coefficients) == 16) #intercept, lstat, age and lstate:age"
   ]
  },
  {
   "cell_type": "markdown",
   "metadata": {
    "deletable": false,
    "editable": false,
    "nbgrader": {
     "cell_type": "markdown",
     "checksum": "0776b838f6357aadf858db47b091b785",
     "grade": false,
     "grade_id": "cell-d6b16973760bb68c",
     "locked": true,
     "schema_version": 3,
     "solution": false,
     "task": false
    }
   },
   "source": [
    "## Non-linear Transformations of the Predictors\n",
    "\n",
    "The `lm()` function can also accommodate non-linear transformations of the predictors. For instance, given a predictor `X`, we can create a predictor `X^2` using `I(X^2)`. \n",
    "\n",
    "The function `I()` is needed since the `^` has a special meaningin a formula object; wrapping as we do allows the standard usage in `R`, which is to raise `X` to the power 2."
   ]
  },
  {
   "cell_type": "code",
   "execution_count": null,
   "metadata": {
    "deletable": false,
    "editable": false,
    "nbgrader": {
     "cell_type": "code",
     "checksum": "e062c9d6de27f6312fde0477465adcaf",
     "grade": false,
     "grade_id": "cell-ce32d87df7b03700",
     "locked": true,
     "schema_version": 3,
     "solution": false,
     "task": false
    }
   },
   "outputs": [],
   "source": [
    "lm.transform.fit = lm(medv~lstat + I(lstat^2), data=Boston)"
   ]
  },
  {
   "cell_type": "code",
   "execution_count": null,
   "metadata": {
    "deletable": false,
    "editable": false,
    "nbgrader": {
     "cell_type": "code",
     "checksum": "295e5e09ecfeb5fac8debc8a7b83512a",
     "grade": false,
     "grade_id": "cell-43bd6ce58f2c28f3",
     "locked": true,
     "schema_version": 3,
     "solution": false,
     "task": false
    }
   },
   "outputs": [],
   "source": [
    "summary(lm.transform.fit)"
   ]
  },
  {
   "cell_type": "markdown",
   "metadata": {
    "deletable": false,
    "editable": false,
    "nbgrader": {
     "cell_type": "markdown",
     "checksum": "b4f3274a696b590e54df63a2474150a1",
     "grade": false,
     "grade_id": "cell-1369bf18a5f69b6b",
     "locked": true,
     "schema_version": 3,
     "solution": false,
     "task": false
    }
   },
   "source": [
    "In order to create a cubic fit, we can include a predictor of the form `I(X^3)`. \n",
    "\n",
    "However, this approach can start to get cumbersome for higher- order polynomials. A better approach involves using the `poly()` function to create the polynomial within `lm()`"
   ]
  },
  {
   "cell_type": "code",
   "execution_count": null,
   "metadata": {
    "deletable": false,
    "nbgrader": {
     "cell_type": "code",
     "checksum": "5f6846d70aa3f5e8d4cfaa6c626e1fd6",
     "grade": false,
     "grade_id": "cell-fd41231499684213",
     "locked": false,
     "schema_version": 3,
     "solution": true,
     "task": false
    }
   },
   "outputs": [],
   "source": [
    "# Fit a regression model that would respond medv with an lstat polynomial of degree 4 as predictor\n",
    "#?poly(); to understand more about poly function\n",
    "lm.poly.fit = function(){\n",
    "    # your code here\n",
    "    \n",
    "}"
   ]
  },
  {
   "cell_type": "code",
   "execution_count": null,
   "metadata": {
    "deletable": false,
    "editable": false,
    "nbgrader": {
     "cell_type": "code",
     "checksum": "ae89fa3536881deacd5900ca02ddd46b",
     "grade": true,
     "grade_id": "cell-d8aac59a03e90b1d",
     "locked": true,
     "points": 10,
     "schema_version": 3,
     "solution": false,
     "task": false
    }
   },
   "outputs": [],
   "source": [
    "# Test - check the number of coefficients that are considered in the curve\n",
    "fit = lm.poly.fit()\n",
    "stopifnot(length(summary(fit)$coefficients) == 20) # 1- intercept; 4 - variables against 4 columns"
   ]
  },
  {
   "cell_type": "markdown",
   "metadata": {
    "deletable": false,
    "editable": false,
    "nbgrader": {
     "cell_type": "markdown",
     "checksum": "f1ba3e2a29bf3ec32c2ab6f3eecca06e",
     "grade": false,
     "grade_id": "cell-d7d808fbb1c8a2e3",
     "locked": true,
     "schema_version": 3,
     "solution": false,
     "task": false
    }
   },
   "source": [
    "We use the `anova()` function to further quantify the extent to which the quadratic fit is superior to the linear fit.\n"
   ]
  },
  {
   "cell_type": "code",
   "execution_count": null,
   "metadata": {
    "deletable": false,
    "editable": false,
    "nbgrader": {
     "cell_type": "code",
     "checksum": "13e64dd5cc1e1efb1f51b11101b080de",
     "grade": false,
     "grade_id": "cell-93b8647a8197fe01",
     "locked": true,
     "schema_version": 3,
     "solution": false,
     "task": false
    }
   },
   "outputs": [],
   "source": [
    "anova(lm.fit, lm.transform.fit)"
   ]
  }
 ],
 "metadata": {
  "kernelspec": {
   "display_name": "R",
   "language": "R",
   "name": "ir"
  },
  "language_info": {
   "codemirror_mode": "r",
   "file_extension": ".r",
   "mimetype": "text/x-r-source",
   "name": "R",
   "pygments_lexer": "r",
   "version": "3.6.3"
  }
 },
 "nbformat": 4,
 "nbformat_minor": 4
}
