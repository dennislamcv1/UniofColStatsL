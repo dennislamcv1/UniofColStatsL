{
 "cells": [
  {
   "cell_type": "markdown",
   "metadata": {
    "deletable": false,
    "editable": false,
    "nbgrader": {
     "cell_type": "markdown",
     "checksum": "81b27538d68fb9b4e1a1a6dd57930d9e",
     "grade": false,
     "grade_id": "cell-9f57eececb1cce93",
     "locked": true,
     "schema_version": 3,
     "solution": false,
     "task": false
    }
   },
   "source": [
    "### Linear Regression using TidyModels\n",
    "\n",
    "In this lab exercise we would be going through <br> \n",
    "- simple linear regression\n",
    "- multiple linear regression\n",
    "- transformations to predictors (using `parsnip`)"
   ]
  },
  {
   "cell_type": "code",
   "execution_count": null,
   "metadata": {
    "deletable": false,
    "editable": false,
    "nbgrader": {
     "cell_type": "code",
     "checksum": "fcd16527765070e0e5909f0d87e6c48d",
     "grade": false,
     "grade_id": "cell-260692e5d087223e",
     "locked": true,
     "schema_version": 3,
     "solution": false,
     "task": false
    }
   },
   "outputs": [],
   "source": [
    "suppressPackageStartupMessages(library(tidymodels))\n",
    "suppressPackageStartupMessages(library(ISLR))\n",
    "suppressPackageStartupMessages(library(MASS))"
   ]
  },
  {
   "cell_type": "code",
   "execution_count": null,
   "metadata": {},
   "outputs": [],
   "source": [
    "head(petrol)"
   ]
  },
  {
   "cell_type": "markdown",
   "metadata": {
    "deletable": false,
    "editable": false,
    "nbgrader": {
     "cell_type": "markdown",
     "checksum": "10a6a5298a90faca7537aebc5e5d3c7b",
     "grade": false,
     "grade_id": "cell-338ae82ed91672af",
     "locked": true,
     "schema_version": 3,
     "solution": false,
     "task": false
    }
   },
   "source": [
    "## Simple Linear Regression\n",
    "\n",
    "We are using `Boston` data set - contains various statistics for 506 neighborhoods in Boston\n",
    "\n",
    "Agenda: Build a simple linear regression model that related the median value of owner-occupied homes (`medv`) as the response with a variable indicating the percentage of the population that belongs to a lower status (`lstat`) as the predictor."
   ]
  },
  {
   "cell_type": "markdown",
   "metadata": {
    "deletable": false,
    "editable": false,
    "nbgrader": {
     "cell_type": "markdown",
     "checksum": "9f16f009b8e630963a114066e98d8f31",
     "grade": false,
     "grade_id": "cell-604154f7087026fd",
     "locked": true,
     "schema_version": 3,
     "solution": false,
     "task": false
    }
   },
   "source": [
    "In the below step, we create a parsnip specification for a linear regression model"
   ]
  },
  {
   "cell_type": "code",
   "execution_count": null,
   "metadata": {
    "deletable": false,
    "editable": false,
    "nbgrader": {
     "cell_type": "code",
     "checksum": "ee9a8b99a96cee2e9c0e02e53edda021",
     "grade": false,
     "grade_id": "cell-bb03607fd5aa09eb",
     "locked": true,
     "schema_version": 3,
     "solution": false,
     "task": false
    }
   },
   "outputs": [],
   "source": [
    "lm_spec <- linear_reg() %>%\n",
    "  set_mode(\"regression\") %>%\n",
    "  set_engine(\"lm\")"
   ]
  },
  {
   "cell_type": "code",
   "execution_count": null,
   "metadata": {
    "deletable": false,
    "editable": false,
    "nbgrader": {
     "cell_type": "code",
     "checksum": "a96951c6c5069818fb8732229b4fd631",
     "grade": false,
     "grade_id": "cell-e06b7b356281af34",
     "locked": true,
     "schema_version": 3,
     "solution": false,
     "task": false
    }
   },
   "outputs": [],
   "source": [
    "lm_spec"
   ]
  },
  {
   "cell_type": "code",
   "execution_count": null,
   "metadata": {
    "deletable": false,
    "editable": false,
    "nbgrader": {
     "cell_type": "code",
     "checksum": "9c51e044ede00ec1508a533c0a47c180",
     "grade": false,
     "grade_id": "cell-3ac08a890bd76328",
     "locked": true,
     "schema_version": 3,
     "solution": false,
     "task": false
    }
   },
   "outputs": [],
   "source": [
    "head(Boston)"
   ]
  },
  {
   "cell_type": "markdown",
   "metadata": {
    "deletable": false,
    "editable": false,
    "nbgrader": {
     "cell_type": "markdown",
     "checksum": "e14890112e51333b88b9abf4c9b57590",
     "grade": false,
     "grade_id": "cell-ebc86f0278cfb7b0",
     "locked": true,
     "schema_version": 3,
     "solution": false,
     "task": false
    }
   },
   "source": [
    "Once we have the specification we can fit it by supplying a formula expression and the data we want to fit the model on. \n",
    "\n",
    "The formula is written on the form `y ~ x` where `y` is the name of the response and `x` is the name of the predictors. The names used in the formula should match the names of the variables in the data set passed to data."
   ]
  },
  {
   "cell_type": "code",
   "execution_count": null,
   "metadata": {
    "deletable": false,
    "editable": false,
    "nbgrader": {
     "cell_type": "code",
     "checksum": "233d4570be82463522960c4d78d63bb5",
     "grade": false,
     "grade_id": "cell-1db2732ffbaa8b4d",
     "locked": true,
     "schema_version": 3,
     "solution": false,
     "task": false
    }
   },
   "outputs": [],
   "source": [
    "lm_fit <- lm_spec %>% fit(medv ~ lstat, data = Boston)\n",
    "lm_fit"
   ]
  },
  {
   "cell_type": "markdown",
   "metadata": {
    "deletable": false,
    "editable": false,
    "nbgrader": {
     "cell_type": "markdown",
     "checksum": "7b0b656c92cc1b0b3a2f50a01830c7c3",
     "grade": false,
     "grade_id": "cell-a8861bd06d08171a",
     "locked": true,
     "schema_version": 3,
     "solution": false,
     "task": false
    }
   },
   "source": [
    "The result of this fit is a parsnip model object. This object contains the underlying fit as well as some parsnip-specific information. If we want to look at the underlying fit object we can access it with `lm_fit$fit` or with"
   ]
  },
  {
   "cell_type": "code",
   "execution_count": null,
   "metadata": {
    "deletable": false,
    "editable": false,
    "nbgrader": {
     "cell_type": "code",
     "checksum": "b88281bc994e1ed62a8f224f84a4d289",
     "grade": false,
     "grade_id": "cell-86db4cd7b96ddc28",
     "locked": true,
     "schema_version": 3,
     "solution": false,
     "task": false
    }
   },
   "outputs": [],
   "source": [
    "lm_fit %>% \n",
    "  pluck(\"fit\")"
   ]
  },
  {
   "cell_type": "code",
   "execution_count": null,
   "metadata": {
    "deletable": false,
    "editable": false,
    "nbgrader": {
     "cell_type": "code",
     "checksum": "2649bcfcc16c7f04a0ebfabeba34f663",
     "grade": false,
     "grade_id": "cell-b901315d7006a378",
     "locked": true,
     "schema_version": 3,
     "solution": false,
     "task": false
    }
   },
   "outputs": [],
   "source": [
    "lm_fit %>% \n",
    "  pluck(\"fit\") %>%\n",
    "  summary()"
   ]
  },
  {
   "cell_type": "markdown",
   "metadata": {
    "deletable": false,
    "editable": false,
    "nbgrader": {
     "cell_type": "markdown",
     "checksum": "ae88167c9e1f16bd61167a840978d5bf",
     "grade": false,
     "grade_id": "cell-41bd969dcc2d5f5a",
     "locked": true,
     "schema_version": 3,
     "solution": false,
     "task": false
    }
   },
   "source": [
    "`tidy()` function returns the parameter estimates of a lm object"
   ]
  },
  {
   "cell_type": "code",
   "execution_count": null,
   "metadata": {
    "deletable": false,
    "editable": false,
    "nbgrader": {
     "cell_type": "code",
     "checksum": "f7198872af1fcfac9d6822c35bbc587a",
     "grade": false,
     "grade_id": "cell-bd414ac075048665",
     "locked": true,
     "schema_version": 3,
     "solution": false,
     "task": false
    }
   },
   "outputs": [],
   "source": [
    "tidy(lm_fit)"
   ]
  },
  {
   "cell_type": "markdown",
   "metadata": {
    "deletable": false,
    "editable": false,
    "nbgrader": {
     "cell_type": "markdown",
     "checksum": "d9af3c08ff7beb8493bde00ae0bfabab",
     "grade": false,
     "grade_id": "cell-87171bf985ca036d",
     "locked": true,
     "schema_version": 3,
     "solution": false,
     "task": false
    }
   },
   "source": [
    "`glance()` can be used to extract the model statistics"
   ]
  },
  {
   "cell_type": "code",
   "execution_count": null,
   "metadata": {
    "deletable": false,
    "editable": false,
    "nbgrader": {
     "cell_type": "code",
     "checksum": "20dd6b6f77fa37eb693efc69729cde93",
     "grade": false,
     "grade_id": "cell-34ea9a0b701ba65e",
     "locked": true,
     "schema_version": 3,
     "solution": false,
     "task": false
    }
   },
   "outputs": [],
   "source": [
    "glance(lm_fit)"
   ]
  },
  {
   "cell_type": "markdown",
   "metadata": {
    "deletable": false,
    "editable": false,
    "nbgrader": {
     "cell_type": "markdown",
     "checksum": "4b9e4a6ff0246ff37023c9f9200dd351",
     "grade": false,
     "grade_id": "cell-0fb75f5d110036fc",
     "locked": true,
     "schema_version": 3,
     "solution": false,
     "task": false
    }
   },
   "source": [
    "If we like the model fit then we can generate the predictions using the `predict()` function"
   ]
  },
  {
   "cell_type": "code",
   "execution_count": null,
   "metadata": {
    "deletable": false,
    "editable": false,
    "nbgrader": {
     "cell_type": "code",
     "checksum": "169fb24aeb09a651a56e737072f7e11e",
     "grade": false,
     "grade_id": "cell-e6e17f94151a64c6",
     "locked": true,
     "schema_version": 3,
     "solution": false,
     "task": false
    }
   },
   "outputs": [],
   "source": [
    "predict(lm_fit, new_data = Boston)"
   ]
  },
  {
   "cell_type": "markdown",
   "metadata": {
    "deletable": false,
    "editable": false,
    "nbgrader": {
     "cell_type": "markdown",
     "checksum": "707c8b494646a32b5eb876638198f925",
     "grade": false,
     "grade_id": "cell-9ea2de1458502227",
     "locked": true,
     "schema_version": 3,
     "solution": false,
     "task": false
    }
   },
   "source": [
    "### Excercise\n",
    "\n",
    "Agenda: Build a simple linear regression model that relates `medv` as response to `age` as the predictor\n"
   ]
  },
  {
   "cell_type": "code",
   "execution_count": null,
   "metadata": {
    "deletable": false,
    "nbgrader": {
     "cell_type": "code",
     "checksum": "e69427ed8dea00ab455a77826986b9d9",
     "grade": false,
     "grade_id": "cell-971ba2dceac28457",
     "locked": false,
     "schema_version": 3,
     "solution": true,
     "task": false
    }
   },
   "outputs": [],
   "source": [
    "# your code here\n"
   ]
  },
  {
   "cell_type": "code",
   "execution_count": null,
   "metadata": {
    "deletable": false,
    "editable": false,
    "nbgrader": {
     "cell_type": "code",
     "checksum": "c95e3ebaefd1ff0fda44fd99fd3209c4",
     "grade": true,
     "grade_id": "cell-737ad03a2bff49ee",
     "locked": true,
     "points": 20,
     "schema_version": 3,
     "solution": false,
     "task": false
    }
   },
   "outputs": [],
   "source": [
    "#hidden test cases \n"
   ]
  },
  {
   "cell_type": "code",
   "execution_count": null,
   "metadata": {
    "deletable": false,
    "nbgrader": {
     "cell_type": "code",
     "checksum": "453dbc2345dac908027f0c65318ce75b",
     "grade": false,
     "grade_id": "cell-0d0804059f71d7c2",
     "locked": false,
     "schema_version": 3,
     "solution": true,
     "task": false
    }
   },
   "outputs": [],
   "source": [
    "# your code here\n"
   ]
  },
  {
   "cell_type": "code",
   "execution_count": null,
   "metadata": {
    "deletable": false,
    "editable": false,
    "nbgrader": {
     "cell_type": "code",
     "checksum": "3039d40c9cd9a1b0780baf7e1a740f1d",
     "grade": true,
     "grade_id": "cell-514f8c74a301fae5",
     "locked": true,
     "points": 20,
     "schema_version": 3,
     "solution": false,
     "task": false
    }
   },
   "outputs": [],
   "source": [
    "#hidden test cases \n"
   ]
  },
  {
   "cell_type": "markdown",
   "metadata": {
    "deletable": false,
    "editable": false,
    "nbgrader": {
     "cell_type": "markdown",
     "checksum": "47d4fe28f061daa2756eb6416218b045",
     "grade": false,
     "grade_id": "cell-3b643c514feed4e7",
     "locked": true,
     "schema_version": 3,
     "solution": false,
     "task": false
    }
   },
   "source": [
    "## Multiple Linear Regression\n",
    "\n",
    "The multiple linear regression model can be fit in much the same way as the simple linear regression model. The only difference is how we specify the predictors. We are using the same formula expression `y ~ x`, but we can specify multiple values by separating them with `+s`"
   ]
  },
  {
   "cell_type": "code",
   "execution_count": null,
   "metadata": {
    "deletable": false,
    "editable": false,
    "nbgrader": {
     "cell_type": "code",
     "checksum": "81658b426b8326a454b1b6ce237e0f74",
     "grade": false,
     "grade_id": "cell-90270c53f210573c",
     "locked": true,
     "schema_version": 3,
     "solution": false,
     "task": false
    }
   },
   "outputs": [],
   "source": [
    "lm_fit2 <- lm_spec %>% \n",
    "  fit(medv ~ lstat + age, data = Boston)\n",
    "\n",
    "lm_fit2"
   ]
  },
  {
   "cell_type": "code",
   "execution_count": null,
   "metadata": {
    "deletable": false,
    "editable": false,
    "nbgrader": {
     "cell_type": "code",
     "checksum": "e2dc773b517910b1539b486ccad6e235",
     "grade": false,
     "grade_id": "cell-c0884afdf0b65b4e",
     "locked": true,
     "schema_version": 3,
     "solution": false,
     "task": false
    }
   },
   "outputs": [],
   "source": [
    "tidy(lm_fit2)\n",
    "predict(lm_fit2, new_data = Boston)"
   ]
  },
  {
   "cell_type": "markdown",
   "metadata": {
    "deletable": false,
    "editable": false,
    "nbgrader": {
     "cell_type": "markdown",
     "checksum": "e4ed7e24125ad8e1df3e780b067f32ae",
     "grade": false,
     "grade_id": "cell-2266131577936546",
     "locked": true,
     "schema_version": 3,
     "solution": false,
     "task": false
    }
   },
   "source": [
    "A shortcut when using formulas is to use the form `y ~ .` which means; set `y` as the response and set the remaining variables as predictors"
   ]
  },
  {
   "cell_type": "code",
   "execution_count": null,
   "metadata": {
    "deletable": false,
    "editable": false,
    "nbgrader": {
     "cell_type": "code",
     "checksum": "fa5d444ed957def0992ab10463ea8ef6",
     "grade": false,
     "grade_id": "cell-cc839fe0e3fe68f8",
     "locked": true,
     "schema_version": 3,
     "solution": false,
     "task": false
    }
   },
   "outputs": [],
   "source": [
    "lm_fit3 <- lm_spec %>% \n",
    "  fit(medv ~ ., data = Boston)\n",
    "\n",
    "lm_fit3"
   ]
  },
  {
   "cell_type": "markdown",
   "metadata": {
    "deletable": false,
    "editable": false,
    "nbgrader": {
     "cell_type": "markdown",
     "checksum": "19d2158bd8569702275cb0bcf0e811cb",
     "grade": false,
     "grade_id": "cell-d8b36ffd01127284",
     "locked": true,
     "schema_version": 3,
     "solution": false,
     "task": false
    }
   },
   "source": [
    "## Interaction Terms\n",
    "\n",
    "\n",
    "An interaction term is represented as the product of two or more independent variables/predictors\n",
    "\n",
    "There are two ways on including an interaction term; `x:y` and `x * y`\n",
    " - `x:y` will include the interaction between `x` and `y`\n",
    " - `x * y` will include the interaction between `x` and `y`, `x and y`, i.e. it is short for `x:y + x + y`"
   ]
  },
  {
   "cell_type": "code",
   "execution_count": null,
   "metadata": {
    "deletable": false,
    "editable": false,
    "nbgrader": {
     "cell_type": "code",
     "checksum": "dda5f56b7e08f6a31541f79275d73a12",
     "grade": false,
     "grade_id": "cell-490607ea43ee5b0c",
     "locked": true,
     "schema_version": 3,
     "solution": false,
     "task": false
    }
   },
   "outputs": [],
   "source": [
    "lm_fit4 <- lm_spec %>%\n",
    "  fit(medv ~ lstat * age, data = Boston)\n",
    "\n",
    "lm_fit4"
   ]
  },
  {
   "cell_type": "markdown",
   "metadata": {
    "deletable": false,
    "editable": false,
    "nbgrader": {
     "cell_type": "markdown",
     "checksum": "2427a90a045eae53b255f9bcfbaacebd",
     "grade": false,
     "grade_id": "cell-59ce50891b9a290b",
     "locked": true,
     "schema_version": 3,
     "solution": false,
     "task": false
    }
   },
   "source": [
    "note that the interaction term is named `lstat:age`.\n",
    "\n",
    "Sometimes we want to perform transformations, and we want those transformations to be applied, as part of the model fit as a pre-processing step. We will use the recipes package for this task.\n",
    "\n",
    "We use the `step_interact()` to specify the interaction term. Next, we create a workflow object to combine the linear regression model specification lm_spec with the pre-processing specification `rec_spec_interact` which can then be fitted much like a parsnip model specification."
   ]
  },
  {
   "cell_type": "code",
   "execution_count": null,
   "metadata": {
    "deletable": false,
    "editable": false,
    "nbgrader": {
     "cell_type": "code",
     "checksum": "517af0aca25aa654f49687da939d44c5",
     "grade": false,
     "grade_id": "cell-61c9588b33ce5a7c",
     "locked": true,
     "schema_version": 3,
     "solution": false,
     "task": false
    }
   },
   "outputs": [],
   "source": [
    "rec_spec_interact <- recipe(medv ~ lstat + age, data = Boston) %>%\n",
    "  step_interact(~ lstat:age)\n",
    "\n",
    "lm_wf_interact <- workflow() %>%\n",
    "  add_model(lm_spec) %>%\n",
    "  add_recipe(rec_spec_interact)\n",
    "\n",
    "lm_wf_interact %>% fit(Boston)"
   ]
  },
  {
   "cell_type": "markdown",
   "metadata": {
    "deletable": false,
    "editable": false,
    "nbgrader": {
     "cell_type": "markdown",
     "checksum": "e40f072412b3495a7273b8c5da3d17dd",
     "grade": false,
     "grade_id": "cell-0a5764baaf8ac2b7",
     "locked": true,
     "schema_version": 3,
     "solution": false,
     "task": false
    }
   },
   "source": [
    "Notice that since we specified the variables in the recipe we don’t need to specify them when fitting the workflow object. Furthermore, take note of the name of the interaction term. `step_interact()` tries to avoid special characters in variables"
   ]
  },
  {
   "cell_type": "markdown",
   "metadata": {
    "deletable": false,
    "editable": false,
    "nbgrader": {
     "cell_type": "markdown",
     "checksum": "0c77956af0f0078e07afce409ef747a5",
     "grade": false,
     "grade_id": "cell-3304cc522844ac60",
     "locked": true,
     "schema_version": 3,
     "solution": false,
     "task": false
    }
   },
   "source": [
    "## Non-linear transformations of the predictors\n",
    "\n",
    "Much like we could use recipes to create interaction terms between values are we able to apply transformations to individual variables as well. If you are familiar with the dplyr package then you know how to `mutate()` which works in much the same way using `step_mutate()`.\n",
    "\n",
    "You would want to keep as much of the pre-processing inside recipes such that the transformation will be applied consistently to new data."
   ]
  },
  {
   "cell_type": "code",
   "execution_count": null,
   "metadata": {
    "deletable": false,
    "editable": false,
    "nbgrader": {
     "cell_type": "code",
     "checksum": "d08952cae801e8c2a79c3a653ae04eae",
     "grade": false,
     "grade_id": "cell-abdace0039758df8",
     "locked": true,
     "schema_version": 3,
     "solution": false,
     "task": false
    }
   },
   "outputs": [],
   "source": [
    "rec_spec_pow2 <- recipe(medv ~ lstat, data = Boston) %>%\n",
    "  step_mutate(lstat2 = lstat ^ 2)\n",
    "\n",
    "lm_wf_pow2 <- workflow() %>%\n",
    "  add_model(lm_spec) %>%\n",
    "  add_recipe(rec_spec_pow2)\n",
    "\n",
    "lm_wf_pow2 %>% fit(Boston)"
   ]
  },
  {
   "cell_type": "markdown",
   "metadata": {
    "deletable": false,
    "editable": false,
    "nbgrader": {
     "cell_type": "markdown",
     "checksum": "179510d02877b8e953dd787aba4f4e39",
     "grade": false,
     "grade_id": "cell-f88667cd25e42d36",
     "locked": true,
     "schema_version": 3,
     "solution": false,
     "task": false
    }
   },
   "source": [
    "## Qualitative Predictors\n",
    "\n",
    "We will now turn our attention to the `Carseats` data set. We will attempt to predict `Sales` of child car seats in 400 locations based on a number of predictors. One of these variables is `ShelveLoc` which is a qualitative predictor that indicates the quality of the shelving location. \n",
    "\n",
    "`ShelveLoc` takes on three possible values\n",
    "- Bad\n",
    "- Medium\n",
    "- Good\n",
    "\n",
    "If you pass such a variable to `lm()` it will read it and generate dummy variables automatically using the following convention"
   ]
  },
  {
   "cell_type": "code",
   "execution_count": null,
   "metadata": {
    "deletable": false,
    "editable": false,
    "nbgrader": {
     "cell_type": "code",
     "checksum": "56784cb06d0768b173c78f995f4df4ae",
     "grade": false,
     "grade_id": "cell-27d4b2f2317dbac1",
     "locked": true,
     "schema_version": 3,
     "solution": false,
     "task": false
    }
   },
   "outputs": [],
   "source": [
    "Carseats %>%\n",
    "  pull(ShelveLoc) %>%\n",
    "  contrasts()"
   ]
  },
  {
   "cell_type": "markdown",
   "metadata": {
    "deletable": false,
    "editable": false,
    "nbgrader": {
     "cell_type": "markdown",
     "checksum": "948a809f61bd8a41b991004777c5bf16",
     "grade": false,
     "grade_id": "cell-90b727c9bd83b9a8",
     "locked": true,
     "schema_version": 3,
     "solution": false,
     "task": false
    }
   },
   "source": [
    "So we have no problems including qualitative predictors when using `lm` as the engine."
   ]
  },
  {
   "cell_type": "code",
   "execution_count": null,
   "metadata": {
    "deletable": false,
    "editable": false,
    "nbgrader": {
     "cell_type": "code",
     "checksum": "3f82b8b59108d9a6254bc27c20e3b31a",
     "grade": false,
     "grade_id": "cell-82461f8adcbb28fe",
     "locked": true,
     "schema_version": 3,
     "solution": false,
     "task": false
    }
   },
   "outputs": [],
   "source": [
    "lm_spec %>% \n",
    "  fit(Sales ~ . + Income:Advertising + Price:Age, data = Carseats)"
   ]
  },
  {
   "cell_type": "markdown",
   "metadata": {
    "deletable": false,
    "editable": false,
    "nbgrader": {
     "cell_type": "markdown",
     "checksum": "fe694ee454dd1a8b58b0ef14d973fd66",
     "grade": false,
     "grade_id": "cell-a642413c64a4bbec",
     "locked": true,
     "schema_version": 3,
     "solution": false,
     "task": false
    }
   },
   "source": [
    "however, as with so many things, we can not always guarantee that the underlying engine knows how to deal with qualitative variables. recipes can be used to handle this as well. The `step_dummy()` will perform the same transformation of turning 1 qualitative with `C` levels into `C-1` indicator variables. \n",
    "\n",
    "While this might seem unnecessary right now, some of the engines, later on, do not handle qualitative variables and this step would be necessary.\n",
    "\n",
    "We are also using the `all_nominal_predictors()` selector to select all character and factor predictor variables. This allows us to select by type rather than having to type out the names."
   ]
  },
  {
   "cell_type": "code",
   "execution_count": null,
   "metadata": {
    "deletable": false,
    "editable": false,
    "nbgrader": {
     "cell_type": "code",
     "checksum": "8af68b0f108f1148ec4397263b48035a",
     "grade": false,
     "grade_id": "cell-ce29e68a124568a8",
     "locked": true,
     "schema_version": 3,
     "solution": false,
     "task": false
    }
   },
   "outputs": [],
   "source": [
    "rec_spec <- recipe(Sales ~ ., data = Carseats) %>%\n",
    "  step_dummy(all_nominal_predictors()) %>%\n",
    "  step_interact(~ Income:Advertising + Price:Age)\n",
    "\n",
    "lm_wf <- workflow() %>%\n",
    "  add_model(lm_spec) %>%\n",
    "  add_recipe(rec_spec)\n",
    "\n",
    "lm_wf %>% fit(Carseats)"
   ]
  }
 ],
 "metadata": {
  "kernelspec": {
   "display_name": "R",
   "language": "R",
   "name": "ir"
  },
  "language_info": {
   "codemirror_mode": "r",
   "file_extension": ".r",
   "mimetype": "text/x-r-source",
   "name": "R",
   "pygments_lexer": "r",
   "version": "3.6.3"
  }
 },
 "nbformat": 4,
 "nbformat_minor": 4
}
