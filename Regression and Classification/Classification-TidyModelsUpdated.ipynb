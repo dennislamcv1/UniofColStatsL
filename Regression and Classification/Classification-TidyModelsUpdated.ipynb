{
 "cells": [
  {
   "cell_type": "markdown",
   "metadata": {
    "deletable": false,
    "editable": false,
    "nbgrader": {
     "checksum": "355204281a246ade67e9ff97fefea25e",
     "grade": false,
     "grade_id": "cell-156071440cc41234",
     "locked": true,
     "schema_version": 3,
     "solution": false,
     "task": false
    }
   },
   "source": [
    "# Classification using TidyModels (Please Rename the File Name before Submission - Must be the same file name)\n",
    "\n",
    "In this lab we would be going through:\n",
    "- Logistic Regression\n",
    "- Linear Discriminant Analysis\n",
    "- Quadratic Discriminant Analysis\n",
    "\n",
    "using TidyModels. \n",
    "\n",
    "For this lab, we would examining the `OJ` data set that contains a number of numeric variables plus a variable called `Purchase` which has the two labels `CH` and `MM` (which is Citrus Hill or Minute Maid Orange Juice)"
   ]
  },
  {
   "cell_type": "code",
   "execution_count": 1,
   "metadata": {
    "deletable": false,
    "editable": false,
    "nbgrader": {
     "checksum": "06b8d7d28f408550c86889f5c82cdc09",
     "grade": false,
     "grade_id": "cell-17529ea80e2b7b9a",
     "locked": true,
     "schema_version": 3,
     "solution": false,
     "task": false
    },
    "vscode": {
     "languageId": "r"
    }
   },
   "outputs": [],
   "source": [
    "suppressPackageStartupMessages(library(tidymodels))\n",
    "suppressPackageStartupMessages(library(ISLR))\n",
    "suppressPackageStartupMessages(library(discrim))\n",
    "suppressPackageStartupMessages(library(corrr))\n"
   ]
  },
  {
   "cell_type": "code",
   "execution_count": 2,
   "metadata": {
    "vscode": {
     "languageId": "r"
    }
   },
   "outputs": [
    {
     "data": {
      "text/html": [
       "<table>\n",
       "<caption>A data.frame: 6 × 18</caption>\n",
       "<thead>\n",
       "\t<tr><th></th><th scope=col>Purchase</th><th scope=col>WeekofPurchase</th><th scope=col>StoreID</th><th scope=col>PriceCH</th><th scope=col>PriceMM</th><th scope=col>DiscCH</th><th scope=col>DiscMM</th><th scope=col>SpecialCH</th><th scope=col>SpecialMM</th><th scope=col>LoyalCH</th><th scope=col>SalePriceMM</th><th scope=col>SalePriceCH</th><th scope=col>PriceDiff</th><th scope=col>Store7</th><th scope=col>PctDiscMM</th><th scope=col>PctDiscCH</th><th scope=col>ListPriceDiff</th><th scope=col>STORE</th></tr>\n",
       "\t<tr><th></th><th scope=col>&lt;fct&gt;</th><th scope=col>&lt;dbl&gt;</th><th scope=col>&lt;dbl&gt;</th><th scope=col>&lt;dbl&gt;</th><th scope=col>&lt;dbl&gt;</th><th scope=col>&lt;dbl&gt;</th><th scope=col>&lt;dbl&gt;</th><th scope=col>&lt;dbl&gt;</th><th scope=col>&lt;dbl&gt;</th><th scope=col>&lt;dbl&gt;</th><th scope=col>&lt;dbl&gt;</th><th scope=col>&lt;dbl&gt;</th><th scope=col>&lt;dbl&gt;</th><th scope=col>&lt;fct&gt;</th><th scope=col>&lt;dbl&gt;</th><th scope=col>&lt;dbl&gt;</th><th scope=col>&lt;dbl&gt;</th><th scope=col>&lt;dbl&gt;</th></tr>\n",
       "</thead>\n",
       "<tbody>\n",
       "\t<tr><th scope=row>1</th><td>CH</td><td>237</td><td>1</td><td>1.75</td><td>1.99</td><td>0.00</td><td>0.0</td><td>0</td><td>0</td><td>0.500000</td><td>1.99</td><td>1.75</td><td> 0.24</td><td>No </td><td>0.000000</td><td>0.000000</td><td>0.24</td><td>1</td></tr>\n",
       "\t<tr><th scope=row>2</th><td>CH</td><td>239</td><td>1</td><td>1.75</td><td>1.99</td><td>0.00</td><td>0.3</td><td>0</td><td>1</td><td>0.600000</td><td>1.69</td><td>1.75</td><td>-0.06</td><td>No </td><td>0.150754</td><td>0.000000</td><td>0.24</td><td>1</td></tr>\n",
       "\t<tr><th scope=row>3</th><td>CH</td><td>245</td><td>1</td><td>1.86</td><td>2.09</td><td>0.17</td><td>0.0</td><td>0</td><td>0</td><td>0.680000</td><td>2.09</td><td>1.69</td><td> 0.40</td><td>No </td><td>0.000000</td><td>0.091398</td><td>0.23</td><td>1</td></tr>\n",
       "\t<tr><th scope=row>4</th><td>MM</td><td>227</td><td>1</td><td>1.69</td><td>1.69</td><td>0.00</td><td>0.0</td><td>0</td><td>0</td><td>0.400000</td><td>1.69</td><td>1.69</td><td> 0.00</td><td>No </td><td>0.000000</td><td>0.000000</td><td>0.00</td><td>1</td></tr>\n",
       "\t<tr><th scope=row>5</th><td>CH</td><td>228</td><td>7</td><td>1.69</td><td>1.69</td><td>0.00</td><td>0.0</td><td>0</td><td>0</td><td>0.956535</td><td>1.69</td><td>1.69</td><td> 0.00</td><td>Yes</td><td>0.000000</td><td>0.000000</td><td>0.00</td><td>0</td></tr>\n",
       "\t<tr><th scope=row>6</th><td>CH</td><td>230</td><td>7</td><td>1.69</td><td>1.99</td><td>0.00</td><td>0.0</td><td>0</td><td>1</td><td>0.965228</td><td>1.99</td><td>1.69</td><td> 0.30</td><td>Yes</td><td>0.000000</td><td>0.000000</td><td>0.30</td><td>0</td></tr>\n",
       "</tbody>\n",
       "</table>\n"
      ],
      "text/latex": [
       "A data.frame: 6 × 18\n",
       "\\begin{tabular}{r|llllllllllllllllll}\n",
       "  & Purchase & WeekofPurchase & StoreID & PriceCH & PriceMM & DiscCH & DiscMM & SpecialCH & SpecialMM & LoyalCH & SalePriceMM & SalePriceCH & PriceDiff & Store7 & PctDiscMM & PctDiscCH & ListPriceDiff & STORE\\\\\n",
       "  & <fct> & <dbl> & <dbl> & <dbl> & <dbl> & <dbl> & <dbl> & <dbl> & <dbl> & <dbl> & <dbl> & <dbl> & <dbl> & <fct> & <dbl> & <dbl> & <dbl> & <dbl>\\\\\n",
       "\\hline\n",
       "\t1 & CH & 237 & 1 & 1.75 & 1.99 & 0.00 & 0.0 & 0 & 0 & 0.500000 & 1.99 & 1.75 &  0.24 & No  & 0.000000 & 0.000000 & 0.24 & 1\\\\\n",
       "\t2 & CH & 239 & 1 & 1.75 & 1.99 & 0.00 & 0.3 & 0 & 1 & 0.600000 & 1.69 & 1.75 & -0.06 & No  & 0.150754 & 0.000000 & 0.24 & 1\\\\\n",
       "\t3 & CH & 245 & 1 & 1.86 & 2.09 & 0.17 & 0.0 & 0 & 0 & 0.680000 & 2.09 & 1.69 &  0.40 & No  & 0.000000 & 0.091398 & 0.23 & 1\\\\\n",
       "\t4 & MM & 227 & 1 & 1.69 & 1.69 & 0.00 & 0.0 & 0 & 0 & 0.400000 & 1.69 & 1.69 &  0.00 & No  & 0.000000 & 0.000000 & 0.00 & 1\\\\\n",
       "\t5 & CH & 228 & 7 & 1.69 & 1.69 & 0.00 & 0.0 & 0 & 0 & 0.956535 & 1.69 & 1.69 &  0.00 & Yes & 0.000000 & 0.000000 & 0.00 & 0\\\\\n",
       "\t6 & CH & 230 & 7 & 1.69 & 1.99 & 0.00 & 0.0 & 0 & 1 & 0.965228 & 1.99 & 1.69 &  0.30 & Yes & 0.000000 & 0.000000 & 0.30 & 0\\\\\n",
       "\\end{tabular}\n"
      ],
      "text/markdown": [
       "\n",
       "A data.frame: 6 × 18\n",
       "\n",
       "| <!--/--> | Purchase &lt;fct&gt; | WeekofPurchase &lt;dbl&gt; | StoreID &lt;dbl&gt; | PriceCH &lt;dbl&gt; | PriceMM &lt;dbl&gt; | DiscCH &lt;dbl&gt; | DiscMM &lt;dbl&gt; | SpecialCH &lt;dbl&gt; | SpecialMM &lt;dbl&gt; | LoyalCH &lt;dbl&gt; | SalePriceMM &lt;dbl&gt; | SalePriceCH &lt;dbl&gt; | PriceDiff &lt;dbl&gt; | Store7 &lt;fct&gt; | PctDiscMM &lt;dbl&gt; | PctDiscCH &lt;dbl&gt; | ListPriceDiff &lt;dbl&gt; | STORE &lt;dbl&gt; |\n",
       "|---|---|---|---|---|---|---|---|---|---|---|---|---|---|---|---|---|---|---|\n",
       "| 1 | CH | 237 | 1 | 1.75 | 1.99 | 0.00 | 0.0 | 0 | 0 | 0.500000 | 1.99 | 1.75 |  0.24 | No  | 0.000000 | 0.000000 | 0.24 | 1 |\n",
       "| 2 | CH | 239 | 1 | 1.75 | 1.99 | 0.00 | 0.3 | 0 | 1 | 0.600000 | 1.69 | 1.75 | -0.06 | No  | 0.150754 | 0.000000 | 0.24 | 1 |\n",
       "| 3 | CH | 245 | 1 | 1.86 | 2.09 | 0.17 | 0.0 | 0 | 0 | 0.680000 | 2.09 | 1.69 |  0.40 | No  | 0.000000 | 0.091398 | 0.23 | 1 |\n",
       "| 4 | MM | 227 | 1 | 1.69 | 1.69 | 0.00 | 0.0 | 0 | 0 | 0.400000 | 1.69 | 1.69 |  0.00 | No  | 0.000000 | 0.000000 | 0.00 | 1 |\n",
       "| 5 | CH | 228 | 7 | 1.69 | 1.69 | 0.00 | 0.0 | 0 | 0 | 0.956535 | 1.69 | 1.69 |  0.00 | Yes | 0.000000 | 0.000000 | 0.00 | 0 |\n",
       "| 6 | CH | 230 | 7 | 1.69 | 1.99 | 0.00 | 0.0 | 0 | 1 | 0.965228 | 1.99 | 1.69 |  0.30 | Yes | 0.000000 | 0.000000 | 0.30 | 0 |\n",
       "\n"
      ],
      "text/plain": [
       "  Purchase WeekofPurchase StoreID PriceCH PriceMM DiscCH DiscMM SpecialCH\n",
       "1 CH       237            1       1.75    1.99    0.00   0.0    0        \n",
       "2 CH       239            1       1.75    1.99    0.00   0.3    0        \n",
       "3 CH       245            1       1.86    2.09    0.17   0.0    0        \n",
       "4 MM       227            1       1.69    1.69    0.00   0.0    0        \n",
       "5 CH       228            7       1.69    1.69    0.00   0.0    0        \n",
       "6 CH       230            7       1.69    1.99    0.00   0.0    0        \n",
       "  SpecialMM LoyalCH  SalePriceMM SalePriceCH PriceDiff Store7 PctDiscMM\n",
       "1 0         0.500000 1.99        1.75         0.24     No     0.000000 \n",
       "2 1         0.600000 1.69        1.75        -0.06     No     0.150754 \n",
       "3 0         0.680000 2.09        1.69         0.40     No     0.000000 \n",
       "4 0         0.400000 1.69        1.69         0.00     No     0.000000 \n",
       "5 0         0.956535 1.69        1.69         0.00     Yes    0.000000 \n",
       "6 1         0.965228 1.99        1.69         0.30     Yes    0.000000 \n",
       "  PctDiscCH ListPriceDiff STORE\n",
       "1 0.000000  0.24          1    \n",
       "2 0.000000  0.24          1    \n",
       "3 0.091398  0.23          1    \n",
       "4 0.000000  0.00          1    \n",
       "5 0.000000  0.00          0    \n",
       "6 0.000000  0.30          0    "
      ]
     },
     "metadata": {},
     "output_type": "display_data"
    }
   ],
   "source": [
    "head(OJ)"
   ]
  },
  {
   "cell_type": "code",
   "execution_count": 3,
   "metadata": {
    "deletable": false,
    "editable": false,
    "nbgrader": {
     "checksum": "287d78cd7035832f460ce027572fc548",
     "grade": false,
     "grade_id": "cell-2ea3a28585c3f9d1",
     "locked": true,
     "schema_version": 3,
     "solution": false,
     "task": false
    },
    "vscode": {
     "languageId": "r"
    }
   },
   "outputs": [],
   "source": [
    "attach(OJ)"
   ]
  },
  {
   "cell_type": "code",
   "execution_count": 4,
   "metadata": {
    "vscode": {
     "languageId": "r"
    }
   },
   "outputs": [
    {
     "name": "stdout",
     "output_type": "stream",
     "text": [
      "'data.frame':\t1070 obs. of  18 variables:\n",
      " $ Purchase      : Factor w/ 2 levels \"CH\",\"MM\": 1 1 1 2 1 1 1 1 1 1 ...\n",
      " $ WeekofPurchase: num  237 239 245 227 228 230 232 234 235 238 ...\n",
      " $ StoreID       : num  1 1 1 1 7 7 7 7 7 7 ...\n",
      " $ PriceCH       : num  1.75 1.75 1.86 1.69 1.69 1.69 1.69 1.75 1.75 1.75 ...\n",
      " $ PriceMM       : num  1.99 1.99 2.09 1.69 1.69 1.99 1.99 1.99 1.99 1.99 ...\n",
      " $ DiscCH        : num  0 0 0.17 0 0 0 0 0 0 0 ...\n",
      " $ DiscMM        : num  0 0.3 0 0 0 0 0.4 0.4 0.4 0.4 ...\n",
      " $ SpecialCH     : num  0 0 0 0 0 0 1 1 0 0 ...\n",
      " $ SpecialMM     : num  0 1 0 0 0 1 1 0 0 0 ...\n",
      " $ LoyalCH       : num  0.5 0.6 0.68 0.4 0.957 ...\n",
      " $ SalePriceMM   : num  1.99 1.69 2.09 1.69 1.69 1.99 1.59 1.59 1.59 1.59 ...\n",
      " $ SalePriceCH   : num  1.75 1.75 1.69 1.69 1.69 1.69 1.69 1.75 1.75 1.75 ...\n",
      " $ PriceDiff     : num  0.24 -0.06 0.4 0 0 0.3 -0.1 -0.16 -0.16 -0.16 ...\n",
      " $ Store7        : Factor w/ 2 levels \"No\",\"Yes\": 1 1 1 1 2 2 2 2 2 2 ...\n",
      " $ PctDiscMM     : num  0 0.151 0 0 0 ...\n",
      " $ PctDiscCH     : num  0 0 0.0914 0 0 ...\n",
      " $ ListPriceDiff : num  0.24 0.24 0.23 0 0 0.3 0.3 0.24 0.24 0.24 ...\n",
      " $ STORE         : num  1 1 1 1 0 0 0 0 0 0 ...\n"
     ]
    }
   ],
   "source": [
    "str(OJ)"
   ]
  },
  {
   "cell_type": "markdown",
   "metadata": {
    "deletable": false,
    "editable": false,
    "nbgrader": {
     "checksum": "1581d502d6d10acfe458ebab743c8121",
     "grade": false,
     "grade_id": "cell-aa0613238becdb63",
     "locked": true,
     "schema_version": 3,
     "solution": false,
     "task": false
    }
   },
   "source": [
    "The `correlate()` function (from `corrr` package) will calculate the correlation matrix between all the variables that it is being fed."
   ]
  },
  {
   "cell_type": "code",
   "execution_count": null,
   "metadata": {
    "deletable": false,
    "editable": false,
    "nbgrader": {
     "checksum": "ea6fc8e317822a054d5284d9bd3bd2a6",
     "grade": false,
     "grade_id": "cell-9d60d2656c19ccde",
     "locked": true,
     "schema_version": 3,
     "solution": false,
     "task": false
    },
    "vscode": {
     "languageId": "r"
    }
   },
   "outputs": [],
   "source": [
    "cor_oj <- OJ %>%\n",
    "  select(-Purchase, -Store7) %>% #Remove Purchase & Store as it not numeric\n",
    "  correlate()"
   ]
  },
  {
   "cell_type": "markdown",
   "metadata": {
    "deletable": false,
    "editable": false,
    "nbgrader": {
     "checksum": "8092bd09af8c4ebca7171a41c6ca910d",
     "grade": false,
     "grade_id": "cell-2e5fdd7a0012667f",
     "locked": true,
     "schema_version": 3,
     "solution": false,
     "task": false
    }
   },
   "source": [
    "Lets pass this correlation to `rplot()` to visualize the correlation matrix"
   ]
  },
  {
   "cell_type": "code",
   "execution_count": null,
   "metadata": {
    "deletable": false,
    "editable": false,
    "nbgrader": {
     "checksum": "9991d269dd2ff3d45f3ff1fe319db594",
     "grade": false,
     "grade_id": "cell-b76a19b4a00b3e39",
     "locked": true,
     "schema_version": 3,
     "solution": false,
     "task": false
    },
    "vscode": {
     "languageId": "r"
    }
   },
   "outputs": [],
   "source": [
    "rplot(cor_oj, colours = c(\"indianred2\", \"black\", \"skyblue1\"))"
   ]
  },
  {
   "cell_type": "markdown",
   "metadata": {
    "deletable": false,
    "editable": false,
    "nbgrader": {
     "checksum": "2dbe8bad0b144caa576733f78762bd71",
     "grade": false,
     "grade_id": "cell-c5617ac92a9248cd",
     "locked": true,
     "schema_version": 3,
     "solution": false,
     "task": false
    }
   },
   "source": [
    "## Logistic Regression\n",
    "\n",
    "Now we will fit a logistic regression model. We will again use the `parsnip` package, and we will use `logistic_reg()` to create a logistic regression model specification."
   ]
  },
  {
   "cell_type": "code",
   "execution_count": null,
   "metadata": {
    "deletable": false,
    "editable": false,
    "nbgrader": {
     "checksum": "dcde6e19853de1f0197689c08e5d1f1b",
     "grade": false,
     "grade_id": "cell-8ef12e262df657c9",
     "locked": true,
     "schema_version": 3,
     "solution": false,
     "task": false
    },
    "vscode": {
     "languageId": "r"
    }
   },
   "outputs": [],
   "source": [
    "lr_spec <- logistic_reg() %>%\n",
    "  set_engine(\"glm\") %>% #default engine\n",
    "  set_mode(\"classification\") #default mode"
   ]
  },
  {
   "cell_type": "markdown",
   "metadata": {
    "deletable": false,
    "editable": false,
    "nbgrader": {
     "checksum": "8f1d13c064dbdcd88098d0e6b0cd2a6e",
     "grade": false,
     "grade_id": "cell-52bcfa4c17a16dfc",
     "locked": true,
     "schema_version": 3,
     "solution": false,
     "task": false
    }
   },
   "source": [
    "We want to model the `Direction` of the stock market based on the percentage return from the 5 previous days plus the volume of shares traded. "
   ]
  },
  {
   "cell_type": "code",
   "execution_count": null,
   "metadata": {
    "deletable": false,
    "editable": false,
    "nbgrader": {
     "checksum": "caf7846aea374ad656dc546b23222d77",
     "grade": false,
     "grade_id": "cell-aa33bdb287109e7d",
     "locked": true,
     "schema_version": 3,
     "solution": false,
     "task": false
    },
    "vscode": {
     "languageId": "r"
    }
   },
   "outputs": [],
   "source": [
    "lr_fit <- lr_spec %>%\n",
    "  fit(\n",
    "    Purchase ~ PriceCH + PriceMM + SalePriceMM + SalePriceCH + WeekofPurchase,\n",
    "    data = OJ\n",
    "    )\n",
    "\n",
    "lr_fit"
   ]
  },
  {
   "cell_type": "code",
   "execution_count": null,
   "metadata": {
    "deletable": false,
    "editable": false,
    "nbgrader": {
     "checksum": "dd0054cb4bbb1af3893831ec9f7e4a85",
     "grade": false,
     "grade_id": "cell-32608671d1f569f8",
     "locked": true,
     "schema_version": 3,
     "solution": false,
     "task": false
    },
    "vscode": {
     "languageId": "r"
    }
   },
   "outputs": [],
   "source": [
    "lr_fit %>%\n",
    "  pluck(\"fit\") %>%\n",
    "  summary()"
   ]
  },
  {
   "cell_type": "markdown",
   "metadata": {
    "deletable": false,
    "editable": false,
    "nbgrader": {
     "checksum": "b327fe065f902c80fcf91c2614c2d01b",
     "grade": false,
     "grade_id": "cell-5bc863a496b67303",
     "locked": true,
     "schema_version": 3,
     "solution": false,
     "task": false
    }
   },
   "source": [
    "The `summary()` lets us see a couple of different things such as; parameter estimates, standard errors, p-values, and model fit statistics. \n",
    "\n",
    "we can use the `tidy()` function to extract some of these model attributes for further analysis or presentation."
   ]
  },
  {
   "cell_type": "code",
   "execution_count": null,
   "metadata": {
    "deletable": false,
    "editable": false,
    "nbgrader": {
     "checksum": "d3703f3407d6dba9df7e389a2f50959a",
     "grade": false,
     "grade_id": "cell-a00548e6c141ebb9",
     "locked": true,
     "schema_version": 3,
     "solution": false,
     "task": false
    },
    "vscode": {
     "languageId": "r"
    }
   },
   "outputs": [],
   "source": [
    "tidy(lr_fit)"
   ]
  },
  {
   "cell_type": "code",
   "execution_count": null,
   "metadata": {
    "deletable": false,
    "editable": false,
    "nbgrader": {
     "checksum": "22d9db7692c2589c64292d8f991e8475",
     "grade": false,
     "grade_id": "cell-7b2e074737588c42",
     "locked": true,
     "schema_version": 3,
     "solution": false,
     "task": false
    },
    "vscode": {
     "languageId": "r"
    }
   },
   "outputs": [],
   "source": [
    "predict(lr_fit, new_data = OJ)"
   ]
  },
  {
   "cell_type": "markdown",
   "metadata": {
    "deletable": false,
    "editable": false,
    "nbgrader": {
     "checksum": "7a1afd6eaff2e2f71bf12b09bb8b83dd",
     "grade": false,
     "grade_id": "cell-3dc8381171f81169",
     "locked": true,
     "schema_version": 3,
     "solution": false,
     "task": false
    }
   },
   "source": [
    "The result is a tibble with a single column `.pred_class` which will be a factor variable of the same labels as the original training data set.\n",
    "\n",
    "We can also get back probability predictions, by specifying `type = \"prob\"`"
   ]
  },
  {
   "cell_type": "code",
   "execution_count": null,
   "metadata": {
    "deletable": false,
    "editable": false,
    "nbgrader": {
     "checksum": "1610f42bebb5d5caf63d991fdcbe57d3",
     "grade": false,
     "grade_id": "cell-9e6f6dc6988df569",
     "locked": true,
     "schema_version": 3,
     "solution": false,
     "task": false
    },
    "vscode": {
     "languageId": "r"
    }
   },
   "outputs": [],
   "source": [
    "predict(lr_fit, new_data = OJ, type = \"prob\")"
   ]
  },
  {
   "cell_type": "markdown",
   "metadata": {
    "deletable": false,
    "editable": false,
    "nbgrader": {
     "checksum": "f724c3a169f858d62b96f43dec537f63",
     "grade": false,
     "grade_id": "cell-cc86a7fd45f79655",
     "locked": true,
     "schema_version": 3,
     "solution": false,
     "task": false
    }
   },
   "source": [
    "We can describe a `confusion matrix` that would help us understand how well the predictive model is preforming by given a table of predicted values against the true value\n",
    "\n",
    "`augment()` function helps add the predictions to the `data.frame` and then use that to look at model performance metrics."
   ]
  },
  {
   "cell_type": "code",
   "execution_count": null,
   "metadata": {
    "deletable": false,
    "editable": false,
    "nbgrader": {
     "checksum": "bbe753fc0e5dd0f5382eeacdf62fcd2f",
     "grade": false,
     "grade_id": "cell-69d60cd022c6c6bd",
     "locked": true,
     "schema_version": 3,
     "solution": false,
     "task": false
    },
    "vscode": {
     "languageId": "r"
    }
   },
   "outputs": [],
   "source": [
    "augment(lr_fit, new_data = OJ) %>%\n",
    "  conf_mat(truth = Purchase, estimate = .pred_class)"
   ]
  },
  {
   "cell_type": "markdown",
   "metadata": {
    "deletable": false,
    "editable": false,
    "nbgrader": {
     "checksum": "169db7e9efcf0f5df32ea0527018d7cd",
     "grade": false,
     "grade_id": "cell-7b1208536f105fc0",
     "locked": true,
     "schema_version": 3,
     "solution": false,
     "task": false
    }
   },
   "source": [
    " We can represent this as a `heatmap`"
   ]
  },
  {
   "cell_type": "code",
   "execution_count": null,
   "metadata": {
    "deletable": false,
    "editable": false,
    "nbgrader": {
     "checksum": "845feb1e67b07e98792af97952268553",
     "grade": false,
     "grade_id": "cell-9207e5b34993407b",
     "locked": true,
     "schema_version": 3,
     "solution": false,
     "task": false
    },
    "vscode": {
     "languageId": "r"
    }
   },
   "outputs": [],
   "source": [
    "augment(lr_fit, new_data = OJ) %>%\n",
    "  conf_mat(truth = Purchase, estimate = .pred_class) %>%\n",
    "  autoplot(type = \"heatmap\")"
   ]
  },
  {
   "cell_type": "markdown",
   "metadata": {
    "deletable": false,
    "editable": false,
    "nbgrader": {
     "checksum": "523c7edace5af223518db0b1affcaca2",
     "grade": false,
     "grade_id": "cell-6f0c6afa7d5e0c04",
     "locked": true,
     "schema_version": 3,
     "solution": false,
     "task": false
    }
   },
   "source": [
    "A good performing model would ideally have high numbers along the diagonal (up-left to down-right) with small numbers on the off-diagonal. We see here that the model isn’t great, as it tends to predict `\"CH\"` as `\"MM\"` more often than it should.\n",
    "\n",
    "We can also calculate various performance metrics. One of the most common metrics is accuracy, which is how often the model predicted correctly as a percentage."
   ]
  },
  {
   "cell_type": "code",
   "execution_count": null,
   "metadata": {
    "deletable": false,
    "editable": false,
    "nbgrader": {
     "checksum": "58c4483886130a4bc112e2078dcb56a9",
     "grade": false,
     "grade_id": "cell-c03344365627e23f",
     "locked": true,
     "schema_version": 3,
     "solution": false,
     "task": false
    },
    "vscode": {
     "languageId": "r"
    }
   },
   "outputs": [],
   "source": [
    "augment(lr_fit, new_data = OJ) %>%\n",
    "  accuracy(truth = Purchase, estimate = .pred_class)"
   ]
  },
  {
   "cell_type": "markdown",
   "metadata": {
    "deletable": false,
    "editable": false,
    "nbgrader": {
     "checksum": "ca040f8e067a5242d4eee9ead79f910f",
     "grade": false,
     "grade_id": "cell-b1f3a488719fb0b0",
     "locked": true,
     "schema_version": 3,
     "solution": false,
     "task": false
    }
   },
   "source": [
    "Fitting a model and evaluating the model on the same data would give much information abou the model's performance.\n",
    "\n",
    "Let us instead split up the data, train it on some of it and then evaluate it on the other part of the data. Since we are working with some data that has a time component,lets train the data over a before a specific week and test it over the set of other weeks.\n",
    "\n",
    "This would more closely match how such a model would be used in real life."
   ]
  },
  {
   "cell_type": "code",
   "execution_count": 5,
   "metadata": {
    "vscode": {
     "languageId": "r"
    }
   },
   "outputs": [
    {
     "data": {
      "text/html": [
       "254.381308411215"
      ],
      "text/latex": [
       "254.381308411215"
      ],
      "text/markdown": [
       "254.381308411215"
      ],
      "text/plain": [
       "[1] 254.3813"
      ]
     },
     "metadata": {},
     "output_type": "display_data"
    }
   ],
   "source": [
    "mean(WeekofPurchase)"
   ]
  },
  {
   "cell_type": "code",
   "execution_count": 6,
   "metadata": {
    "deletable": false,
    "editable": false,
    "nbgrader": {
     "checksum": "a1addaadad341d8625d46546a31fe5ec",
     "grade": false,
     "grade_id": "cell-e73167bd5ffbd3af",
     "locked": true,
     "schema_version": 3,
     "solution": false,
     "task": false
    },
    "vscode": {
     "languageId": "r"
    }
   },
   "outputs": [
    {
     "data": {
      "text/html": [
       "<style>\n",
       ".list-inline {list-style: none; margin:0; padding: 0}\n",
       ".list-inline>li {display: inline-block}\n",
       ".list-inline>li:not(:last-child)::after {content: \"\\00b7\"; padding: 0 .5ex}\n",
       "</style>\n",
       "<ol class=list-inline><li>600</li><li>18</li></ol>\n"
      ],
      "text/latex": [
       "\\begin{enumerate*}\n",
       "\\item 600\n",
       "\\item 18\n",
       "\\end{enumerate*}\n"
      ],
      "text/markdown": [
       "1. 600\n",
       "2. 18\n",
       "\n",
       "\n"
      ],
      "text/plain": [
       "[1] 600  18"
      ]
     },
     "metadata": {},
     "output_type": "display_data"
    },
    {
     "data": {
      "text/html": [
       "<style>\n",
       ".list-inline {list-style: none; margin:0; padding: 0}\n",
       ".list-inline>li {display: inline-block}\n",
       ".list-inline>li:not(:last-child)::after {content: \"\\00b7\"; padding: 0 .5ex}\n",
       "</style>\n",
       "<ol class=list-inline><li>470</li><li>18</li></ol>\n"
      ],
      "text/latex": [
       "\\begin{enumerate*}\n",
       "\\item 470\n",
       "\\item 18\n",
       "\\end{enumerate*}\n"
      ],
      "text/markdown": [
       "1. 470\n",
       "2. 18\n",
       "\n",
       "\n"
      ],
      "text/plain": [
       "[1] 470  18"
      ]
     },
     "metadata": {},
     "output_type": "display_data"
    },
    {
     "data": {
      "text/html": [
       "<style>\n",
       ".list-inline {list-style: none; margin:0; padding: 0}\n",
       ".list-inline>li {display: inline-block}\n",
       ".list-inline>li:not(:last-child)::after {content: \"\\00b7\"; padding: 0 .5ex}\n",
       "</style>\n",
       "<ol class=list-inline><li>1070</li><li>18</li></ol>\n"
      ],
      "text/latex": [
       "\\begin{enumerate*}\n",
       "\\item 1070\n",
       "\\item 18\n",
       "\\end{enumerate*}\n"
      ],
      "text/markdown": [
       "1. 1070\n",
       "2. 18\n",
       "\n",
       "\n"
      ],
      "text/plain": [
       "[1] 1070   18"
      ]
     },
     "metadata": {},
     "output_type": "display_data"
    }
   ],
   "source": [
    "oj_train <- OJ %>%\n",
    "  filter(WeekofPurchase < 260)\n",
    "dim(oj_train)\n",
    "\n",
    "oj_test <- OJ %>%\n",
    "  filter(WeekofPurchase >= 260)\n",
    "dim(oj_test)\n",
    "\n",
    "dim(OJ)"
   ]
  },
  {
   "cell_type": "code",
   "execution_count": 7,
   "metadata": {
    "deletable": false,
    "nbgrader": {
     "checksum": "5e28d958cfe744e680088687691da0a5",
     "grade": false,
     "grade_id": "cell-fde5f0f8e7eca7ee",
     "locked": false,
     "schema_version": 3,
     "solution": true,
     "task": false
    },
    "vscode": {
     "languageId": "r"
    }
   },
   "outputs": [],
   "source": [
    "# Build an lr model that fits Purchase as response with other numeric variables\n",
    "# Predictors: PriceCH, PriceMM, DiscCH, DiscMM, PctDiscMM, PctDiscCH\n",
    "# Modeled over the training data set created above\n",
    "lr.fit = function(){\n",
    "    # Define the logistic regression model\n",
    "    lr_model <- logistic_reg() %>%\n",
    "    set_engine(\"glm\") %>%\n",
    "    set_mode(\"classification\")\n",
    "    \n",
    "    \n",
    "    lr_model %>%\n",
    "    fit(\n",
    "      Purchase ~ PriceCH + PriceMM + DiscCH + DiscMM + PctDiscMM + PctDiscCH,\n",
    "      data = oj_train\n",
    "    )\n",
    "    \n",
    "    \n",
    "    \n",
    "}\n"
   ]
  },
  {
   "cell_type": "code",
   "execution_count": 8,
   "metadata": {
    "deletable": false,
    "nbgrader": {
     "grade": true,
     "grade_id": "cell-06859e488695c083",
     "locked": true,
     "points": 20,
     "schema_version": 3,
     "solution": false,
     "task": false
    },
    "vscode": {
     "languageId": "r"
    }
   },
   "outputs": [],
   "source": [
    "summary = lr.fit() %>% pluck('fit') %>% summary()\n",
    "coeff = coef(summary)\n",
    "\n",
    "stopifnot(round(coeff[1],2) == 1.47) #Intercept test case\n",
    "stopifnot(round(coeff[2],2) == 2.99) #PriceCH test case"
   ]
  },
  {
   "cell_type": "code",
   "execution_count": 12,
   "metadata": {
    "vscode": {
     "languageId": "r"
    }
   },
   "outputs": [
    {
     "name": "stdout",
     "output_type": "stream",
     "text": [
      "[1] 1.469351\n",
      "[1] 2.986514\n"
     ]
    }
   ],
   "source": [
    "print(coeff[1])\n",
    "print(coeff[2])"
   ]
  },
  {
   "cell_type": "code",
   "execution_count": 13,
   "metadata": {
    "deletable": false,
    "nbgrader": {
     "grade": true,
     "grade_id": "cell-3e3ced588f8559c9",
     "locked": true,
     "points": 15,
     "schema_version": 3,
     "solution": false,
     "task": false
    },
    "vscode": {
     "languageId": "r"
    }
   },
   "outputs": [],
   "source": [
    "# hidden test cases"
   ]
  },
  {
   "cell_type": "code",
   "execution_count": 14,
   "metadata": {
    "vscode": {
     "languageId": "r"
    }
   },
   "outputs": [],
   "source": [
    "# Train the model\n",
    "lr_model <- lr.fit()"
   ]
  },
  {
   "cell_type": "code",
   "execution_count": 15,
   "metadata": {
    "vscode": {
     "languageId": "r"
    }
   },
   "outputs": [],
   "source": [
    "# Use the model to make predictions on the test data\n",
    "oj_test_predictions <- predict(lr_model, new_data = oj_test)"
   ]
  },
  {
   "cell_type": "code",
   "execution_count": 16,
   "metadata": {
    "vscode": {
     "languageId": "r"
    }
   },
   "outputs": [],
   "source": [
    "# Combine predictions with actual Purchase values for evaluation\n",
    "results <- bind_cols(oj_test_predictions, oj_test %>% select(Purchase))"
   ]
  },
  {
   "cell_type": "code",
   "execution_count": null,
   "metadata": {
    "vscode": {
     "languageId": "r"
    }
   },
   "outputs": [],
   "source": [
    "results"
   ]
  },
  {
   "cell_type": "code",
   "execution_count": null,
   "metadata": {
    "vscode": {
     "languageId": "r"
    }
   },
   "outputs": [],
   "source": [
    "# Evaluate the model\n",
    "confusion_matrix <- results %>%\n",
    "  conf_mat(truth = Purchase, estimate = .pred_class)"
   ]
  },
  {
   "cell_type": "code",
   "execution_count": null,
   "metadata": {
    "vscode": {
     "languageId": "r"
    }
   },
   "outputs": [],
   "source": [
    "accuracy <- results %>%\n",
    "  accuracy(truth = Purchase, estimate = .pred_class)"
   ]
  },
  {
   "cell_type": "code",
   "execution_count": null,
   "metadata": {
    "vscode": {
     "languageId": "r"
    }
   },
   "outputs": [],
   "source": [
    "# Print the confusion matrix and accuracy\n",
    "print(confusion_matrix)\n",
    "print(accuracy)"
   ]
  },
  {
   "cell_type": "code",
   "execution_count": null,
   "metadata": {
    "vscode": {
     "languageId": "r"
    }
   },
   "outputs": [],
   "source": [
    "### ----------------------------------------------"
   ]
  },
  {
   "cell_type": "code",
   "execution_count": null,
   "metadata": {
    "vscode": {
     "languageId": "r"
    }
   },
   "outputs": [],
   "source": []
  },
  {
   "cell_type": "code",
   "execution_count": 17,
   "metadata": {
    "deletable": false,
    "nbgrader": {
     "checksum": "628a613c36faf1ec5712ad12f2d3048e",
     "grade": false,
     "grade_id": "cell-f849d909e40977a8",
     "locked": false,
     "schema_version": 3,
     "solution": true,
     "task": false
    },
    "vscode": {
     "languageId": "r"
    }
   },
   "outputs": [],
   "source": [
    "# Return a confusion matrix and accuracy of the model lr.fit \n",
    "# the matrix has to be defined over the test data set \n",
    "confusion_matrix = function(){\n",
    "    confusion_matrix <- results %>%\n",
    "    conf_mat(truth = Purchase, estimate = .pred_class)\n",
    "    \n",
    "}\n",
    "\n",
    "accuracy.fit = function(){\n",
    "    accuracy <- results %>%\n",
    "    accuracy(truth = Purchase, estimate = .pred_class)\n",
    "    \n",
    "}"
   ]
  },
  {
   "cell_type": "code",
   "execution_count": 18,
   "metadata": {
    "deletable": false,
    "editable": false,
    "nbgrader": {
     "checksum": "d9aec14babd2dead087bae5ad4945d04",
     "grade": true,
     "grade_id": "cell-29e6fd439853e584",
     "locked": true,
     "points": 5,
     "schema_version": 3,
     "solution": false,
     "task": false
    },
    "vscode": {
     "languageId": "r"
    }
   },
   "outputs": [],
   "source": [
    "confusion_matrix()\n",
    "\n",
    "\n",
    "accuracy = accuracy.fit()\n",
    "stopifnot(round(accuracy[3],2) == 0.70) #Accuracy test case"
   ]
  },
  {
   "cell_type": "code",
   "execution_count": 19,
   "metadata": {
    "deletable": false,
    "nbgrader": {
     "grade": true,
     "grade_id": "cell-e158590cce2be0ba",
     "locked": true,
     "points": 5,
     "schema_version": 3,
     "solution": false,
     "task": false
    },
    "vscode": {
     "languageId": "r"
    }
   },
   "outputs": [],
   "source": [
    "# hidden test cases"
   ]
  },
  {
   "cell_type": "code",
   "execution_count": 21,
   "metadata": {
    "vscode": {
     "languageId": "r"
    }
   },
   "outputs": [
    {
     "name": "stdout",
     "output_type": "stream",
     "text": [
      "          Truth\n",
      "Prediction  CH  MM\n",
      "        CH 249  84\n",
      "        MM  59  78\n"
     ]
    }
   ],
   "source": [
    "print(confusion_matrix())"
   ]
  },
  {
   "cell_type": "code",
   "execution_count": 22,
   "metadata": {
    "vscode": {
     "languageId": "r"
    }
   },
   "outputs": [
    {
     "name": "stdout",
     "output_type": "stream",
     "text": [
      "\u001b[90m# A tibble: 1 × 3\u001b[39m\n",
      "  .metric  .estimator .estimate\n",
      "  \u001b[3m\u001b[90m<chr>\u001b[39m\u001b[23m    \u001b[3m\u001b[90m<chr>\u001b[39m\u001b[23m          \u001b[3m\u001b[90m<dbl>\u001b[39m\u001b[23m\n",
      "\u001b[90m1\u001b[39m accuracy binary         0.696\n"
     ]
    }
   ],
   "source": [
    "print(accuracy)"
   ]
  },
  {
   "cell_type": "markdown",
   "metadata": {
    "deletable": false,
    "editable": false,
    "nbgrader": {
     "checksum": "4661267bfbbebacca242ff57e7682b8c",
     "grade": false,
     "grade_id": "cell-d46e87b57ba123be",
     "locked": true,
     "schema_version": 3,
     "solution": false,
     "task": false
    }
   },
   "source": [
    "## Linear Discriminant Analysis\n",
    "\n",
    "We will use the `discrim_linear()` function to create a LDA specification. We are gonna use two predictors (`PriceCH` & `PriceMM`) for easy comparision"
   ]
  },
  {
   "cell_type": "code",
   "execution_count": 23,
   "metadata": {
    "deletable": false,
    "editable": false,
    "nbgrader": {
     "checksum": "56433e57fdd92aa8d11689a92e720264",
     "grade": false,
     "grade_id": "cell-b5bba7cc3522abfb",
     "locked": true,
     "schema_version": 3,
     "solution": false,
     "task": false
    },
    "vscode": {
     "languageId": "r"
    }
   },
   "outputs": [],
   "source": [
    "lda_spec <- discrim_linear() %>%\n",
    "  set_mode(\"classification\") %>%\n",
    "  set_engine(\"MASS\")"
   ]
  },
  {
   "cell_type": "code",
   "execution_count": 24,
   "metadata": {
    "deletable": false,
    "editable": false,
    "nbgrader": {
     "checksum": "7237602a9991f189639d5daae9479372",
     "grade": false,
     "grade_id": "cell-b40348da1d6e01ae",
     "locked": true,
     "schema_version": 3,
     "solution": false,
     "task": false
    },
    "vscode": {
     "languageId": "r"
    }
   },
   "outputs": [
    {
     "data": {
      "text/plain": [
       "parsnip model object\n",
       "\n",
       "Fit time:  8ms \n",
       "Call:\n",
       "lda(Purchase ~ PriceCH + PriceMM, data = data)\n",
       "\n",
       "Prior probabilities of groups:\n",
       "   CH    MM \n",
       "0.575 0.425 \n",
       "\n",
       "Group means:\n",
       "    PriceCH  PriceMM\n",
       "CH 1.831333 2.081101\n",
       "MM 1.816353 2.022980\n",
       "\n",
       "Coefficients of linear discriminants:\n",
       "              LD1\n",
       "PriceCH  7.069496\n",
       "PriceMM -8.507458"
      ]
     },
     "metadata": {},
     "output_type": "display_data"
    }
   ],
   "source": [
    "lda_fit = lda_spec %>%\n",
    "  fit(Purchase ~ PriceCH + PriceMM, data = oj_train)\n",
    "\n",
    "lda_fit"
   ]
  },
  {
   "cell_type": "code",
   "execution_count": 25,
   "metadata": {
    "deletable": false,
    "editable": false,
    "nbgrader": {
     "checksum": "1753687a2cc4fcdf7153390b5040810d",
     "grade": false,
     "grade_id": "cell-7aac4f66c75535db",
     "locked": true,
     "schema_version": 3,
     "solution": false,
     "task": false
    },
    "vscode": {
     "languageId": "r"
    }
   },
   "outputs": [
    {
     "data": {
      "text/html": [
       "<table>\n",
       "<caption>A tibble: 470 × 1</caption>\n",
       "<thead>\n",
       "\t<tr><th scope=col>.pred_class</th></tr>\n",
       "\t<tr><th scope=col>&lt;fct&gt;</th></tr>\n",
       "</thead>\n",
       "<tbody>\n",
       "\t<tr><td>CH</td></tr>\n",
       "\t<tr><td>CH</td></tr>\n",
       "\t<tr><td>CH</td></tr>\n",
       "\t<tr><td>MM</td></tr>\n",
       "\t<tr><td>MM</td></tr>\n",
       "\t<tr><td>CH</td></tr>\n",
       "\t<tr><td>CH</td></tr>\n",
       "\t<tr><td>CH</td></tr>\n",
       "\t<tr><td>CH</td></tr>\n",
       "\t<tr><td>CH</td></tr>\n",
       "\t<tr><td>CH</td></tr>\n",
       "\t<tr><td>CH</td></tr>\n",
       "\t<tr><td>CH</td></tr>\n",
       "\t<tr><td>MM</td></tr>\n",
       "\t<tr><td>CH</td></tr>\n",
       "\t<tr><td>CH</td></tr>\n",
       "\t<tr><td>CH</td></tr>\n",
       "\t<tr><td>MM</td></tr>\n",
       "\t<tr><td>MM</td></tr>\n",
       "\t<tr><td>MM</td></tr>\n",
       "\t<tr><td>MM</td></tr>\n",
       "\t<tr><td>MM</td></tr>\n",
       "\t<tr><td>MM</td></tr>\n",
       "\t<tr><td>MM</td></tr>\n",
       "\t<tr><td>MM</td></tr>\n",
       "\t<tr><td>MM</td></tr>\n",
       "\t<tr><td>MM</td></tr>\n",
       "\t<tr><td>MM</td></tr>\n",
       "\t<tr><td>MM</td></tr>\n",
       "\t<tr><td>MM</td></tr>\n",
       "\t<tr><td>⋮</td></tr>\n",
       "\t<tr><td>CH</td></tr>\n",
       "\t<tr><td>CH</td></tr>\n",
       "\t<tr><td>CH</td></tr>\n",
       "\t<tr><td>CH</td></tr>\n",
       "\t<tr><td>CH</td></tr>\n",
       "\t<tr><td>CH</td></tr>\n",
       "\t<tr><td>CH</td></tr>\n",
       "\t<tr><td>CH</td></tr>\n",
       "\t<tr><td>CH</td></tr>\n",
       "\t<tr><td>CH</td></tr>\n",
       "\t<tr><td>MM</td></tr>\n",
       "\t<tr><td>MM</td></tr>\n",
       "\t<tr><td>CH</td></tr>\n",
       "\t<tr><td>CH</td></tr>\n",
       "\t<tr><td>CH</td></tr>\n",
       "\t<tr><td>MM</td></tr>\n",
       "\t<tr><td>MM</td></tr>\n",
       "\t<tr><td>MM</td></tr>\n",
       "\t<tr><td>CH</td></tr>\n",
       "\t<tr><td>CH</td></tr>\n",
       "\t<tr><td>CH</td></tr>\n",
       "\t<tr><td>CH</td></tr>\n",
       "\t<tr><td>CH</td></tr>\n",
       "\t<tr><td>CH</td></tr>\n",
       "\t<tr><td>MM</td></tr>\n",
       "\t<tr><td>CH</td></tr>\n",
       "\t<tr><td>MM</td></tr>\n",
       "\t<tr><td>CH</td></tr>\n",
       "\t<tr><td>CH</td></tr>\n",
       "\t<tr><td>CH</td></tr>\n",
       "</tbody>\n",
       "</table>\n"
      ],
      "text/latex": [
       "A tibble: 470 × 1\n",
       "\\begin{tabular}{l}\n",
       " .pred\\_class\\\\\n",
       " <fct>\\\\\n",
       "\\hline\n",
       "\t CH\\\\\n",
       "\t CH\\\\\n",
       "\t CH\\\\\n",
       "\t MM\\\\\n",
       "\t MM\\\\\n",
       "\t CH\\\\\n",
       "\t CH\\\\\n",
       "\t CH\\\\\n",
       "\t CH\\\\\n",
       "\t CH\\\\\n",
       "\t CH\\\\\n",
       "\t CH\\\\\n",
       "\t CH\\\\\n",
       "\t MM\\\\\n",
       "\t CH\\\\\n",
       "\t CH\\\\\n",
       "\t CH\\\\\n",
       "\t MM\\\\\n",
       "\t MM\\\\\n",
       "\t MM\\\\\n",
       "\t MM\\\\\n",
       "\t MM\\\\\n",
       "\t MM\\\\\n",
       "\t MM\\\\\n",
       "\t MM\\\\\n",
       "\t MM\\\\\n",
       "\t MM\\\\\n",
       "\t MM\\\\\n",
       "\t MM\\\\\n",
       "\t MM\\\\\n",
       "\t ⋮\\\\\n",
       "\t CH\\\\\n",
       "\t CH\\\\\n",
       "\t CH\\\\\n",
       "\t CH\\\\\n",
       "\t CH\\\\\n",
       "\t CH\\\\\n",
       "\t CH\\\\\n",
       "\t CH\\\\\n",
       "\t CH\\\\\n",
       "\t CH\\\\\n",
       "\t MM\\\\\n",
       "\t MM\\\\\n",
       "\t CH\\\\\n",
       "\t CH\\\\\n",
       "\t CH\\\\\n",
       "\t MM\\\\\n",
       "\t MM\\\\\n",
       "\t MM\\\\\n",
       "\t CH\\\\\n",
       "\t CH\\\\\n",
       "\t CH\\\\\n",
       "\t CH\\\\\n",
       "\t CH\\\\\n",
       "\t CH\\\\\n",
       "\t MM\\\\\n",
       "\t CH\\\\\n",
       "\t MM\\\\\n",
       "\t CH\\\\\n",
       "\t CH\\\\\n",
       "\t CH\\\\\n",
       "\\end{tabular}\n"
      ],
      "text/markdown": [
       "\n",
       "A tibble: 470 × 1\n",
       "\n",
       "| .pred_class &lt;fct&gt; |\n",
       "|---|\n",
       "| CH |\n",
       "| CH |\n",
       "| CH |\n",
       "| MM |\n",
       "| MM |\n",
       "| CH |\n",
       "| CH |\n",
       "| CH |\n",
       "| CH |\n",
       "| CH |\n",
       "| CH |\n",
       "| CH |\n",
       "| CH |\n",
       "| MM |\n",
       "| CH |\n",
       "| CH |\n",
       "| CH |\n",
       "| MM |\n",
       "| MM |\n",
       "| MM |\n",
       "| MM |\n",
       "| MM |\n",
       "| MM |\n",
       "| MM |\n",
       "| MM |\n",
       "| MM |\n",
       "| MM |\n",
       "| MM |\n",
       "| MM |\n",
       "| MM |\n",
       "| ⋮ |\n",
       "| CH |\n",
       "| CH |\n",
       "| CH |\n",
       "| CH |\n",
       "| CH |\n",
       "| CH |\n",
       "| CH |\n",
       "| CH |\n",
       "| CH |\n",
       "| CH |\n",
       "| MM |\n",
       "| MM |\n",
       "| CH |\n",
       "| CH |\n",
       "| CH |\n",
       "| MM |\n",
       "| MM |\n",
       "| MM |\n",
       "| CH |\n",
       "| CH |\n",
       "| CH |\n",
       "| CH |\n",
       "| CH |\n",
       "| CH |\n",
       "| MM |\n",
       "| CH |\n",
       "| MM |\n",
       "| CH |\n",
       "| CH |\n",
       "| CH |\n",
       "\n"
      ],
      "text/plain": [
       "    .pred_class\n",
       "1   CH         \n",
       "2   CH         \n",
       "3   CH         \n",
       "4   MM         \n",
       "5   MM         \n",
       "6   CH         \n",
       "7   CH         \n",
       "8   CH         \n",
       "9   CH         \n",
       "10  CH         \n",
       "11  CH         \n",
       "12  CH         \n",
       "13  CH         \n",
       "14  MM         \n",
       "15  CH         \n",
       "16  CH         \n",
       "17  CH         \n",
       "18  MM         \n",
       "19  MM         \n",
       "20  MM         \n",
       "21  MM         \n",
       "22  MM         \n",
       "23  MM         \n",
       "24  MM         \n",
       "25  MM         \n",
       "26  MM         \n",
       "27  MM         \n",
       "28  MM         \n",
       "29  MM         \n",
       "30  MM         \n",
       "⋮   ⋮          \n",
       "441 CH         \n",
       "442 CH         \n",
       "443 CH         \n",
       "444 CH         \n",
       "445 CH         \n",
       "446 CH         \n",
       "447 CH         \n",
       "448 CH         \n",
       "449 CH         \n",
       "450 CH         \n",
       "451 MM         \n",
       "452 MM         \n",
       "453 CH         \n",
       "454 CH         \n",
       "455 CH         \n",
       "456 MM         \n",
       "457 MM         \n",
       "458 MM         \n",
       "459 CH         \n",
       "460 CH         \n",
       "461 CH         \n",
       "462 CH         \n",
       "463 CH         \n",
       "464 CH         \n",
       "465 MM         \n",
       "466 CH         \n",
       "467 MM         \n",
       "468 CH         \n",
       "469 CH         \n",
       "470 CH         "
      ]
     },
     "metadata": {},
     "output_type": "display_data"
    }
   ],
   "source": [
    "predict(lda_fit, new_data = oj_test)"
   ]
  },
  {
   "cell_type": "code",
   "execution_count": 26,
   "metadata": {
    "deletable": false,
    "editable": false,
    "nbgrader": {
     "checksum": "b42277d3baa2276f00d078fde2d3ce2e",
     "grade": false,
     "grade_id": "cell-9eef458bb7353ac6",
     "locked": true,
     "schema_version": 3,
     "solution": false,
     "task": false
    },
    "vscode": {
     "languageId": "r"
    }
   },
   "outputs": [
    {
     "data": {
      "text/plain": [
       "          Truth\n",
       "Prediction  CH  MM\n",
       "        CH 219 101\n",
       "        MM  89  61"
      ]
     },
     "metadata": {},
     "output_type": "display_data"
    },
    {
     "data": {
      "text/html": [
       "<table>\n",
       "<caption>A tibble: 1 × 3</caption>\n",
       "<thead>\n",
       "\t<tr><th scope=col>.metric</th><th scope=col>.estimator</th><th scope=col>.estimate</th></tr>\n",
       "\t<tr><th scope=col>&lt;chr&gt;</th><th scope=col>&lt;chr&gt;</th><th scope=col>&lt;dbl&gt;</th></tr>\n",
       "</thead>\n",
       "<tbody>\n",
       "\t<tr><td>accuracy</td><td>binary</td><td>0.5957447</td></tr>\n",
       "</tbody>\n",
       "</table>\n"
      ],
      "text/latex": [
       "A tibble: 1 × 3\n",
       "\\begin{tabular}{lll}\n",
       " .metric & .estimator & .estimate\\\\\n",
       " <chr> & <chr> & <dbl>\\\\\n",
       "\\hline\n",
       "\t accuracy & binary & 0.5957447\\\\\n",
       "\\end{tabular}\n"
      ],
      "text/markdown": [
       "\n",
       "A tibble: 1 × 3\n",
       "\n",
       "| .metric &lt;chr&gt; | .estimator &lt;chr&gt; | .estimate &lt;dbl&gt; |\n",
       "|---|---|---|\n",
       "| accuracy | binary | 0.5957447 |\n",
       "\n"
      ],
      "text/plain": [
       "  .metric  .estimator .estimate\n",
       "1 accuracy binary     0.5957447"
      ]
     },
     "metadata": {},
     "output_type": "display_data"
    }
   ],
   "source": [
    "#confusion matrix\n",
    "augment(lda_fit, new_data = oj_test) %>%\n",
    "  conf_mat(truth = Purchase, estimate = .pred_class)\n",
    "\n",
    "#accuracy \n",
    "augment(lda_fit, new_data = oj_test) %>%\n",
    "      accuracy(truth = Purchase, estimate = .pred_class)"
   ]
  },
  {
   "cell_type": "markdown",
   "metadata": {
    "deletable": false,
    "editable": false,
    "nbgrader": {
     "checksum": "72619dd1ff711eef5f9ac9a204b662bb",
     "grade": false,
     "grade_id": "cell-26b07540d8926c2f",
     "locked": true,
     "schema_version": 3,
     "solution": false,
     "task": false
    }
   },
   "source": [
    "Lets compare this to `lr()` fit"
   ]
  },
  {
   "cell_type": "code",
   "execution_count": 27,
   "metadata": {
    "deletable": false,
    "editable": false,
    "nbgrader": {
     "checksum": "e9a97a4de08897c77bf284d2c5546197",
     "grade": false,
     "grade_id": "cell-a818b5aa8c6d519b",
     "locked": true,
     "schema_version": 3,
     "solution": false,
     "task": false
    },
    "vscode": {
     "languageId": "r"
    }
   },
   "outputs": [
    {
     "data": {
      "text/html": [
       "<table>\n",
       "<caption>A tibble: 1 × 3</caption>\n",
       "<thead>\n",
       "\t<tr><th scope=col>.metric</th><th scope=col>.estimator</th><th scope=col>.estimate</th></tr>\n",
       "\t<tr><th scope=col>&lt;chr&gt;</th><th scope=col>&lt;chr&gt;</th><th scope=col>&lt;dbl&gt;</th></tr>\n",
       "</thead>\n",
       "<tbody>\n",
       "\t<tr><td>accuracy</td><td>binary</td><td>0.6957447</td></tr>\n",
       "</tbody>\n",
       "</table>\n"
      ],
      "text/latex": [
       "A tibble: 1 × 3\n",
       "\\begin{tabular}{lll}\n",
       " .metric & .estimator & .estimate\\\\\n",
       " <chr> & <chr> & <dbl>\\\\\n",
       "\\hline\n",
       "\t accuracy & binary & 0.6957447\\\\\n",
       "\\end{tabular}\n"
      ],
      "text/markdown": [
       "\n",
       "A tibble: 1 × 3\n",
       "\n",
       "| .metric &lt;chr&gt; | .estimator &lt;chr&gt; | .estimate &lt;dbl&gt; |\n",
       "|---|---|---|\n",
       "| accuracy | binary | 0.6957447 |\n",
       "\n"
      ],
      "text/plain": [
       "  .metric  .estimator .estimate\n",
       "1 accuracy binary     0.6957447"
      ]
     },
     "metadata": {},
     "output_type": "display_data"
    }
   ],
   "source": [
    "lda_fit_2 = lda_spec %>%\n",
    "  fit(Purchase ~ PriceCH + PriceMM + DiscCH + DiscMM + PctDiscMM + PctDiscCH,\n",
    "      data = oj_train)\n",
    "\n",
    "#accuracy\n",
    "augment(lda_fit_2, new_data = oj_test) %>%\n",
    "      accuracy(truth = Purchase, estimate = .pred_class)"
   ]
  },
  {
   "cell_type": "markdown",
   "metadata": {
    "deletable": false,
    "editable": false,
    "nbgrader": {
     "checksum": "c6b88339f40e067e2b94eea63658020f",
     "grade": false,
     "grade_id": "cell-eccae61c4b55610f",
     "locked": true,
     "schema_version": 3,
     "solution": false,
     "task": false
    }
   },
   "source": [
    "## Quadratic Discriminant Analysis\n",
    "\n",
    "We can fit a `QDA` model by using the `discrim_quad()` function. "
   ]
  },
  {
   "cell_type": "code",
   "execution_count": 28,
   "metadata": {
    "deletable": false,
    "editable": false,
    "nbgrader": {
     "checksum": "d50e2183c73bb543eb535aa4b1289f70",
     "grade": false,
     "grade_id": "cell-d6c183b300f5c464",
     "locked": true,
     "schema_version": 3,
     "solution": false,
     "task": false
    },
    "vscode": {
     "languageId": "r"
    }
   },
   "outputs": [],
   "source": [
    "qda_spec = discrim_quad() %>%\n",
    "  set_mode(\"classification\") %>%\n",
    "  set_engine(\"MASS\")"
   ]
  },
  {
   "cell_type": "markdown",
   "metadata": {
    "deletable": false,
    "editable": false,
    "nbgrader": {
     "checksum": "1efaa16a4359ea5718871c644ad4a91b",
     "grade": false,
     "grade_id": "cell-d62fcc6afe72b8d5",
     "locked": true,
     "schema_version": 3,
     "solution": false,
     "task": false
    }
   },
   "source": [
    "`qda_spec` has a similar usage as `lda_spec`. so, "
   ]
  },
  {
   "cell_type": "code",
   "execution_count": 29,
   "metadata": {
    "deletable": false,
    "editable": false,
    "nbgrader": {
     "checksum": "28c852bf5fc599bb3e074a01aa2e9cec",
     "grade": false,
     "grade_id": "cell-e541e2641dc2b9f4",
     "locked": true,
     "schema_version": 3,
     "solution": false,
     "task": false
    },
    "vscode": {
     "languageId": "r"
    }
   },
   "outputs": [
    {
     "data": {
      "text/plain": [
       "parsnip model object\n",
       "\n",
       "Fit time:  5ms \n",
       "Call:\n",
       "qda(Purchase ~ PriceCH + PriceMM, data = data)\n",
       "\n",
       "Prior probabilities of groups:\n",
       "   CH    MM \n",
       "0.575 0.425 \n",
       "\n",
       "Group means:\n",
       "    PriceCH  PriceMM\n",
       "CH 1.831333 2.081101\n",
       "MM 1.816353 2.022980"
      ]
     },
     "metadata": {},
     "output_type": "display_data"
    }
   ],
   "source": [
    "qda_fit = qda_spec %>% fit(Purchase ~ PriceCH + PriceMM, \n",
    "                           data = oj_train)\n",
    "qda_fit"
   ]
  },
  {
   "cell_type": "code",
   "execution_count": 30,
   "metadata": {
    "deletable": false,
    "editable": false,
    "nbgrader": {
     "checksum": "142b9bf6c85a3f6266c7de56a5d69a0a",
     "grade": false,
     "grade_id": "cell-d44df489170715a9",
     "locked": true,
     "schema_version": 3,
     "solution": false,
     "task": false
    },
    "vscode": {
     "languageId": "r"
    }
   },
   "outputs": [
    {
     "data": {
      "text/plain": [
       "          Truth\n",
       "Prediction  CH  MM\n",
       "        CH 308 162\n",
       "        MM   0   0"
      ]
     },
     "metadata": {},
     "output_type": "display_data"
    },
    {
     "data": {
      "text/html": [
       "<table>\n",
       "<caption>A tibble: 1 × 3</caption>\n",
       "<thead>\n",
       "\t<tr><th scope=col>.metric</th><th scope=col>.estimator</th><th scope=col>.estimate</th></tr>\n",
       "\t<tr><th scope=col>&lt;chr&gt;</th><th scope=col>&lt;chr&gt;</th><th scope=col>&lt;dbl&gt;</th></tr>\n",
       "</thead>\n",
       "<tbody>\n",
       "\t<tr><td>accuracy</td><td>binary</td><td>0.6553191</td></tr>\n",
       "</tbody>\n",
       "</table>\n"
      ],
      "text/latex": [
       "A tibble: 1 × 3\n",
       "\\begin{tabular}{lll}\n",
       " .metric & .estimator & .estimate\\\\\n",
       " <chr> & <chr> & <dbl>\\\\\n",
       "\\hline\n",
       "\t accuracy & binary & 0.6553191\\\\\n",
       "\\end{tabular}\n"
      ],
      "text/markdown": [
       "\n",
       "A tibble: 1 × 3\n",
       "\n",
       "| .metric &lt;chr&gt; | .estimator &lt;chr&gt; | .estimate &lt;dbl&gt; |\n",
       "|---|---|---|\n",
       "| accuracy | binary | 0.6553191 |\n",
       "\n"
      ],
      "text/plain": [
       "  .metric  .estimator .estimate\n",
       "1 accuracy binary     0.6553191"
      ]
     },
     "metadata": {},
     "output_type": "display_data"
    }
   ],
   "source": [
    "#confusion matrix\n",
    "augment(qda_fit, new_data = oj_test) %>%\n",
    "  conf_mat(truth = Purchase, estimate = .pred_class) \n",
    "\n",
    "#accuracy\n",
    "augment(qda_fit, new_data = oj_test) %>%\n",
    "  accuracy(truth = Purchase, estimate = .pred_class) "
   ]
  },
  {
   "cell_type": "markdown",
   "metadata": {
    "deletable": false,
    "editable": false,
    "nbgrader": {
     "checksum": "0c8b63a2d08c21956a3c114e51f0f781",
     "grade": false,
     "grade_id": "cell-154f90adae8fe5f8",
     "locked": true,
     "schema_version": 3,
     "solution": false,
     "task": false
    }
   },
   "source": [
    "We can see that, `QDA` performs better compared to `LDA` using two predictors\n",
    "\n",
    "Now lets compare all the three fits with 6 predictors"
   ]
  },
  {
   "cell_type": "code",
   "execution_count": 31,
   "metadata": {
    "deletable": false,
    "editable": false,
    "nbgrader": {
     "checksum": "576fcec4d61f7e7a9c13f02d7e568292",
     "grade": false,
     "grade_id": "cell-2c9956278e266e61",
     "locked": true,
     "schema_version": 3,
     "solution": false,
     "task": false
    },
    "vscode": {
     "languageId": "r"
    }
   },
   "outputs": [
    {
     "data": {
      "text/html": [
       "<table>\n",
       "<caption>A tibble: 1 × 3</caption>\n",
       "<thead>\n",
       "\t<tr><th scope=col>.metric</th><th scope=col>.estimator</th><th scope=col>.estimate</th></tr>\n",
       "\t<tr><th scope=col>&lt;chr&gt;</th><th scope=col>&lt;chr&gt;</th><th scope=col>&lt;dbl&gt;</th></tr>\n",
       "</thead>\n",
       "<tbody>\n",
       "\t<tr><td>accuracy</td><td>binary</td><td>0.7361702</td></tr>\n",
       "</tbody>\n",
       "</table>\n"
      ],
      "text/latex": [
       "A tibble: 1 × 3\n",
       "\\begin{tabular}{lll}\n",
       " .metric & .estimator & .estimate\\\\\n",
       " <chr> & <chr> & <dbl>\\\\\n",
       "\\hline\n",
       "\t accuracy & binary & 0.7361702\\\\\n",
       "\\end{tabular}\n"
      ],
      "text/markdown": [
       "\n",
       "A tibble: 1 × 3\n",
       "\n",
       "| .metric &lt;chr&gt; | .estimator &lt;chr&gt; | .estimate &lt;dbl&gt; |\n",
       "|---|---|---|\n",
       "| accuracy | binary | 0.7361702 |\n",
       "\n"
      ],
      "text/plain": [
       "  .metric  .estimator .estimate\n",
       "1 accuracy binary     0.7361702"
      ]
     },
     "metadata": {},
     "output_type": "display_data"
    }
   ],
   "source": [
    "qda_fit_2 = qda_spec %>%\n",
    "  fit(Purchase ~ PriceCH + PriceMM + DiscCH + DiscMM + PctDiscMM + PctDiscCH,\n",
    "      data = oj_train)\n",
    "\n",
    "#accuracy\n",
    "augment(qda_fit_2, new_data = oj_test) %>%\n",
    "      accuracy(truth = Purchase, estimate = .pred_class)"
   ]
  },
  {
   "cell_type": "code",
   "execution_count": 32,
   "metadata": {
    "deletable": false,
    "editable": false,
    "nbgrader": {
     "checksum": "e23cc532d4aef2b77e365365b2fe4b73",
     "grade": false,
     "grade_id": "cell-8d7488f900dacd01",
     "locked": true,
     "schema_version": 3,
     "solution": false,
     "task": false
    },
    "vscode": {
     "languageId": "r"
    }
   },
   "outputs": [
    {
     "data": {
      "text/html": [
       "<table>\n",
       "<caption>A matrix: 1 × 3</caption>\n",
       "<thead>\n",
       "\t<tr><th scope=col>LR</th><th scope=col>LDA</th><th scope=col>QDA</th></tr>\n",
       "\t<tr><th scope=col>&lt;dbl&gt;</th><th scope=col>&lt;dbl&gt;</th><th scope=col>&lt;dbl&gt;</th></tr>\n",
       "</thead>\n",
       "<tbody>\n",
       "\t<tr><td>0.6957447</td><td>0.6957447</td><td>0.7361702</td></tr>\n",
       "</tbody>\n",
       "</table>\n"
      ],
      "text/latex": [
       "A matrix: 1 × 3\n",
       "\\begin{tabular}{lll}\n",
       " LR & LDA & QDA\\\\\n",
       " <dbl> & <dbl> & <dbl>\\\\\n",
       "\\hline\n",
       "\t 0.6957447 & 0.6957447 & 0.7361702\\\\\n",
       "\\end{tabular}\n"
      ],
      "text/markdown": [
       "\n",
       "A matrix: 1 × 3\n",
       "\n",
       "| LR &lt;dbl&gt; | LDA &lt;dbl&gt; | QDA &lt;dbl&gt; |\n",
       "|---|---|---|\n",
       "| 0.6957447 | 0.6957447 | 0.7361702 |\n",
       "\n"
      ],
      "text/plain": [
       "     LR        LDA       QDA      \n",
       "[1,] 0.6957447 0.6957447 0.7361702"
      ]
     },
     "metadata": {},
     "output_type": "display_data"
    }
   ],
   "source": [
    "get_accuracy = function(fit){\n",
    "    accuracy = augment(fit, new_data = oj_test) %>% \n",
    "      accuracy(truth = Purchase, estimate = .pred_class)\n",
    "    accuracy[3]\n",
    "}\n",
    "accuracy_matrix = matrix(c( get_accuracy(lr.fit())\n",
    "                           , get_accuracy(lda_fit_2)\n",
    "                           , get_accuracy(qda_fit_2))\n",
    "                           , nrow = 1, ncol = 3, byrow=FALSE)\n",
    "colnames(accuracy_matrix) = c(\"LR\", \"LDA\", \"QDA\")\n",
    "accuracy_matrix"
   ]
  },
  {
   "cell_type": "markdown",
   "metadata": {
    "deletable": false,
    "editable": false,
    "nbgrader": {
     "checksum": "810e8e6ae8119982d0f2110a579c0e74",
     "grade": false,
     "grade_id": "cell-4676719415fc5c20",
     "locked": true,
     "schema_version": 3,
     "solution": false,
     "task": false
    }
   },
   "source": [
    "we can see that the `QDA` works better for this data where as `LDA` and `LR` work similary for this data set"
   ]
  }
 ],
 "metadata": {
  "kernelspec": {
   "display_name": "R",
   "language": "R",
   "name": "ir"
  },
  "language_info": {
   "codemirror_mode": "r",
   "file_extension": ".r",
   "mimetype": "text/x-r-source",
   "name": "R",
   "pygments_lexer": "r",
   "version": "3.6.3"
  }
 },
 "nbformat": 4,
 "nbformat_minor": 4
}
